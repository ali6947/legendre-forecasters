{
  "nbformat": 4,
  "nbformat_minor": 0,
  "metadata": {
    "colab": {
      "name": "Legendre Memory Unit.ipynb",
      "provenance": [],
      "collapsed_sections": [],
      "toc_visible": true
    },
    "kernelspec": {
      "name": "python3",
      "display_name": "Python 3"
    },
    "accelerator": "GPU"
  },
  "cells": [
    {
      "cell_type": "markdown",
      "metadata": {
        "id": "77JYtCSwNJT5"
      },
      "source": [
        "# Initialisation"
      ]
    },
    {
      "cell_type": "code",
      "metadata": {
        "id": "qYahiHxsgZil",
        "colab": {
          "base_uri": "https://localhost:8080/"
        },
        "outputId": "65d25249-a70a-4497-b827-96b6871ad9b8"
      },
      "source": [
        "!pip install nengolib"
      ],
      "execution_count": 1,
      "outputs": [
        {
          "output_type": "stream",
          "text": [
            "Requirement already satisfied: nengolib in /usr/local/lib/python3.7/dist-packages (0.5.2)\n",
            "Requirement already satisfied: numpy>=1.13 in /usr/local/lib/python3.7/dist-packages (from nengolib) (1.19.5)\n",
            "Requirement already satisfied: nengo<3.0,>=2.2.0 in /usr/local/lib/python3.7/dist-packages (from nengolib) (2.8.0)\n",
            "Requirement already satisfied: scipy>=0.19.0 in /usr/local/lib/python3.7/dist-packages (from nengolib) (1.4.1)\n"
          ],
          "name": "stdout"
        }
      ]
    },
    {
      "cell_type": "markdown",
      "metadata": {
        "id": "Qis4g0t_NP7T"
      },
      "source": [
        "# LMU"
      ]
    },
    {
      "cell_type": "code",
      "metadata": {
        "id": "mAiRtAIA3kM4"
      },
      "source": [
        "import torch\n",
        "import torch.nn as nn\n",
        "from sympy.matrices import Matrix, eye, zeros, ones, diag, GramSchmidt\n",
        "import numpy as np\n",
        "from functools import partial\n",
        "import torch.nn.functional as F\n",
        "import math\n",
        "\n",
        "from nengolib.signal import Identity, cont2discrete\n",
        "from nengolib.synapses import LegendreDelay\n",
        "from functools import partial\n",
        "\n",
        "def lecun_uniform(tensor):\n",
        "    fan_in = nn.init._calculate_correct_fan(tensor, 'fan_in')\n",
        "    nn.init.uniform_(tensor, -math.sqrt(3 / fan_in), math.sqrt(3 / fan_in))\n",
        "    \n",
        "class LegendreMemoryUnitCell(nn.Module):\n",
        "  def __init__(self, input_dim, units , order, theta,\n",
        "                 input_encoders_initializer=lecun_uniform,\n",
        "                 hidden_encoders_initializer=lecun_uniform,\n",
        "                 memory_encoders_initializer=partial(torch.nn.init.constant_, val=0),\n",
        "                 input_kernel_initializer=torch.nn.init.xavier_normal_,\n",
        "                 hidden_kernel_initializer=torch.nn.init.xavier_normal_,\n",
        "                 memory_kernel_initializer=torch.nn.init.xavier_normal_):\n",
        "    super(LegendreMemoryUnitCell, self).__init__()\n",
        "\n",
        "    self.order = order\n",
        "    self.theta = theta\n",
        "    self.units = units\n",
        "    \n",
        "\n",
        "    realizer = Identity()\n",
        "    self._realizer_result = realizer(LegendreDelay(theta=theta, order=self.order))\n",
        "\n",
        "    self._ss = cont2discrete(self._realizer_result.realization, dt=1., method='zoh')\n",
        "\n",
        "    self._A = self._ss.A - np.eye(order)\n",
        "    self._B = self._ss.B\n",
        "    self._C = self._ss.C\n",
        "\n",
        "    self.AT = nn.Parameter(torch.Tensor(self._A), requires_grad=False)\n",
        "    self.BT = nn.Parameter(torch.Tensor(self._B), requires_grad=False)\n",
        "\n",
        "\n",
        "    self.encoder_input = nn.Parameter(torch.Tensor(1,input_dim), requires_grad=True)\n",
        "    self.encoder_hidden = nn.Parameter(torch.Tensor(1,self.units), requires_grad=True)\n",
        "    self.encoder_memory = nn.Parameter(torch.Tensor(1,self.order ), requires_grad=True)\n",
        "    self.kernel_input = nn.Parameter(torch.Tensor(self.units, input_dim), requires_grad=True)\n",
        "    self.kernel_hidden = nn.Parameter(torch.Tensor(self.units, self.units), requires_grad=True)\n",
        "    self.kernel_memory = nn.Parameter(torch.Tensor(self.units, self.order), requires_grad=True)\n",
        "    \n",
        "\n",
        "    input_encoders_initializer(self.encoder_input)\n",
        "    hidden_encoders_initializer(self.encoder_hidden)\n",
        "    memory_encoders_initializer(self.encoder_memory)\n",
        "    input_kernel_initializer(self.kernel_input)\n",
        "    hidden_kernel_initializer(self.kernel_hidden)\n",
        "    memory_kernel_initializer(self.kernel_memory)\n",
        "\n",
        "  def EulerOdeSolver(self):\n",
        "    A_hat = (self.step_delta_t/self.theta)*self.AT + torch.eye(self.order,self.d_order_ode)\n",
        "    B_hat = (self.step_delta_t/self.theta)*self.BT\n",
        "\n",
        "    return A_hat, B_hat\n",
        "\n",
        "  def forward(self, xt, states):\n",
        "    ht, mt = states\n",
        "\n",
        "    ut = F.linear(xt, self.encoder_input)\\\n",
        "     \\\n",
        "     +\\\n",
        "      F.linear(ht, self.encoder_hidden) \\\n",
        "      + \\\n",
        "     F.linear(mt, self.encoder_memory)\n",
        "\n",
        "    mt = mt + F.linear(mt, self.AT) + F.linear(ut, self.BT)\n",
        "\n",
        "    ht = nn.Tanh()(F.linear(xt, self.kernel_input) + F.linear(ht, self.kernel_hidden) + F.linear(mt, self.kernel_memory))\n",
        "    \n",
        "    return ht, (ht, mt)\n",
        "\n",
        "class LegendreMemoryUnit(nn.Module):\n",
        "  def __init__(self, input_dim, units , order, theta):\n",
        "    super(LegendreMemoryUnit, self).__init__()\n",
        "\n",
        "    self.units = units\n",
        "    self.order = order\n",
        "\n",
        "    self.lmucell = LegendreMemoryUnitCell(input_dim, units , order, theta)\n",
        "\n",
        "  def forward(self, xt):\n",
        "    outputs = []\n",
        "    \n",
        "    h0 = torch.zeros(xt.size(0),self.units).cuda()\n",
        "    m0 = torch.zeros(xt.size(0),self.order).cuda()\n",
        "    states = (h0,m0)\n",
        "    for i in range(xt.size(1)):\n",
        "      out, states = self.lmucell(xt[:,i,:], states)\n",
        "      outputs += [out]\n",
        "    return torch.stack(outputs).permute(1,0,2), states\n",
        "    # return torch.stack(outputs).permute(1,0,2), states\n"
      ],
      "execution_count": 4,
      "outputs": []
    },
    {
      "cell_type": "markdown",
      "metadata": {
        "id": "tRC62TebNYWJ"
      },
      "source": [
        "# Test LMU output"
      ]
    },
    {
      "cell_type": "code",
      "metadata": {
        "id": "JfTlZrsfbSXH",
        "colab": {
          "base_uri": "https://localhost:8080/"
        },
        "outputId": "c002309f-c6f9-47f2-d2a8-50b9e70f1e4a"
      },
      "source": [
        "x = torch.rand(64,5000,1).to(torch.device(\"cuda:0\"))\n",
        "h0 = torch.rand(64,49).to(torch.device(\"cuda:0\"))\n",
        "m0 = torch.rand(64,4).to(torch.device(\"cuda:0\"))\n",
        "model = LegendreMemoryUnit(1,49,4,4).to(torch.device(\"cuda:0\"))\n",
        "res, _ = model(x)\n",
        "print(res.shape)"
      ],
      "execution_count": 8,
      "outputs": [
        {
          "output_type": "stream",
          "text": [
            "torch.Size([64, 5000, 49])\n"
          ],
          "name": "stdout"
        }
      ]
    },
    {
      "cell_type": "markdown",
      "metadata": {
        "id": "mRuoDB59NvMX"
      },
      "source": [
        "# Models LSTM - LMU"
      ]
    },
    {
      "cell_type": "code",
      "metadata": {
        "id": "51nVz6TsX9Fc",
        "colab": {
          "base_uri": "https://localhost:8080/",
          "height": 51
        },
        "outputId": "b462673e-c6cd-43d4-d0eb-bf6a77587b29"
      },
      "source": [
        "class LMUModel(nn.Module):\n",
        "  def __init__(self):\n",
        "    super(LMUModel, self).__init__()\n",
        "    self.LMU = LegendreMemoryUnit(1,49,4,4)\n",
        "    self.dense = nn.Linear(49,1)\n",
        "\n",
        "  def forward(self,x):\n",
        "    x, _ = self.LMU(x)\n",
        "    x = self.dense(x)\n",
        "\n",
        "    return x\n",
        "\n",
        "model_lstm = LMUModel()\n",
        "\n",
        "print(\"Nombre de paramètres : \", sum(p.numel() for p in model_lstm.parameters() if p.requires_grad))\n",
        "print()\n"
      ],
      "execution_count": null,
      "outputs": [
        {
          "output_type": "stream",
          "text": [
            "Nombre de paramètres :  2750\n",
            "\n"
          ],
          "name": "stdout"
        }
      ]
    },
    {
      "cell_type": "code",
      "metadata": {
        "id": "DrNF6LetOGun",
        "colab": {
          "base_uri": "https://localhost:8080/",
          "height": 51
        },
        "outputId": "2cee9383-917c-4b57-e784-bde07f13abcc"
      },
      "source": [
        "class LSTMModel(nn.Module):\n",
        "  def __init__(self):\n",
        "    super(LSTMModel, self).__init__()\n",
        "    self.LSTM = nn.LSTM(1,25,1,batch_first=True)\n",
        "    self.dense = nn.Linear(25,1)\n",
        "\n",
        "  def forward(self,x):\n",
        "    x, _ = self.LSTM(x)\n",
        "    x = self.dense(x)\n",
        "\n",
        "    return x\n",
        "    \n",
        "model_lstm = LSTMModel()\n",
        "\n",
        "print(\"Nombre de paramètres : \", sum(p.numel() for p in model_lstm.parameters() if p.requires_grad))\n",
        "print()\n"
      ],
      "execution_count": null,
      "outputs": [
        {
          "output_type": "stream",
          "text": [
            "Nombre de paramètres :  2826\n",
            "\n"
          ],
          "name": "stdout"
        }
      ]
    },
    {
      "cell_type": "markdown",
      "metadata": {
        "id": "soOI6lS9Ocas"
      },
      "source": [
        "# MackeyGlass Datas"
      ]
    },
    {
      "cell_type": "markdown",
      "metadata": {
        "id": "rOkZjfzqvhBD"
      },
      "source": [
        "Took from official LMU (tensorflow) repo"
      ]
    },
    {
      "cell_type": "code",
      "metadata": {
        "id": "voyo-rQYD-56",
        "colab": {
          "base_uri": "https://localhost:8080/",
          "height": 345
        },
        "outputId": "90abf457-5d97-4d48-dc53-a8b47c88e3fc"
      },
      "source": [
        "import collections \n",
        "import matplotlib.pyplot as plt\n",
        "\n",
        "import numpy as np\n",
        "\n",
        "import matplotlib.pyplot as plt\n",
        "import seaborn as sns\n",
        "\n",
        "from keras.layers.core import Dense, Activation, Dropout\n",
        "from keras.layers.recurrent import LSTM, RNN\n",
        "from keras.initializers import RandomUniform\n",
        "from keras.models import Sequential\n",
        "from sklearn.metrics import mean_squared_error\n",
        "from torchsummary import summary\n",
        "\n",
        "def mackey_glass(sample_len=1000, tau=17, delta_t=10, seed=None, n_samples=1):\n",
        "    # Adapted from https://github.com/mila-iqia/summerschool2015/blob/master/rnn_tutorial/synthetic.py\n",
        "    '''\n",
        "    mackey_glass(sample_len=1000, tau=17, seed = None, n_samples = 1) -> input\n",
        "    Generate the Mackey Glass time-series. Parameters are:\n",
        "        - sample_len: length of the time-series in timesteps. Default is 1000.\n",
        "        - tau: delay of the MG - system. Commonly used values are tau=17 (mild \n",
        "          chaos) and tau=30 (moderate chaos). Default is 17.\n",
        "        - seed: to seed the random generator, can be used to generate the same\n",
        "          timeseries at each invocation.\n",
        "        - n_samples : number of samples to generate\n",
        "    '''\n",
        "    history_len = tau * delta_t \n",
        "    # Initial conditions for the history of the system\n",
        "    timeseries = 1.2\n",
        "    \n",
        "    if seed is not None:\n",
        "        np.random.seed(seed)\n",
        "\n",
        "    samples = []\n",
        "\n",
        "    for _ in range(n_samples):\n",
        "        history = collections.deque(1.2 * np.ones(history_len) + 0.2 * \\\n",
        "                                    (np.random.rand(history_len) - 0.5))\n",
        "        # Preallocate the array for the time-series\n",
        "        inp = np.zeros((sample_len,1))\n",
        "        \n",
        "        for timestep in range(sample_len):\n",
        "            for _ in range(delta_t):\n",
        "                xtau = history.popleft()\n",
        "                history.append(timeseries)\n",
        "                timeseries = history[-1] + (0.2 * xtau / (1.0 + xtau ** 10) - \\\n",
        "                             0.1 * history[-1]) / delta_t\n",
        "            inp[timestep] = timeseries\n",
        "        \n",
        "        # Squash timeseries through tanh\n",
        "        inp = np.tanh(inp - 1)\n",
        "        samples.append(inp)\n",
        "    return samples\n",
        "\n",
        "def generate_data(n_batches, length, split=0.5, seed=0,\n",
        "                  predict_length=15, tau=17, washout=100, delta_t=1,\n",
        "                  center=True):\n",
        "    X = np.asarray(mackey_glass(\n",
        "        sample_len=length+predict_length+washout, tau=tau,\n",
        "        seed=seed, n_samples=n_batches))\n",
        "    X = X[:, washout:, :]\n",
        "    cutoff = int(split*n_batches)\n",
        "    if center:\n",
        "        X -= np.mean(X)  # global mean over all batches, approx -0.066\n",
        "    Y = X[:, :-predict_length, :]\n",
        "    X = X[:, predict_length:, :]\n",
        "    assert X.shape == Y.shape\n",
        "    return ((X[:cutoff], Y[:cutoff]),\n",
        "            (X[cutoff:], Y[cutoff:]))\n",
        "\n",
        "(train_X, train_Y), (test_X, test_Y) = generate_data(128, 5000)\n",
        "print(train_X.shape, test_X.shape)\n",
        "\n",
        "def cool_plot(X, Y, title=\"\"):\n",
        "    plt.figure(figsize=(14, 8))\n",
        "    plt.title(title)\n",
        "    plt.scatter(X[:, 0], Y[:, 0] - X[:, 0], s=8, alpha=0.7,\n",
        "                c=np.arange(X.shape[0]), cmap=sns.cubehelix_palette(as_cmap=True))\n",
        "    plt.plot(X[:, 0], Y[:, 0] - X[:, 0], c='black', alpha=0.2)\n",
        "    plt.xlabel(\"$x(t)$\")\n",
        "    plt.ylabel(\"$y(t) - x(t)$\")\n",
        "    sns.despine(offset=15)\n",
        "    \n",
        "    plt.show()\n",
        "\n",
        "# cool_plot(train_X[0], train_Y[0])\n",
        "\n",
        "plt.plot(train_X[0][0:100])\n",
        "plt.plot(train_Y[0][0:100])\n",
        "plt.show()\n",
        "\n"
      ],
      "execution_count": null,
      "outputs": [
        {
          "output_type": "stream",
          "text": [
            "Using TensorFlow backend.\n"
          ],
          "name": "stderr"
        },
        {
          "output_type": "display_data",
          "data": {
            "text/html": [
              "<p style=\"color: red;\">\n",
              "The default version of TensorFlow in Colab will soon switch to TensorFlow 2.x.<br>\n",
              "We recommend you <a href=\"https://www.tensorflow.org/guide/migrate\" target=\"_blank\">upgrade</a> now \n",
              "or ensure your notebook will continue to use TensorFlow 1.x via the <code>%tensorflow_version 1.x</code> magic:\n",
              "<a href=\"https://colab.research.google.com/notebooks/tensorflow_version.ipynb\" target=\"_blank\">more info</a>.</p>\n"
            ],
            "text/plain": [
              "<IPython.core.display.HTML object>"
            ]
          },
          "metadata": {
            "tags": []
          }
        },
        {
          "output_type": "stream",
          "text": [
            "(64, 5000, 1) (64, 5000, 1)\n"
          ],
          "name": "stdout"
        },
        {
          "output_type": "display_data",
          "data": {
            "image/png": "[encoded data removed]",
            "text/plain": [
              "<Figure size 432x288 with 1 Axes>"
            ]
          },
          "metadata": {
            "tags": []
          }
        }
      ]
    },
    {
      "cell_type": "markdown",
      "metadata": {
        "id": "3xncoH8HPLsg"
      },
      "source": [
        "# Utils"
      ]
    },
    {
      "cell_type": "code",
      "metadata": {
        "id": "yaCT4Pi_PakY"
      },
      "source": [
        "def train(model, epochs, dataset, dataset_valid = None):\n",
        "  for e in range(epochs):\n",
        "      model.train()\n",
        "      running_loss = 0\n",
        "      with tqdm(total=len(dataset)) as bar:\n",
        "        for i, (X, y) in enumerate(dataset):\n",
        "            optimizer.zero_grad()\n",
        "            \n",
        "            output = model(X.cuda())\n",
        "\n",
        "            loss_ll = criterion(output, y.cuda())\n",
        "            \n",
        "            loss_ll.backward()\n",
        "            \n",
        "            optimizer.step()\n",
        "            \n",
        "            running_loss += loss_ll.item()\n",
        "\n",
        "            bar.update(1)\n",
        "            bar.set_description(\"Epoch {} - Training loss: {}\".format(e, running_loss/len(dataset)))\n",
        "\n",
        "      model.eval()\n",
        "      running_loss = 0\n",
        "      outs = []\n",
        "      with tqdm(total=len(dataset_valid)) as bar:\n",
        "        for i, (X, y) in enumerate(dataset_valid):\n",
        "            optimizer.zero_grad()\n",
        "            \n",
        "            output = model(X.cuda())\n",
        "\n",
        "            loss_ll = criterion(output, y.cuda())\n",
        "                \n",
        "            running_loss += loss_ll.item()\n",
        "            \n",
        "            outs.append(output)\n",
        "            bar.update(1)\n",
        "            bar.set_description(\"Epoch {} - Training loss: {}\".format(e, running_loss/len(dataset_valid)))\n"
      ],
      "execution_count": null,
      "outputs": []
    },
    {
      "cell_type": "markdown",
      "metadata": {
        "id": "FEwfu8TUPTnI"
      },
      "source": [
        "# Test LMU vs LSTM on MackeyGlass"
      ]
    },
    {
      "cell_type": "markdown",
      "metadata": {
        "id": "rUlSXcORWqtn"
      },
      "source": [
        ""
      ]
    },
    {
      "cell_type": "code",
      "metadata": {
        "id": "2GIa1QmHpIr1",
        "colab": {
          "base_uri": "https://localhost:8080/",
          "height": 1000
        },
        "outputId": "2dbdfa3f-c613-429a-ae7b-f847f4456adf"
      },
      "source": [
        "from tqdm import tqdm\n",
        "import torch.utils.data as data\n",
        "\n",
        "\n",
        "\n",
        "model = LMUModel().cuda()\n",
        "print(\"\\n\\nNombre de paramètres : \", sum(p.numel() for p in model.parameters() if p.requires_grad))\n",
        "print(\"\\n\\n\")\n",
        "criterion = nn.MSELoss()\n",
        "optimizer = torch.optim.Adam(model.parameters(), lr=0.001)\n",
        "model.train()\n",
        "\n",
        "dataset = torch.utils.data.TensorDataset(torch.Tensor(train_X).cuda(), torch.Tensor(train_Y).cuda())\n",
        "dataset = data.DataLoader(dataset, batch_size=16, shuffle=True)\n",
        "\n",
        "dataset_valid = torch.utils.data.TensorDataset(torch.Tensor(test_X).cuda(), torch.Tensor(test_Y).cuda())\n",
        "dataset_valid = data.DataLoader(dataset_valid, batch_size=16, shuffle=False)\n",
        "\n",
        "train(model, 100, dataset, dataset_valid)"
      ],
      "execution_count": null,
      "outputs": [
        {
          "output_type": "stream",
          "text": [
            "\r  0%|          | 0/4 [00:00<?, ?it/s]"
          ],
          "name": "stderr"
        },
        {
          "output_type": "stream",
          "text": [
            "\n",
            "\n",
            "Nombre de paramètres :  2750\n",
            "\n",
            "\n",
            "\n"
          ],
          "name": "stdout"
        },
        {
          "output_type": "stream",
          "text": [
            "Epoch 0 - Training loss: 0.05387168284505606: 100%|██████████| 4/4 [00:12<00:00,  3.21s/it]\n",
            "Epoch 0 - Training loss: 0.03753741178661585: 100%|██████████| 4/4 [00:05<00:00,  1.42s/it] \n",
            "Epoch 1 - Training loss: 0.026890650391578674: 100%|██████████| 4/4 [00:12<00:00,  3.13s/it]\n",
            "Epoch 1 - Training loss: 0.01199188269674778: 100%|██████████| 4/4 [00:05<00:00,  1.40s/it] \n",
            "Epoch 2 - Training loss: 0.012843496166169643: 100%|██████████| 4/4 [00:12<00:00,  3.12s/it]\n",
            "Epoch 2 - Training loss: 0.017223669681698084: 100%|██████████| 4/4 [00:05<00:00,  1.40s/it]\n",
            "Epoch 3 - Training loss: 0.014944496098905802: 100%|██████████| 4/4 [00:12<00:00,  3.18s/it]\n",
            "Epoch 3 - Training loss: 0.009903115686029196: 100%|██████████| 4/4 [00:05<00:00,  1.39s/it]\n",
            "Epoch 4 - Training loss: 0.009571623057126999: 100%|██████████| 4/4 [00:12<00:00,  3.13s/it]\n",
            "Epoch 4 - Training loss: 0.010275870328769088: 100%|██████████| 4/4 [00:05<00:00,  1.41s/it] \n",
            "Epoch 5 - Training loss: 0.010369897820055485: 100%|██████████| 4/4 [00:12<00:00,  3.11s/it]\n",
            "Epoch 5 - Training loss: 0.009227692848071456: 100%|██████████| 4/4 [00:05<00:00,  1.41s/it]\n",
            "Epoch 6 - Training loss: 0.008216657908633351: 100%|██████████| 4/4 [00:12<00:00,  3.11s/it]\n",
            "Epoch 6 - Training loss: 0.006964302621781826: 100%|██████████| 4/4 [00:05<00:00,  1.48s/it]\n",
            "Epoch 7 - Training loss: 0.007081472547724843: 100%|██████████| 4/4 [00:12<00:00,  3.11s/it]\n",
            "Epoch 7 - Training loss: 0.006996552110649645: 100%|██████████| 4/4 [00:05<00:00,  1.38s/it] \n",
            "Epoch 8 - Training loss: 0.0065329637145623565: 100%|██████████| 4/4 [00:12<00:00,  3.12s/it]\n",
            "Epoch 8 - Training loss: 0.005560776800848544: 100%|██████████| 4/4 [00:05<00:00,  1.40s/it]\n",
            "Epoch 9 - Training loss: 0.0055028460919857025: 100%|██████████| 4/4 [00:12<00:00,  3.11s/it]\n",
            "Epoch 9 - Training loss: 0.005370369413867593: 100%|██████████| 4/4 [00:05<00:00,  1.38s/it]\n",
            "Epoch 10 - Training loss: 0.0050738140707835555: 100%|██████████| 4/4 [00:12<00:00,  3.10s/it]\n",
            "Epoch 10 - Training loss: 0.004352257237769663: 100%|██████████| 4/4 [00:05<00:00,  1.38s/it] \n",
            "Epoch 11 - Training loss: 0.00426543690264225: 100%|██████████| 4/4 [00:12<00:00,  3.09s/it]  \n",
            "Epoch 11 - Training loss: 0.003930750186555088: 100%|██████████| 4/4 [00:05<00:00,  1.40s/it] \n",
            "Epoch 12 - Training loss: 0.003619474475272: 100%|██████████| 4/4 [00:12<00:00,  3.10s/it]   \n",
            "Epoch 12 - Training loss: 0.0031912961858324707: 100%|██████████| 4/4 [00:05<00:00,  1.38s/it]\n",
            "Epoch 13 - Training loss: 0.0029909488512203097: 100%|██████████| 4/4 [00:12<00:00,  3.16s/it]\n",
            "Epoch 13 - Training loss: 0.002459310577251017: 100%|██████████| 4/4 [00:05<00:00,  1.43s/it] \n",
            "Epoch 14 - Training loss: 0.00231863628141582: 100%|██████████| 4/4 [00:12<00:00,  3.10s/it]  \n",
            "Epoch 14 - Training loss: 0.0018753806652966887: 100%|██████████| 4/4 [00:05<00:00,  1.38s/it]\n",
            "Epoch 15 - Training loss: 0.0017779157788027078: 100%|██████████| 4/4 [00:12<00:00,  3.09s/it]\n",
            "Epoch 15 - Training loss: 0.001495080505264923: 100%|██████████| 4/4 [00:05<00:00,  1.39s/it] \n",
            "Epoch 16 - Training loss: 0.0014176419063005596: 100%|██████████| 4/4 [00:12<00:00,  3.09s/it]\n",
            "Epoch 16 - Training loss: 0.0011975888046436012: 100%|██████████| 4/4 [00:05<00:00,  1.38s/it]\n",
            "Epoch 17 - Training loss: 0.0010795327252708375: 100%|██████████| 4/4 [00:12<00:00,  3.17s/it]\n",
            "Epoch 17 - Training loss: 0.0008423931576544419: 100%|██████████| 4/4 [00:05<00:00,  1.39s/it]\n",
            "Epoch 18 - Training loss: 0.0008409871079493314: 100%|██████████| 4/4 [00:12<00:00,  3.08s/it]\n",
            "Epoch 18 - Training loss: 0.0007657954411115497: 100%|██████████| 4/4 [00:05<00:00,  1.37s/it]\n",
            "Epoch 19 - Training loss: 0.0007972515450092033: 100%|██████████| 4/4 [00:12<00:00,  3.07s/it]\n",
            "Epoch 19 - Training loss: 0.0007360217714449391: 100%|██████████| 4/4 [00:05<00:00,  1.37s/it]\n",
            "Epoch 20 - Training loss: 0.0007329464133363217: 100%|██████████| 4/4 [00:12<00:00,  3.10s/it]\n",
            "Epoch 20 - Training loss: 0.0006381762068485841: 100%|██████████| 4/4 [00:05<00:00,  1.40s/it]\n",
            "Epoch 21 - Training loss: 0.0006486060592578724: 100%|██████████| 4/4 [00:12<00:00,  3.09s/it]\n",
            "Epoch 21 - Training loss: 0.0005785990651929751: 100%|██████████| 4/4 [00:05<00:00,  1.38s/it]\n",
            "Epoch 22 - Training loss: 0.0005930171610089019: 100%|██████████| 4/4 [00:12<00:00,  3.12s/it] \n",
            "Epoch 22 - Training loss: 0.0005226586654316634: 100%|██████████| 4/4 [00:05<00:00,  1.38s/it] \n",
            "Epoch 23 - Training loss: 0.0005493425705935806: 100%|██████████| 4/4 [00:12<00:00,  3.06s/it] \n",
            "Epoch 23 - Training loss: 0.0004992043832316995: 100%|██████████| 4/4 [00:05<00:00,  1.37s/it]\n",
            "Epoch 24 - Training loss: 0.0005248152956482954: 100%|██████████| 4/4 [00:12<00:00,  3.11s/it]\n",
            "Epoch 24 - Training loss: 0.00047154480853350833: 100%|██████████| 4/4 [00:05<00:00,  1.38s/it]\n",
            "Epoch 25 - Training loss: 0.0004959086872986518: 100%|██████████| 4/4 [00:12<00:00,  3.06s/it] \n",
            "Epoch 25 - Training loss: 0.00044671470095636323: 100%|██████████| 4/4 [00:05<00:00,  1.38s/it]\n",
            "Epoch 26 - Training loss: 0.00047382627963088453: 100%|██████████| 4/4 [00:12<00:00,  3.07s/it]\n",
            "Epoch 26 - Training loss: 0.0004302551024011336: 100%|██████████| 4/4 [00:05<00:00,  1.38s/it]\n",
            "Epoch 27 - Training loss: 0.00045760826469631866: 100%|██████████| 4/4 [00:12<00:00,  3.09s/it]\n",
            "Epoch 27 - Training loss: 0.00041388445970369503: 100%|██████████| 4/4 [00:05<00:00,  1.39s/it]\n",
            "Epoch 28 - Training loss: 0.00044146575237391517: 100%|██████████| 4/4 [00:12<00:00,  3.06s/it]\n",
            "Epoch 28 - Training loss: 0.0004003809008281678: 100%|██████████| 4/4 [00:05<00:00,  1.39s/it]\n",
            "Epoch 29 - Training loss: 0.00042694048897828907: 100%|██████████| 4/4 [00:12<00:00,  3.06s/it]\n",
            "Epoch 29 - Training loss: 0.00038599530671490356: 100%|██████████| 4/4 [00:05<00:00,  1.37s/it]\n",
            "Epoch 30 - Training loss: 0.0004141425743000582: 100%|██████████| 4/4 [00:12<00:00,  3.08s/it]\n",
            "Epoch 30 - Training loss: 0.0003743963097804226: 100%|██████████| 4/4 [00:05<00:00,  1.40s/it] \n",
            "Epoch 31 - Training loss: 0.0004031861390103586: 100%|██████████| 4/4 [00:12<00:00,  3.14s/it]\n",
            "Epoch 31 - Training loss: 0.0003638174821389839: 100%|██████████| 4/4 [00:05<00:00,  1.37s/it] \n",
            "Epoch 32 - Training loss: 0.00039235021540662274: 100%|██████████| 4/4 [00:12<00:00,  3.06s/it]\n",
            "Epoch 32 - Training loss: 0.00035547458537621424: 100%|██████████| 4/4 [00:05<00:00,  1.37s/it]\n",
            "Epoch 33 - Training loss: 0.00038299430161714554: 100%|██████████| 4/4 [00:12<00:00,  3.06s/it]\n",
            "Epoch 33 - Training loss: 0.0003450366493780166: 100%|██████████| 4/4 [00:05<00:00,  1.37s/it] \n",
            "Epoch 34 - Training loss: 0.0003738810191862285: 100%|██████████| 4/4 [00:12<00:00,  3.11s/it]\n",
            "Epoch 34 - Training loss: 0.0003371613420313224: 100%|██████████| 4/4 [00:05<00:00,  1.41s/it]\n",
            "Epoch 35 - Training loss: 0.0003660653528640978: 100%|██████████| 4/4 [00:12<00:00,  3.08s/it]\n",
            "Epoch 35 - Training loss: 0.0003299886957393028: 100%|██████████| 4/4 [00:05<00:00,  1.38s/it] \n",
            "Epoch 36 - Training loss: 0.0003588964173104614: 100%|██████████| 4/4 [00:12<00:00,  3.09s/it]\n",
            "Epoch 36 - Training loss: 0.0003234985488234088: 100%|██████████| 4/4 [00:05<00:00,  1.38s/it]\n",
            "Epoch 37 - Training loss: 0.00035264520556665957: 100%|██████████| 4/4 [00:12<00:00,  3.07s/it]\n",
            "Epoch 37 - Training loss: 0.0003179324703523889: 100%|██████████| 4/4 [00:05<00:00,  1.41s/it] \n",
            "Epoch 38 - Training loss: 0.0003470203882898204: 100%|██████████| 4/4 [00:12<00:00,  3.13s/it] \n",
            "Epoch 38 - Training loss: 0.00031237094663083553: 100%|██████████| 4/4 [00:05<00:00,  1.38s/it]\n",
            "Epoch 39 - Training loss: 0.0003418081032577902: 100%|██████████| 4/4 [00:12<00:00,  3.11s/it]\n",
            "Epoch 39 - Training loss: 0.00030762660753680393: 100%|██████████| 4/4 [00:05<00:00,  1.40s/it]\n",
            "Epoch 40 - Training loss: 0.00033712707954691723: 100%|██████████| 4/4 [00:12<00:00,  3.10s/it]\n",
            "Epoch 40 - Training loss: 0.00030333370523294434: 100%|██████████| 4/4 [00:05<00:00,  1.37s/it]\n",
            "Epoch 41 - Training loss: 0.00033267146500293165: 100%|██████████| 4/4 [00:12<00:00,  3.11s/it]\n",
            "Epoch 41 - Training loss: 0.00029972322954563424: 100%|██████████| 4/4 [00:05<00:00,  1.36s/it]\n",
            "Epoch 42 - Training loss: 0.0003289942760602571: 100%|██████████| 4/4 [00:12<00:00,  3.05s/it]\n",
            "Epoch 42 - Training loss: 0.0002961409481940791: 100%|██████████| 4/4 [00:05<00:00,  1.37s/it] \n",
            "Epoch 43 - Training loss: 0.0003253015674999915: 100%|██████████| 4/4 [00:12<00:00,  3.07s/it] \n",
            "Epoch 43 - Training loss: 0.0002927118621300906: 100%|██████████| 4/4 [00:05<00:00,  1.41s/it] \n",
            "Epoch 44 - Training loss: 0.00032213145459536463: 100%|██████████| 4/4 [00:12<00:00,  3.08s/it]\n",
            "Epoch 44 - Training loss: 0.00029005866235820577: 100%|██████████| 4/4 [00:05<00:00,  1.41s/it]\n",
            "Epoch 45 - Training loss: 0.0003192283838870935: 100%|██████████| 4/4 [00:12<00:00,  3.06s/it] \n",
            "Epoch 45 - Training loss: 0.0002871526958188042: 100%|██████████| 4/4 [00:05<00:00,  1.36s/it] \n",
            "Epoch 46 - Training loss: 0.00031644020782550797: 100%|██████████| 4/4 [00:12<00:00,  3.06s/it]\n",
            "Epoch 46 - Training loss: 0.00028461402689572424: 100%|██████████| 4/4 [00:05<00:00,  1.36s/it]\n",
            "Epoch 47 - Training loss: 0.0003139621185255237: 100%|██████████| 4/4 [00:12<00:00,  3.05s/it]\n",
            "Epoch 47 - Training loss: 0.0002824096445692703: 100%|██████████| 4/4 [00:05<00:00,  1.37s/it] \n",
            "Epoch 48 - Training loss: 0.0003117293745162897: 100%|██████████| 4/4 [00:12<00:00,  3.08s/it]\n",
            "Epoch 48 - Training loss: 0.0002802089002216235: 100%|██████████| 4/4 [00:05<00:00,  1.38s/it] \n",
            "Epoch 49 - Training loss: 0.00030963614699430764: 100%|██████████| 4/4 [00:12<00:00,  3.07s/it]\n",
            "Epoch 49 - Training loss: 0.00027882401627721265: 100%|██████████| 4/4 [00:05<00:00,  1.37s/it]\n",
            "Epoch 50 - Training loss: 0.00030783392139710486: 100%|██████████| 4/4 [00:12<00:00,  3.07s/it]\n",
            "Epoch 50 - Training loss: 0.0002762377553153783: 100%|██████████| 4/4 [00:05<00:00,  1.36s/it] \n",
            "Epoch 51 - Training loss: 0.00030665023950859904: 100%|██████████| 4/4 [00:12<00:00,  3.11s/it]\n",
            "Epoch 51 - Training loss: 0.00027731294539989904: 100%|██████████| 4/4 [00:05<00:00,  1.39s/it]\n",
            "Epoch 52 - Training loss: 0.000305190038488945: 100%|██████████| 4/4 [00:12<00:00,  3.08s/it] \n",
            "Epoch 52 - Training loss: 0.000272716220933944: 100%|██████████| 4/4 [00:05<00:00,  1.38s/it] \n",
            "Epoch 53 - Training loss: 0.00030259248160291463: 100%|██████████| 4/4 [00:12<00:00,  3.09s/it]\n",
            "Epoch 53 - Training loss: 0.000274106947472319: 100%|██████████| 4/4 [00:05<00:00,  1.39s/it]  \n",
            "Epoch 54 - Training loss: 0.00030306357075460255: 100%|██████████| 4/4 [00:12<00:00,  3.12s/it]\n",
            "Epoch 54 - Training loss: 0.00027225780650042: 100%|██████████| 4/4 [00:05<00:00,  1.37s/it]  \n",
            "Epoch 55 - Training loss: 0.0003011923035955988: 100%|██████████| 4/4 [00:12<00:00,  3.07s/it] \n",
            "Epoch 55 - Training loss: 0.0002712893401621841: 100%|██████████| 4/4 [00:05<00:00,  1.38s/it] \n",
            "Epoch 56 - Training loss: 0.00030196602892829105: 100%|██████████| 4/4 [00:12<00:00,  3.07s/it]\n",
            "Epoch 56 - Training loss: 0.00027693801530404016: 100%|██████████| 4/4 [00:05<00:00,  1.36s/it]\n",
            "Epoch 57 - Training loss: 0.00031192531605483964: 100%|██████████| 4/4 [00:12<00:00,  3.09s/it]\n",
            "Epoch 57 - Training loss: 0.0002865242422558367: 100%|██████████| 4/4 [00:05<00:00,  1.39s/it]\n",
            "Epoch 58 - Training loss: 0.0003053729305975139: 100%|██████████| 4/4 [00:12<00:00,  3.07s/it] \n",
            "Epoch 58 - Training loss: 0.00026451364101376384: 100%|██████████| 4/4 [00:05<00:00,  1.41s/it]\n",
            "Epoch 59 - Training loss: 0.0003009338106494397: 100%|██████████| 4/4 [00:12<00:00,  3.08s/it] \n",
            "Epoch 59 - Training loss: 0.0002758288901532069: 100%|██████████| 4/4 [00:05<00:00,  1.39s/it] \n",
            "Epoch 60 - Training loss: 0.00029704142798436806: 100%|██████████| 4/4 [00:12<00:00,  3.05s/it]\n",
            "Epoch 60 - Training loss: 0.00026829808484762907: 100%|██████████| 4/4 [00:05<00:00,  1.37s/it]\n",
            "Epoch 61 - Training loss: 0.00030043520382605493: 100%|██████████| 4/4 [00:12<00:00,  3.07s/it]\n",
            "Epoch 61 - Training loss: 0.0002626121568027884: 100%|██████████| 4/4 [00:05<00:00,  1.37s/it] \n",
            "Epoch 62 - Training loss: 0.00029239941795822233: 100%|██████████| 4/4 [00:12<00:00,  3.10s/it]\n",
            "Epoch 62 - Training loss: 0.00026878572680288926: 100%|██████████| 4/4 [00:05<00:00,  1.37s/it]\n",
            "Epoch 63 - Training loss: 0.0002926946908701211: 100%|██████████| 4/4 [00:12<00:00,  3.06s/it] \n",
            "Epoch 63 - Training loss: 0.00025890492543112487: 100%|██████████| 4/4 [00:05<00:00,  1.38s/it]\n",
            "Epoch 64 - Training loss: 0.0002897622325690463: 100%|██████████| 4/4 [00:12<00:00,  3.07s/it] \n",
            "Epoch 64 - Training loss: 0.0002600965235615149: 100%|██████████| 4/4 [00:05<00:00,  1.38s/it] \n",
            "Epoch 65 - Training loss: 0.00028692022169707343: 100%|██████████| 4/4 [00:12<00:00,  3.04s/it]\n",
            "Epoch 65 - Training loss: 0.0002560044886195101: 100%|██████████| 4/4 [00:05<00:00,  1.38s/it] \n",
            "Epoch 66 - Training loss: 0.0002849468364729546: 100%|██████████| 4/4 [00:12<00:00,  3.12s/it]\n",
            "Epoch 66 - Training loss: 0.00025571134756319225: 100%|██████████| 4/4 [00:05<00:00,  1.38s/it]\n",
            "Epoch 67 - Training loss: 0.00028445664793252945: 100%|██████████| 4/4 [00:12<00:00,  3.08s/it]\n",
            "Epoch 67 - Training loss: 0.0002548941774875857: 100%|██████████| 4/4 [00:05<00:00,  1.37s/it]\n",
            "Epoch 68 - Training loss: 0.0002832992759067565: 100%|██████████| 4/4 [00:12<00:00,  3.07s/it] \n",
            "Epoch 68 - Training loss: 0.00025346604525111616: 100%|██████████| 4/4 [00:05<00:00,  1.39s/it]\n",
            "Epoch 69 - Training loss: 0.00028191067394800484: 100%|██████████| 4/4 [00:12<00:00,  3.11s/it]\n",
            "Epoch 69 - Training loss: 0.0002527419856050983: 100%|██████████| 4/4 [00:05<00:00,  1.38s/it] \n",
            "Epoch 70 - Training loss: 0.0002844357441063039: 100%|██████████| 4/4 [00:12<00:00,  3.06s/it] \n",
            "Epoch 70 - Training loss: 0.0002656178330653347: 100%|██████████| 4/4 [00:05<00:00,  1.37s/it] \n",
            "Epoch 71 - Training loss: 0.00030451132261077873: 100%|██████████| 4/4 [00:12<00:00,  3.12s/it]\n",
            "Epoch 71 - Training loss: 0.0002796902772388421: 100%|██████████| 4/4 [00:05<00:00,  1.38s/it]\n",
            "Epoch 72 - Training loss: 0.00029376726160990074: 100%|██████████| 4/4 [00:12<00:00,  3.07s/it]\n",
            "Epoch 72 - Training loss: 0.0002495473418093752: 100%|██████████| 4/4 [00:05<00:00,  1.41s/it]\n",
            "Epoch 73 - Training loss: 0.0002833925136656035: 100%|██████████| 4/4 [00:12<00:00,  3.11s/it]\n",
            "Epoch 73 - Training loss: 0.0002585462207207456: 100%|██████████| 4/4 [00:05<00:00,  1.39s/it]\n",
            "Epoch 74 - Training loss: 0.0002812048769555986: 100%|██████████| 4/4 [00:12<00:00,  3.07s/it] \n",
            "Epoch 74 - Training loss: 0.0002492799576430116: 100%|██████████| 4/4 [00:05<00:00,  1.37s/it] \n",
            "Epoch 75 - Training loss: 0.00028055982693331316: 100%|██████████| 4/4 [00:12<00:00,  3.09s/it]\n",
            "Epoch 75 - Training loss: 0.00024996833235491067: 100%|██████████| 4/4 [00:05<00:00,  1.37s/it]\n",
            "Epoch 76 - Training loss: 0.0002761335745162796: 100%|██████████| 4/4 [00:12<00:00,  3.10s/it]\n",
            "Epoch 76 - Training loss: 0.00024774327903287485: 100%|██████████| 4/4 [00:05<00:00,  1.38s/it]\n",
            "Epoch 77 - Training loss: 0.0002764774108072743: 100%|██████████| 4/4 [00:12<00:00,  3.05s/it]\n",
            "Epoch 77 - Training loss: 0.0002464139033691026: 100%|██████████| 4/4 [00:05<00:00,  1.40s/it] \n",
            "Epoch 78 - Training loss: 0.00027369093731977046: 100%|██████████| 4/4 [00:12<00:00,  3.07s/it]\n",
            "Epoch 78 - Training loss: 0.0002448815430398099: 100%|██████████| 4/4 [00:05<00:00,  1.37s/it] \n",
            "Epoch 79 - Training loss: 0.00027374048659112304: 100%|██████████| 4/4 [00:12<00:00,  3.09s/it]\n",
            "Epoch 79 - Training loss: 0.0002462286538502667: 100%|██████████| 4/4 [00:05<00:00,  1.42s/it] \n",
            "Epoch 80 - Training loss: 0.00027402315026847646: 100%|██████████| 4/4 [00:12<00:00,  3.08s/it]\n",
            "Epoch 80 - Training loss: 0.00024391540500801057: 100%|██████████| 4/4 [00:05<00:00,  1.37s/it]\n",
            "Epoch 81 - Training loss: 0.000271519718808122: 100%|██████████| 4/4 [00:12<00:00,  3.11s/it] \n",
            "Epoch 81 - Training loss: 0.00024219185070251115: 100%|██████████| 4/4 [00:05<00:00,  1.38s/it]\n",
            "Epoch 82 - Training loss: 0.000270053085841937: 100%|██████████| 4/4 [00:12<00:00,  3.06s/it]  \n",
            "Epoch 82 - Training loss: 0.0002418425829091575: 100%|██████████| 4/4 [00:05<00:00,  1.38s/it] \n",
            "Epoch 83 - Training loss: 0.0002709827895159833: 100%|██████████| 4/4 [00:12<00:00,  3.11s/it]\n",
            "Epoch 83 - Training loss: 0.00024584443963249214: 100%|██████████| 4/4 [00:05<00:00,  1.37s/it]\n",
            "Epoch 84 - Training loss: 0.0002817051463352982: 100%|██████████| 4/4 [00:12<00:00,  3.12s/it] \n",
            "Epoch 84 - Training loss: 0.00027960335864918306: 100%|██████████| 4/4 [00:05<00:00,  1.38s/it]\n",
            "Epoch 85 - Training loss: 0.00032525850110687315: 100%|██████████| 4/4 [00:12<00:00,  3.06s/it]\n",
            "Epoch 85 - Training loss: 0.0002743011646089144: 100%|██████████| 4/4 [00:05<00:00,  1.41s/it] \n",
            "Epoch 86 - Training loss: 0.00028338372794678435: 100%|██████████| 4/4 [00:12<00:00,  3.10s/it]\n",
            "Epoch 86 - Training loss: 0.0002717555107665248: 100%|██████████| 4/4 [00:05<00:00,  1.40s/it] \n",
            "Epoch 87 - Training loss: 0.00028214404301252216: 100%|██████████| 4/4 [00:12<00:00,  3.08s/it]\n",
            "Epoch 87 - Training loss: 0.0002537468244554475: 100%|██████████| 4/4 [00:05<00:00,  1.39s/it] \n",
            "Epoch 88 - Training loss: 0.00027709093410521746: 100%|██████████| 4/4 [00:12<00:00,  3.11s/it]\n",
            "Epoch 88 - Training loss: 0.00024339293304365128: 100%|██████████| 4/4 [00:05<00:00,  1.44s/it]\n",
            "Epoch 89 - Training loss: 0.0002728996623773128: 100%|██████████| 4/4 [00:12<00:00,  3.12s/it]\n",
            "Epoch 89 - Training loss: 0.00023865257026045583: 100%|██████████| 4/4 [00:05<00:00,  1.39s/it]\n",
            "Epoch 90 - Training loss: 0.00026949252787744626: 100%|██████████| 4/4 [00:12<00:00,  3.15s/it]\n",
            "Epoch 90 - Training loss: 0.00023664915352128446: 100%|██████████| 4/4 [00:05<00:00,  1.40s/it]\n",
            "Epoch 91 - Training loss: 0.00026714117848314345: 100%|██████████| 4/4 [00:12<00:00,  3.10s/it]\n",
            "Epoch 91 - Training loss: 0.00023604380476172082: 100%|██████████| 4/4 [00:05<00:00,  1.39s/it]\n",
            "Epoch 92 - Training loss: 0.00026580518897389993: 100%|██████████| 4/4 [00:12<00:00,  3.09s/it]\n",
            "Epoch 92 - Training loss: 0.00023694843548582867: 100%|██████████| 4/4 [00:05<00:00,  1.39s/it]\n",
            "Epoch 93 - Training loss: 0.00026481267559574917: 100%|██████████| 4/4 [00:12<00:00,  3.12s/it]\n",
            "Epoch 93 - Training loss: 0.0002384236577199772: 100%|██████████| 4/4 [00:05<00:00,  1.39s/it] \n",
            "Epoch 94 - Training loss: 0.00026400198839837685: 100%|██████████| 4/4 [00:12<00:00,  3.08s/it]\n",
            "Epoch 94 - Training loss: 0.00023845406030886807: 100%|██████████| 4/4 [00:05<00:00,  1.37s/it]\n",
            "Epoch 95 - Training loss: 0.00026328339299652725: 100%|██████████| 4/4 [00:12<00:00,  3.07s/it]\n",
            "Epoch 95 - Training loss: 0.00023523561685578898: 100%|██████████| 4/4 [00:05<00:00,  1.37s/it]\n",
            "Epoch 96 - Training loss: 0.00026321163386455737: 100%|██████████| 4/4 [00:12<00:00,  3.12s/it]\n",
            "Epoch 96 - Training loss: 0.00023322572451434098: 100%|██████████| 4/4 [00:05<00:00,  1.40s/it]\n",
            "Epoch 97 - Training loss: 0.00026061605603899807: 100%|██████████| 4/4 [00:12<00:00,  3.11s/it]\n",
            "Epoch 97 - Training loss: 0.00023372500800178386: 100%|██████████| 4/4 [00:05<00:00,  1.39s/it]\n",
            "Epoch 98 - Training loss: 0.0002603484426799696: 100%|██████████| 4/4 [00:12<00:00,  3.06s/it] \n",
            "Epoch 98 - Training loss: 0.00023183693701867014: 100%|██████████| 4/4 [00:05<00:00,  1.37s/it]\n",
            "Epoch 99 - Training loss: 0.0002601470478111878: 100%|██████████| 4/4 [00:12<00:00,  3.07s/it] \n",
            "Epoch 99 - Training loss: 0.00023260670059244148: 100%|██████████| 4/4 [00:05<00:00,  1.37s/it]\n"
          ],
          "name": "stderr"
        }
      ]
    },
    {
      "cell_type": "code",
      "metadata": {
        "id": "Qaunc4vo9Orw",
        "colab": {
          "base_uri": "https://localhost:8080/",
          "height": 1000
        },
        "outputId": "2087cfb7-c34d-4b78-ab06-aae2c8ccf093"
      },
      "source": [
        "from tqdm import tqdm\n",
        "import torch.utils.data as data\n",
        "\n",
        "\n",
        "\n",
        "model = LSTMModel().cuda()\n",
        "print(\"\\n\\nNombre de paramètres : \", sum(p.numel() for p in model.parameters() if p.requires_grad))\n",
        "print(\"\\n\\n\")\n",
        "criterion = nn.MSELoss()\n",
        "optimizer = torch.optim.Adam(model.parameters(), lr=0.001)\n",
        "model.train()\n",
        "\n",
        "dataset = torch.utils.data.TensorDataset(torch.Tensor(train_X).cuda(), torch.Tensor(train_Y).cuda())\n",
        "dataset = data.DataLoader(dataset, batch_size=16, shuffle=True)\n",
        "\n",
        "dataset_valid = torch.utils.data.TensorDataset(torch.Tensor(test_X).cuda(), torch.Tensor(test_Y).cuda())\n",
        "dataset_valid = data.DataLoader(dataset_valid, batch_size=16, shuffle=False)\n",
        "\n",
        "train(model, 100, dataset, dataset_valid)"
      ],
      "execution_count": null,
      "outputs": [
        {
          "output_type": "stream",
          "text": [
            "Epoch 0 - Training loss: 0.011813671328127384:  25%|██▌       | 1/4 [00:00<00:00,  7.53it/s]"
          ],
          "name": "stderr"
        },
        {
          "output_type": "stream",
          "text": [
            "\n",
            "\n",
            "Nombre de paramètres :  2826\n",
            "\n",
            "\n",
            "\n"
          ],
          "name": "stdout"
        },
        {
          "output_type": "stream",
          "text": [
            "Epoch 0 - Training loss: 0.046802151016891: 100%|██████████| 4/4 [00:00<00:00,  7.53it/s]   \n",
            "Epoch 0 - Training loss: 0.046247866936028004: 100%|██████████| 4/4 [00:00<00:00, 16.11it/s]\n",
            "Epoch 1 - Training loss: 0.04624266363680363: 100%|██████████| 4/4 [00:00<00:00,  7.49it/s] \n",
            "Epoch 1 - Training loss: 0.04614768456667662: 100%|██████████| 4/4 [00:00<00:00, 16.33it/s] \n",
            "Epoch 2 - Training loss: 0.046114287339150906: 100%|██████████| 4/4 [00:00<00:00,  7.65it/s]\n",
            "Epoch 2 - Training loss: 0.04586911480873823: 100%|██████████| 4/4 [00:00<00:00, 15.75it/s] \n",
            "Epoch 3 - Training loss: 0.04578931536525488: 100%|██████████| 4/4 [00:00<00:00,  7.68it/s]\n",
            "Epoch 3 - Training loss: 0.04555390030145645: 100%|██████████| 4/4 [00:00<00:00, 16.11it/s]\n",
            "Epoch 4 - Training loss: 0.04551477171480656: 100%|██████████| 4/4 [00:00<00:00,  7.61it/s]\n",
            "Epoch 4 - Training loss: 0.045330765657126904: 100%|██████████| 4/4 [00:00<00:00, 16.33it/s]\n",
            "Epoch 5 - Training loss: 0.04527045786380768: 100%|██████████| 4/4 [00:00<00:00,  7.69it/s]\n",
            "Epoch 5 - Training loss: 0.04503007512539625: 100%|██████████| 4/4 [00:00<00:00, 16.14it/s]\n",
            "Epoch 6 - Training loss: 0.04493964184075594: 100%|██████████| 4/4 [00:00<00:00,  7.39it/s] \n",
            "Epoch 6 - Training loss: 0.04466285090893507: 100%|██████████| 4/4 [00:00<00:00, 16.40it/s]\n",
            "Epoch 7 - Training loss: 0.04456302337348461: 100%|██████████| 4/4 [00:00<00:00,  7.62it/s]\n",
            "Epoch 7 - Training loss: 0.04424550198018551: 100%|██████████| 4/4 [00:00<00:00, 16.13it/s]\n",
            "Epoch 8 - Training loss: 0.04409331176429987: 100%|██████████| 4/4 [00:00<00:00,  7.49it/s]\n",
            "Epoch 8 - Training loss: 0.04366330895572901: 100%|██████████| 4/4 [00:00<00:00, 16.13it/s] \n",
            "Epoch 9 - Training loss: 0.04342217277735472: 100%|██████████| 4/4 [00:00<00:00,  7.58it/s]\n",
            "Epoch 9 - Training loss: 0.042824034579098225: 100%|██████████| 4/4 [00:00<00:00, 16.50it/s]\n",
            "Epoch 10 - Training loss: 0.04242550954222679: 100%|██████████| 4/4 [00:00<00:00,  7.49it/s] \n",
            "Epoch 10 - Training loss: 0.04149808920919895: 100%|██████████| 4/4 [00:00<00:00, 16.58it/s] \n",
            "Epoch 11 - Training loss: 0.04079277068376541: 100%|██████████| 4/4 [00:00<00:00,  7.64it/s] \n",
            "Epoch 11 - Training loss: 0.03923314530402422: 100%|██████████| 4/4 [00:00<00:00, 16.21it/s] \n",
            "Epoch 12 - Training loss: 0.03793259151279926: 100%|██████████| 4/4 [00:00<00:00,  7.68it/s] \n",
            "Epoch 12 - Training loss: 0.03510310687124729: 100%|██████████| 4/4 [00:00<00:00, 16.31it/s] \n",
            "Epoch 13 - Training loss: 0.03257376095280051: 100%|██████████| 4/4 [00:00<00:00,  7.72it/s] \n",
            "Epoch 13 - Training loss: 0.027179218363016844: 100%|██████████| 4/4 [00:00<00:00, 15.47it/s]\n",
            "Epoch 14 - Training loss: 0.022414845880120993: 100%|██████████| 4/4 [00:00<00:00,  7.41it/s]\n",
            "Epoch 14 - Training loss: 0.013185449643060565: 100%|██████████| 4/4 [00:00<00:00, 15.53it/s]\n",
            "Epoch 15 - Training loss: 0.00822982401587069: 100%|██████████| 4/4 [00:00<00:00,  7.38it/s] \n",
            "Epoch 15 - Training loss: 0.004749904735945165: 100%|██████████| 4/4 [00:00<00:00, 16.04it/s]\n",
            "Epoch 16 - Training loss: 0.006897906074300408: 100%|██████████| 4/4 [00:00<00:00,  7.46it/s] \n",
            "Epoch 16 - Training loss: 0.007393145002424717: 100%|██████████| 4/4 [00:00<00:00, 16.10it/s]\n",
            "Epoch 17 - Training loss: 0.005986468051560223: 100%|██████████| 4/4 [00:00<00:00,  7.45it/s] \n",
            "Epoch 17 - Training loss: 0.004386574379168451: 100%|██████████| 4/4 [00:00<00:00, 16.80it/s]\n",
            "Epoch 18 - Training loss: 0.004102321516256779: 100%|██████████| 4/4 [00:00<00:00,  7.39it/s] \n",
            "Epoch 18 - Training loss: 0.003871064109262079: 100%|██████████| 4/4 [00:00<00:00, 16.54it/s]\n",
            "Epoch 19 - Training loss: 0.0038970985333435237: 100%|██████████| 4/4 [00:00<00:00,  7.34it/s]\n",
            "Epoch 19 - Training loss: 0.0038985730498097837: 100%|██████████| 4/4 [00:00<00:00, 16.87it/s]\n",
            "Epoch 20 - Training loss: 0.0038104478735476732: 100%|██████████| 4/4 [00:00<00:00,  7.57it/s]\n",
            "Epoch 20 - Training loss: 0.003526116954162717: 100%|██████████| 4/4 [00:00<00:00, 16.05it/s] \n",
            "Epoch 21 - Training loss: 0.003210261231288314: 100%|██████████| 4/4 [00:00<00:00,  7.43it/s] \n",
            "Epoch 21 - Training loss: 0.0027287285774946213: 100%|██████████| 4/4 [00:00<00:00, 16.60it/s]\n",
            "Epoch 22 - Training loss: 0.0026558273239061236: 100%|██████████| 4/4 [00:00<00:00,  7.45it/s]\n",
            "Epoch 22 - Training loss: 0.0027365919086150825: 100%|██████████| 4/4 [00:00<00:00, 16.65it/s]\n",
            "Epoch 23 - Training loss: 0.0027639803010970354: 100%|██████████| 4/4 [00:00<00:00,  7.30it/s]\n",
            "Epoch 23 - Training loss: 0.0026207848568446934: 100%|██████████| 4/4 [00:00<00:00, 16.34it/s]\n",
            "Epoch 24 - Training loss: 0.0024585392675362527: 100%|██████████| 4/4 [00:00<00:00,  7.35it/s]\n",
            "Epoch 24 - Training loss: 0.0022943864460103214: 100%|██████████| 4/4 [00:00<00:00, 14.81it/s]\n",
            "Epoch 25 - Training loss: 0.002309341449290514: 100%|██████████| 4/4 [00:00<00:00,  7.40it/s] \n",
            "Epoch 25 - Training loss: 0.002335866854991764: 100%|██████████| 4/4 [00:00<00:00, 16.31it/s] \n",
            "Epoch 26 - Training loss: 0.002297056373208761: 100%|██████████| 4/4 [00:00<00:00,  7.24it/s] \n",
            "Epoch 26 - Training loss: 0.0022075606393627822: 100%|██████████| 4/4 [00:00<00:00, 16.83it/s]\n",
            "Epoch 27 - Training loss: 0.0021657930337823927: 100%|██████████| 4/4 [00:00<00:00,  7.30it/s]\n",
            "Epoch 27 - Training loss: 0.0021303174435161054: 100%|██████████| 4/4 [00:00<00:00, 15.16it/s]\n",
            "Epoch 28 - Training loss: 0.0021280248765833676: 100%|██████████| 4/4 [00:00<00:00,  7.17it/s]\n",
            "Epoch 28 - Training loss: 0.0021088813664391637: 100%|██████████| 4/4 [00:00<00:00, 15.83it/s]\n",
            "Epoch 29 - Training loss: 0.0020920083625242114: 100%|██████████| 4/4 [00:00<00:00,  7.42it/s]\n",
            "Epoch 29 - Training loss: 0.002059364749584347: 100%|██████████| 4/4 [00:00<00:00, 15.90it/s] \n",
            "Epoch 30 - Training loss: 0.002052450436167419: 100%|██████████| 4/4 [00:00<00:00,  7.45it/s] \n",
            "Epoch 30 - Training loss: 0.0020339690963737667: 100%|██████████| 4/4 [00:00<00:00, 16.54it/s]\n",
            "Epoch 31 - Training loss: 0.0020319863688200712: 100%|██████████| 4/4 [00:00<00:00,  7.46it/s]\n",
            "Epoch 31 - Training loss: 0.0020165679161436856: 100%|██████████| 4/4 [00:00<00:00, 16.37it/s]\n",
            "Epoch 32 - Training loss: 0.002013405959587544: 100%|██████████| 4/4 [00:00<00:00,  7.15it/s] \n",
            "Epoch 32 - Training loss: 0.001994386489968747: 100%|██████████| 4/4 [00:00<00:00, 16.45it/s] \n",
            "Epoch 33 - Training loss: 0.0019947029068134725: 100%|██████████| 4/4 [00:00<00:00,  7.29it/s]\n",
            "Epoch 33 - Training loss: 0.0019821292371489108: 100%|██████████| 4/4 [00:00<00:00, 16.16it/s]\n",
            "Epoch 34 - Training loss: 0.00198433204786852: 100%|██████████| 4/4 [00:00<00:00,  7.42it/s]\n",
            "Epoch 34 - Training loss: 0.0019695968367159367: 100%|██████████| 4/4 [00:00<00:00, 16.29it/s]\n",
            "Epoch 35 - Training loss: 0.0019707051978912205: 100%|██████████| 4/4 [00:00<00:00,  7.47it/s]\n",
            "Epoch 35 - Training loss: 0.0019579711952246726: 100%|██████████| 4/4 [00:00<00:00, 16.74it/s]\n",
            "Epoch 36 - Training loss: 0.001960664492798969: 100%|██████████| 4/4 [00:00<00:00,  7.34it/s]\n",
            "Epoch 36 - Training loss: 0.0019489610276650637: 100%|██████████| 4/4 [00:00<00:00, 15.92it/s]\n",
            "Epoch 37 - Training loss: 0.001950057689100504: 100%|██████████| 4/4 [00:00<00:00,  7.41it/s] \n",
            "Epoch 37 - Training loss: 0.001938168628839776: 100%|██████████| 4/4 [00:00<00:00, 16.31it/s]\n",
            "Epoch 38 - Training loss: 0.0019397947180550545: 100%|██████████| 4/4 [00:00<00:00,  7.32it/s]\n",
            "Epoch 38 - Training loss: 0.0019292588403914124: 100%|██████████| 4/4 [00:00<00:00, 15.50it/s]\n",
            "Epoch 39 - Training loss: 0.0019301071588415653: 100%|██████████| 4/4 [00:00<00:00,  7.35it/s]\n",
            "Epoch 39 - Training loss: 0.0019198548689018935: 100%|██████████| 4/4 [00:00<00:00, 16.12it/s]\n",
            "Epoch 40 - Training loss: 0.0019200504757463932: 100%|██████████| 4/4 [00:00<00:00,  7.32it/s]\n",
            "Epoch 40 - Training loss: 0.0019107795087620616: 100%|██████████| 4/4 [00:00<00:00, 15.19it/s]\n",
            "Epoch 41 - Training loss: 0.0019104121602140367: 100%|██████████| 4/4 [00:00<00:00,  7.34it/s]\n",
            "Epoch 41 - Training loss: 0.0019017902086488903: 100%|██████████| 4/4 [00:00<00:00, 16.20it/s]\n",
            "Epoch 42 - Training loss: 0.0019007523660548031: 100%|██████████| 4/4 [00:00<00:00,  7.35it/s]\n",
            "Epoch 42 - Training loss: 0.0018928625213447958: 100%|██████████| 4/4 [00:00<00:00, 16.51it/s]\n",
            "Epoch 43 - Training loss: 0.0018912689702119678: 100%|██████████| 4/4 [00:00<00:00,  7.30it/s]\n",
            "Epoch 43 - Training loss: 0.0018840281700249761: 100%|██████████| 4/4 [00:00<00:00, 15.99it/s]\n",
            "Epoch 44 - Training loss: 0.0018818468670360744: 100%|██████████| 4/4 [00:00<00:00,  7.46it/s]\n",
            "Epoch 44 - Training loss: 0.0018752702453639358: 100%|██████████| 4/4 [00:00<00:00, 16.20it/s]\n",
            "Epoch 45 - Training loss: 0.0018725153349805623: 100%|██████████| 4/4 [00:00<00:00,  7.35it/s]\n",
            "Epoch 45 - Training loss: 0.0018666451214812696: 100%|██████████| 4/4 [00:00<00:00, 15.33it/s]\n",
            "Epoch 46 - Training loss: 0.001863187353592366: 100%|██████████| 4/4 [00:00<00:00,  7.44it/s]\n",
            "Epoch 46 - Training loss: 0.0018580170581117272: 100%|██████████| 4/4 [00:00<00:00, 16.98it/s]\n",
            "Epoch 47 - Training loss: 0.0018539235170464963: 100%|██████████| 4/4 [00:00<00:00,  7.18it/s]\n",
            "Epoch 47 - Training loss: 0.0018495105614420027: 100%|██████████| 4/4 [00:00<00:00, 16.17it/s]\n",
            "Epoch 48 - Training loss: 0.0018449842755217105: 100%|██████████| 4/4 [00:00<00:00,  7.31it/s]\n",
            "Epoch 48 - Training loss: 0.0018410282500553876: 100%|██████████| 4/4 [00:00<00:00, 16.13it/s]\n",
            "Epoch 49 - Training loss: 0.0018358205852564424: 100%|██████████| 4/4 [00:00<00:00,  7.43it/s]\n",
            "Epoch 49 - Training loss: 0.0018329707090742886: 100%|██████████| 4/4 [00:00<00:00, 16.45it/s]\n",
            "Epoch 50 - Training loss: 0.0018269540159963071: 100%|██████████| 4/4 [00:00<00:00,  7.44it/s]\n",
            "Epoch 50 - Training loss: 0.0018243280937895179: 100%|██████████| 4/4 [00:00<00:00, 16.09it/s]\n",
            "Epoch 51 - Training loss: 0.0018179765320383012: 100%|██████████| 4/4 [00:00<00:00,  7.18it/s]\n",
            "Epoch 51 - Training loss: 0.0018161163898184896: 100%|██████████| 4/4 [00:00<00:00, 16.11it/s]\n",
            "Epoch 52 - Training loss: 0.0018091454112436622: 100%|██████████| 4/4 [00:00<00:00,  7.22it/s]\n",
            "Epoch 52 - Training loss: 0.001807879947591573: 100%|██████████| 4/4 [00:00<00:00, 16.36it/s] \n",
            "Epoch 53 - Training loss: 0.0018003683653660119: 100%|██████████| 4/4 [00:00<00:00,  7.44it/s]\n",
            "Epoch 53 - Training loss: 0.0017996571550611407: 100%|██████████| 4/4 [00:00<00:00, 14.65it/s]\n",
            "Epoch 54 - Training loss: 0.0017917337827384472: 100%|██████████| 4/4 [00:00<00:00,  7.43it/s]\n",
            "Epoch 54 - Training loss: 0.001791690126992762: 100%|██████████| 4/4 [00:00<00:00, 16.35it/s] \n",
            "Epoch 55 - Training loss: 0.0017828882555477321: 100%|██████████| 4/4 [00:00<00:00,  7.42it/s]\n",
            "Epoch 55 - Training loss: 0.001783599000191316: 100%|██████████| 4/4 [00:00<00:00, 16.01it/s] \n",
            "Epoch 56 - Training loss: 0.0017742907220963389: 100%|██████████| 4/4 [00:00<00:00,  7.30it/s]\n",
            "Epoch 56 - Training loss: 0.0017754001601133496: 100%|██████████| 4/4 [00:00<00:00, 16.70it/s]\n",
            "Epoch 57 - Training loss: 0.0017657425196375698: 100%|██████████| 4/4 [00:00<00:00,  7.19it/s]\n",
            "Epoch 57 - Training loss: 0.0017673789407126606: 100%|██████████| 4/4 [00:00<00:00, 15.92it/s]\n",
            "Epoch 58 - Training loss: 0.0017570871277712286: 100%|██████████| 4/4 [00:00<00:00,  7.25it/s]\n",
            "Epoch 58 - Training loss: 0.0017595317913219333: 100%|██████████| 4/4 [00:00<00:00, 15.72it/s]\n",
            "Epoch 59 - Training loss: 0.0017485136340837926: 100%|██████████| 4/4 [00:00<00:00,  7.44it/s]\n",
            "Epoch 59 - Training loss: 0.0017514571372885257: 100%|██████████| 4/4 [00:00<00:00, 16.79it/s]\n",
            "Epoch 60 - Training loss: 0.0017400124634150416: 100%|██████████| 4/4 [00:00<00:00,  7.38it/s]\n",
            "Epoch 60 - Training loss: 0.0017435102199669927: 100%|██████████| 4/4 [00:00<00:00, 16.67it/s]\n",
            "Epoch 61 - Training loss: 0.0017314227588940412: 100%|██████████| 4/4 [00:00<00:00,  7.34it/s]\n",
            "Epoch 61 - Training loss: 0.0017358755867462605: 100%|██████████| 4/4 [00:00<00:00, 16.56it/s]\n",
            "Epoch 62 - Training loss: 0.00172309490153566: 100%|██████████| 4/4 [00:00<00:00,  7.36it/s]  \n",
            "Epoch 62 - Training loss: 0.0017276867292821407: 100%|██████████| 4/4 [00:00<00:00, 16.01it/s]\n",
            "Epoch 63 - Training loss: 0.0017147923645097762: 100%|██████████| 4/4 [00:00<00:00,  7.45it/s]\n",
            "Epoch 63 - Training loss: 0.0017201715672854334: 100%|██████████| 4/4 [00:00<00:00, 16.38it/s]\n",
            "Epoch 64 - Training loss: 0.001706323935650289: 100%|██████████| 4/4 [00:00<00:00,  7.41it/s] \n",
            "Epoch 64 - Training loss: 0.0017122822464443743: 100%|██████████| 4/4 [00:00<00:00, 16.10it/s]\n",
            "Epoch 65 - Training loss: 0.001697781786788255: 100%|██████████| 4/4 [00:00<00:00,  7.38it/s] \n",
            "Epoch 65 - Training loss: 0.0017044447595253587: 100%|██████████| 4/4 [00:00<00:00, 16.93it/s]\n",
            "Epoch 66 - Training loss: 0.001689404743956402: 100%|██████████| 4/4 [00:00<00:00,  7.36it/s]\n",
            "Epoch 66 - Training loss: 0.001696308027021587: 100%|██████████| 4/4 [00:00<00:00, 16.24it/s] \n",
            "Epoch 67 - Training loss: 0.0016809095977805555: 100%|██████████| 4/4 [00:00<00:00,  7.30it/s]\n",
            "Epoch 67 - Training loss: 0.0016883467324078083: 100%|██████████| 4/4 [00:00<00:00, 16.32it/s]\n",
            "Epoch 68 - Training loss: 0.0016724035958759487: 100%|██████████| 4/4 [00:00<00:00,  7.49it/s]\n",
            "Epoch 68 - Training loss: 0.0016807140782475471: 100%|██████████| 4/4 [00:00<00:00, 16.46it/s]\n",
            "Epoch 69 - Training loss: 0.0016640470130369067: 100%|██████████| 4/4 [00:00<00:00,  7.34it/s]\n",
            "Epoch 69 - Training loss: 0.0016728248447179794: 100%|██████████| 4/4 [00:00<00:00, 16.42it/s]\n",
            "Epoch 70 - Training loss: 0.0016556020709685981: 100%|██████████| 4/4 [00:00<00:00,  7.35it/s]\n",
            "Epoch 70 - Training loss: 0.0016647337761241943: 100%|██████████| 4/4 [00:00<00:00, 16.40it/s]\n",
            "Epoch 71 - Training loss: 0.001647163589950651: 100%|██████████| 4/4 [00:00<00:00,  7.34it/s] \n",
            "Epoch 71 - Training loss: 0.0016568727151025087: 100%|██████████| 4/4 [00:00<00:00, 15.57it/s]\n",
            "Epoch 72 - Training loss: 0.0016387711511924863: 100%|██████████| 4/4 [00:00<00:00,  7.35it/s]\n",
            "Epoch 72 - Training loss: 0.0016489873523823917: 100%|██████████| 4/4 [00:00<00:00, 16.77it/s]\n",
            "Epoch 73 - Training loss: 0.001630245620617643: 100%|██████████| 4/4 [00:00<00:00,  7.32it/s] \n",
            "Epoch 73 - Training loss: 0.0016410812095273286: 100%|██████████| 4/4 [00:00<00:00, 16.93it/s]\n",
            "Epoch 74 - Training loss: 0.001621665433049202: 100%|██████████| 4/4 [00:00<00:00,  7.48it/s]\n",
            "Epoch 74 - Training loss: 0.0016331682563759387: 100%|██████████| 4/4 [00:00<00:00, 16.80it/s]\n",
            "Epoch 75 - Training loss: 0.0016131284937728196: 100%|██████████| 4/4 [00:00<00:00,  7.39it/s]\n",
            "Epoch 75 - Training loss: 0.0016254328074865043: 100%|██████████| 4/4 [00:00<00:00, 16.86it/s]\n",
            "Epoch 76 - Training loss: 0.0016047552635427564: 100%|██████████| 4/4 [00:00<00:00,  7.44it/s]\n",
            "Epoch 76 - Training loss: 0.001617209374671802: 100%|██████████| 4/4 [00:00<00:00, 15.74it/s] \n",
            "Epoch 77 - Training loss: 0.0015960769960656762: 100%|██████████| 4/4 [00:00<00:00,  7.41it/s]\n",
            "Epoch 77 - Training loss: 0.0016090570425149053: 100%|██████████| 4/4 [00:00<00:00, 16.77it/s]\n",
            "Epoch 78 - Training loss: 0.0015874719538260251: 100%|██████████| 4/4 [00:00<00:00,  7.37it/s]\n",
            "Epoch 78 - Training loss: 0.0016009735991246998: 100%|██████████| 4/4 [00:00<00:00, 16.38it/s]\n",
            "Epoch 79 - Training loss: 0.0015788046875968575: 100%|██████████| 4/4 [00:00<00:00,  7.43it/s]\n",
            "Epoch 79 - Training loss: 0.0015928774955682456: 100%|██████████| 4/4 [00:00<00:00, 16.08it/s]\n",
            "Epoch 80 - Training loss: 0.0015702011587563902: 100%|██████████| 4/4 [00:00<00:00,  7.33it/s]\n",
            "Epoch 80 - Training loss: 0.0015847833128646016: 100%|██████████| 4/4 [00:00<00:00, 15.88it/s]\n",
            "Epoch 81 - Training loss: 0.0015614784497302026: 100%|██████████| 4/4 [00:00<00:00,  7.40it/s]\n",
            "Epoch 81 - Training loss: 0.00157659497926943: 100%|██████████| 4/4 [00:00<00:00, 16.56it/s]  \n",
            "Epoch 82 - Training loss: 0.001552743517095223: 100%|██████████| 4/4 [00:00<00:00,  7.31it/s] \n",
            "Epoch 82 - Training loss: 0.0015683765232097358: 100%|██████████| 4/4 [00:00<00:00, 16.63it/s]\n",
            "Epoch 83 - Training loss: 0.00154375410056673: 100%|██████████| 4/4 [00:00<00:00,  7.38it/s]  \n",
            "Epoch 83 - Training loss: 0.001559967058710754: 100%|██████████| 4/4 [00:00<00:00, 16.79it/s] \n",
            "Epoch 84 - Training loss: 0.0015348998131230474: 100%|██████████| 4/4 [00:00<00:00,  7.34it/s]\n",
            "Epoch 84 - Training loss: 0.0015516088751610368: 100%|██████████| 4/4 [00:00<00:00, 17.02it/s]\n",
            "Epoch 85 - Training loss: 0.001525905419839546: 100%|██████████| 4/4 [00:00<00:00,  7.34it/s] \n",
            "Epoch 85 - Training loss: 0.0015431527572218329: 100%|██████████| 4/4 [00:00<00:00, 16.30it/s]\n",
            "Epoch 86 - Training loss: 0.0015168407408054918: 100%|██████████| 4/4 [00:00<00:00,  7.39it/s]\n",
            "Epoch 86 - Training loss: 0.0015347360749728978: 100%|██████████| 4/4 [00:00<00:00, 16.32it/s]\n",
            "Epoch 87 - Training loss: 0.0015076906129252166: 100%|██████████| 4/4 [00:00<00:00,  7.35it/s]\n",
            "Epoch 87 - Training loss: 0.0015260436339303851: 100%|██████████| 4/4 [00:00<00:00, 16.51it/s]\n",
            "Epoch 88 - Training loss: 0.0014984908048063517: 100%|██████████| 4/4 [00:00<00:00,  7.24it/s]\n",
            "Epoch 88 - Training loss: 0.0015173557330854237: 100%|██████████| 4/4 [00:00<00:00, 16.72it/s]\n",
            "Epoch 89 - Training loss: 0.001489295915234834: 100%|██████████| 4/4 [00:00<00:00,  7.41it/s] \n",
            "Epoch 89 - Training loss: 0.0015086512721609324: 100%|██████████| 4/4 [00:00<00:00, 16.80it/s]\n",
            "Epoch 90 - Training loss: 0.0014799039927311242: 100%|██████████| 4/4 [00:00<00:00,  7.43it/s]\n",
            "Epoch 90 - Training loss: 0.0014998327242210507: 100%|██████████| 4/4 [00:00<00:00, 15.20it/s]\n",
            "Epoch 91 - Training loss: 0.0014703980705235153: 100%|██████████| 4/4 [00:00<00:00,  7.42it/s]\n",
            "Epoch 91 - Training loss: 0.0014907537261024117: 100%|██████████| 4/4 [00:00<00:00, 16.51it/s]\n",
            "Epoch 92 - Training loss: 0.0014607641787733883: 100%|██████████| 4/4 [00:00<00:00,  7.34it/s]\n",
            "Epoch 92 - Training loss: 0.0014817501360084862: 100%|██████████| 4/4 [00:00<00:00, 16.19it/s]\n",
            "Epoch 93 - Training loss: 0.001451130141504109: 100%|██████████| 4/4 [00:00<00:00,  7.54it/s] \n",
            "Epoch 93 - Training loss: 0.0014726218942087144: 100%|██████████| 4/4 [00:00<00:00, 16.41it/s]\n",
            "Epoch 94 - Training loss: 0.0014411707234103233: 100%|██████████| 4/4 [00:00<00:00,  7.47it/s]\n",
            "Epoch 94 - Training loss: 0.0014632090460509062: 100%|██████████| 4/4 [00:00<00:00, 16.25it/s]\n",
            "Epoch 95 - Training loss: 0.0014311287377495319: 100%|██████████| 4/4 [00:00<00:00,  7.50it/s]\n",
            "Epoch 95 - Training loss: 0.001453739416319877: 100%|██████████| 4/4 [00:00<00:00, 15.89it/s] \n",
            "Epoch 96 - Training loss: 0.001421066845068708: 100%|██████████| 4/4 [00:00<00:00,  7.36it/s] \n",
            "Epoch 96 - Training loss: 0.0014441101520787925: 100%|██████████| 4/4 [00:00<00:00, 17.07it/s]\n",
            "Epoch 97 - Training loss: 0.0014107958995737135: 100%|██████████| 4/4 [00:00<00:00,  7.22it/s]\n",
            "Epoch 97 - Training loss: 0.0014343376969918609: 100%|██████████| 4/4 [00:00<00:00, 16.49it/s]\n",
            "Epoch 98 - Training loss: 0.001400229608407244: 100%|██████████| 4/4 [00:00<00:00,  7.46it/s]\n",
            "Epoch 98 - Training loss: 0.0014243807236198336: 100%|██████████| 4/4 [00:00<00:00, 16.72it/s]\n",
            "Epoch 99 - Training loss: 0.0013895573792979121: 100%|██████████| 4/4 [00:00<00:00,  7.30it/s]\n",
            "Epoch 99 - Training loss: 0.0014142740401439369: 100%|██████████| 4/4 [00:00<00:00, 14.54it/s]\n"
          ],
          "name": "stderr"
        }
      ]
    }
  ]
}