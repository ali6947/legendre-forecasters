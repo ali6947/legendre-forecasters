{
  "nbformat": 4,
  "nbformat_minor": 0,
  "metadata": {
    "kernelspec": {
      "language": "python",
      "display_name": "Python 3",
      "name": "python3"
    },
    "language_info": {
      "name": "python",
      "version": "3.7.9",
      "mimetype": "text/x-python",
      "codemirror_mode": {
        "name": "ipython",
        "version": 3
      },
      "pygments_lexer": "ipython3",
      "nbconvert_exporter": "python",
      "file_extension": ".py"
    },
    "colab": {
      "name": "lmu_psmnist_trained.ipynb",
      "provenance": [],
      "collapsed_sections": []
    },
    "accelerator": "GPU"
  },
  "cells": [
    {
      "cell_type": "code",
      "metadata": {
        "id": "qYahiHxsgZil",
        "trusted": true,
        "colab": {
          "base_uri": "https://localhost:8080/"
        },
        "outputId": "0660b2a9-4538-4a7d-8ba4-48d26752dba6"
      },
      "source": [
        "!pip install nengolib"
      ],
      "execution_count": 1,
      "outputs": [
        {
          "output_type": "stream",
          "text": [
            "Collecting nengolib\n",
            "\u001b[?25l  Downloading https://files.pythonhosted.org/packages/da/00/62bbce813d135da3799f4afc26957d942d4ae27085fb0df1bfb57dcf692b/nengolib-0.5.2-py2.py3-none-any.whl (117kB)\n",
            "\u001b[K     |████████████████████████████████| 122kB 4.4MB/s \n",
            "\u001b[?25hRequirement already satisfied: numpy>=1.13 in /usr/local/lib/python3.7/dist-packages (from nengolib) (1.19.5)\n",
            "Collecting nengo<3.0,>=2.2.0\n",
            "\u001b[?25l  Downloading https://files.pythonhosted.org/packages/f7/ce/e314e1176bfbbe6c3b6cf4e8fa0620cafad8f8bad04203c55881e9cb2fb0/nengo-2.8.0-py2.py3-none-any.whl (375kB)\n",
            "\u001b[K     |████████████████████████████████| 378kB 29.2MB/s \n",
            "\u001b[?25hRequirement already satisfied: scipy>=0.19.0 in /usr/local/lib/python3.7/dist-packages (from nengolib) (1.4.1)\n",
            "Installing collected packages: nengo, nengolib\n",
            "Successfully installed nengo-2.8.0 nengolib-0.5.2\n"
          ],
          "name": "stdout"
        }
      ]
    },
    {
      "cell_type": "code",
      "metadata": {
        "id": "mAiRtAIA3kM4",
        "trusted": true
      },
      "source": [
        "import torch\n",
        "import torch.nn as nn\n",
        "from sympy.matrices import Matrix, eye, zeros, ones, diag, GramSchmidt\n",
        "import numpy as np\n",
        "from functools import partial\n",
        "import torch.nn.functional as F\n",
        "import math\n",
        "\n",
        "from nengolib.signal import Identity, cont2discrete\n",
        "from nengolib.synapses import LegendreDelay\n",
        "from functools import partial\n",
        "\n",
        "def lecun_uniform(tensor):\n",
        "    fan_in = nn.init._calculate_correct_fan(tensor, 'fan_in')\n",
        "    nn.init.uniform_(tensor, -math.sqrt(3 / fan_in), math.sqrt(3 / fan_in))\n",
        "    \n",
        "class LegendreMemoryUnitCell(nn.Module):\n",
        "  def __init__(self, input_dim, units , order, theta,\n",
        "                 input_encoders_initializer=lecun_uniform,\n",
        "                 hidden_encoders_initializer=lecun_uniform,\n",
        "                 memory_encoders_initializer=partial(torch.nn.init.constant_, val=0),\n",
        "                 input_kernel_initializer=torch.nn.init.xavier_normal_,\n",
        "                 hidden_kernel_initializer=torch.nn.init.xavier_normal_,\n",
        "                #  hidden_kernel_initializer=torch.nn.init.uniform_,\n",
        "                 include_bias=False, #added by ali acc to branch\n",
        "                 memory_kernel_initializer=torch.nn.init.xavier_normal_):\n",
        "    super(LegendreMemoryUnitCell, self).__init__()\n",
        "\n",
        "    self.order = order\n",
        "    self.theta = theta\n",
        "    self.units = units\n",
        "    self.include_bias=include_bias\n",
        "\n",
        "    realizer = Identity()\n",
        "    self._realizer_result = realizer(LegendreDelay(theta=theta, order=self.order))\n",
        "\n",
        "    self._ss = cont2discrete(self._realizer_result.realization, dt=1., method='zoh')\n",
        "\n",
        "    self._A = self._ss.A - np.eye(order)\n",
        "    self._B = self._ss.B\n",
        "    self._C = self._ss.C\n",
        "\n",
        "    self.AT = nn.Parameter(torch.Tensor(self._A), requires_grad=False)\n",
        "    self.BT = nn.Parameter(torch.Tensor(self._B), requires_grad=False)\n",
        "\n",
        "    if self.include_bias:\n",
        "      self.bias = nn.Parameter(torch.Tensor(1, self.units),requires_grad=True) #added by ali for the fix given in github issue\n",
        "\n",
        "    self.encoder_input = nn.Parameter(torch.Tensor(1,input_dim), requires_grad=True)\n",
        "    self.encoder_hidden = nn.Parameter(torch.Tensor(1,self.units), requires_grad=True)\n",
        "    self.encoder_memory = nn.Parameter(torch.Tensor(1,self.order ), requires_grad=True)\n",
        "    self.kernel_input = nn.Parameter(torch.Tensor(self.units, input_dim), requires_grad=True)\n",
        "    self.kernel_hidden = nn.Parameter(torch.Tensor(self.units, self.units), requires_grad=True)\n",
        "    self.kernel_memory = nn.Parameter(torch.Tensor(self.units, self.order), requires_grad=True)\n",
        "    \n",
        "    if self.include_bias:\n",
        "      torch.nn.init.constant_(self.bias, 0)\n",
        "\n",
        "    input_encoders_initializer(self.encoder_input)\n",
        "    hidden_encoders_initializer(self.encoder_hidden)\n",
        "    memory_encoders_initializer(self.encoder_memory)\n",
        "    input_kernel_initializer(self.kernel_input)\n",
        "    hidden_kernel_initializer(self.kernel_hidden)\n",
        "    memory_kernel_initializer(self.kernel_memory)\n",
        "\n",
        "  def EulerOdeSolver(self):\n",
        "    A_hat = (self.step_delta_t/self.theta)*self.AT + torch.eye(self.order,self.d_order_ode)\n",
        "    B_hat = (self.step_delta_t/self.theta)*self.BT\n",
        "\n",
        "    return A_hat, B_hat\n",
        "\n",
        "  def forward(self, xt, states):\n",
        "    ht, mt = states\n",
        "\n",
        "    ut = F.linear(xt, self.encoder_input)+F.linear(ht, self.encoder_hidden)+  F.linear(mt, self.encoder_memory)\n",
        "\n",
        "\n",
        "    mt = mt + F.linear(mt, self.AT) + F.linear(ut, self.BT)\n",
        "\n",
        "    ht = nn.Tanh()(F.linear(xt, self.kernel_input) + F.linear(ht, self.kernel_hidden) + F.linear(mt, self.kernel_memory)+(self.bias if self.include_bias else 0))\n",
        "    \n",
        "    return ht, (ht, mt)\n",
        "\n",
        "class LegendreMemoryUnit(nn.Module):\n",
        "  def __init__(self, input_dim, units , order, theta):\n",
        "    super(LegendreMemoryUnit, self).__init__()\n",
        "\n",
        "    self.units = units\n",
        "    self.order = order\n",
        "\n",
        "    self.lmucell = LegendreMemoryUnitCell(input_dim, units , order, theta,include_bias=False)\n",
        "\n",
        "  def forward(self, xt):\n",
        "    outputs = []\n",
        "    \n",
        "    h0 = torch.zeros(xt.size(0),self.units).cuda()\n",
        "    m0 = torch.zeros(xt.size(0),self.order).cuda()\n",
        "    states = (h0,m0)\n",
        "    for i in range(xt.size(1)):\n",
        "      out, states = self.lmucell(xt[:,i,:], states)\n",
        "      outputs += [out]\n",
        "    return torch.stack(outputs).permute(1,0,2), states\n",
        "    # return torch.stack(outputs).permute(1,0,2), states\n"
      ],
      "execution_count": 2,
      "outputs": []
    },
    {
      "cell_type": "markdown",
      "metadata": {
        "id": "tRC62TebNYWJ"
      },
      "source": [
        "# Test LMU output"
      ]
    },
    {
      "cell_type": "code",
      "metadata": {
        "id": "JfTlZrsfbSXH",
        "trusted": true,
        "colab": {
          "base_uri": "https://localhost:8080/"
        },
        "outputId": "c4b51e92-de8f-4b66-8c7e-ba07eb97256b"
      },
      "source": [
        "x = torch.rand(64,5000,1).to(torch.device(\"cuda:0\"))\n",
        "h0 = torch.rand(64,49).to(torch.device(\"cuda:0\"))\n",
        "m0 = torch.rand(64,4).to(torch.device(\"cuda:0\"))\n",
        "model = LegendreMemoryUnit(1,49,4,4).to(torch.device(\"cuda:0\"))\n",
        "res, _ = model(x)\n",
        "print(res.shape)"
      ],
      "execution_count": 3,
      "outputs": [
        {
          "output_type": "stream",
          "text": [
            "torch.Size([64, 5000, 49])\n"
          ],
          "name": "stdout"
        }
      ]
    },
    {
      "cell_type": "markdown",
      "metadata": {
        "id": "mRuoDB59NvMX"
      },
      "source": [
        "# Models LSTM - LMU"
      ]
    },
    {
      "cell_type": "code",
      "metadata": {
        "id": "51nVz6TsX9Fc",
        "trusted": true,
        "colab": {
          "base_uri": "https://localhost:8080/"
        },
        "outputId": "b800b68f-a1c0-422d-87a6-043485505150"
      },
      "source": [
        "class LMUModel(nn.Module):\n",
        "  def __init__(self):\n",
        "    super(LMUModel, self).__init__()\n",
        "    self.LMU = LegendreMemoryUnit(1,212,256,784)\n",
        "    self.dense = nn.Linear(212,10)\n",
        "\n",
        "  def forward(self,x):\n",
        "    x, _ = self.LMU(x)\n",
        "    x = self.dense(x[:,-1,:])\n",
        "\n",
        "    return x\n",
        "\n",
        "model_lstm = LMUModel()\n",
        "\n",
        "print(\"number of parameters : \", sum(p.numel() for p in model_lstm.parameters() if p.requires_grad))\n",
        "print()\n"
      ],
      "execution_count": 4,
      "outputs": [
        {
          "output_type": "stream",
          "text": [
            "number of parameters :  102027\n",
            "\n"
          ],
          "name": "stdout"
        }
      ]
    },
    {
      "cell_type": "code",
      "metadata": {
        "id": "DrNF6LetOGun",
        "trusted": true,
        "colab": {
          "base_uri": "https://localhost:8080/"
        },
        "outputId": "ea70aafa-a083-430c-e404-064b5245f678"
      },
      "source": [
        "class LSTMModel(nn.Module):\n",
        "  def __init__(self):\n",
        "    super(LSTMModel, self).__init__()\n",
        "    self.LSTM = nn.LSTM(1,25,1,batch_first=True)\n",
        "    self.dense = nn.Linear(25,10)\n",
        "\n",
        "  def forward(self,x):\n",
        "    x, _ = self.LSTM(x)\n",
        "    x = self.dense(x[:,-1,:])\n",
        "\n",
        "    return x\n",
        "    \n",
        "model_lstm = LSTMModel()\n",
        "\n",
        "print(\"number of parameters : \", sum(p.numel() for p in model_lstm.parameters() if p.requires_grad))\n",
        "print()\n"
      ],
      "execution_count": 5,
      "outputs": [
        {
          "output_type": "stream",
          "text": [
            "number of parameters :  3060\n",
            "\n"
          ],
          "name": "stdout"
        }
      ]
    },
    {
      "cell_type": "markdown",
      "metadata": {
        "id": "3xncoH8HPLsg"
      },
      "source": [
        "# Utils"
      ]
    },
    {
      "cell_type": "code",
      "metadata": {
        "id": "yaCT4Pi_PakY",
        "trusted": true
      },
      "source": [
        "import numpy as np\n",
        "def train(model, epochs, dataset, dataset_valid = None):\n",
        "  for e in range(epochs):\n",
        "      model.train()\n",
        "      running_loss = 0\n",
        "      sum_acc = 0      \n",
        "      with tqdm(total=len(dataset)) as bar:\n",
        "        for i, (X, y) in enumerate(dataset):\n",
        "            optimizer.zero_grad()\n",
        "            \n",
        "            output = model(X.cuda())\n",
        "            # print(output.shape)\n",
        "            # print(y.shape)\n",
        "            loss_ll = criterion(output, y.cuda())\n",
        "            \n",
        "            loss_ll.backward()\n",
        "            \n",
        "            optimizer.step()\n",
        "            y_num=y.cpu().detach().numpy() \n",
        "            output_num=output.cpu().detach().numpy() \n",
        "            pred=np.argmax(output_num,axis=1)\n",
        "            acc=np.sum(pred==y_num)\n",
        "#             print(acc)\n",
        "            sum_acc+=(acc/len(pred))\n",
        "#             print(len(dataset))\n",
        "#             print(len(pred))\n",
        "            running_loss += loss_ll.item()\n",
        "\n",
        "            bar.update(1)\n",
        "            bar.set_description(\"Epoch {} - Training loss: {}, Accuracy={}\".format(e, running_loss/len(dataset),sum_acc/len(dataset)))\n",
        "\n",
        "      model.eval()\n",
        "      running_loss = 0\n",
        "      sum_acc = 0         \n",
        "      outs = []\n",
        "      with tqdm(total=len(dataset_valid)) as bar:\n",
        "        for i, (X, y) in enumerate(dataset_valid):\n",
        "            optimizer.zero_grad()\n",
        "            \n",
        "            output = model(X.cuda())\n",
        "            # t1=output.detach().cpu().numpy()[0][-100:]\n",
        "            # t2=y.detach().cpu().numpy()[0][-100:]\n",
        "            loss_ll = criterion(output, y.cuda())\n",
        "            y_num=y.cpu().detach().numpy() \n",
        "            output_num=output.cpu().detach().numpy() \n",
        "            pred=np.argmax(output_num,axis=1)\n",
        "            acc=np.sum(pred==y_num)\n",
        "#             print(acc)\n",
        "            sum_acc+=(acc/len(pred))\n",
        "#             print(pred)\n",
        "#             print(y_num)\n",
        "#             print(sum_acc,acc)\n",
        "            running_loss += loss_ll.item()\n",
        "            \n",
        "            # outs.append(output)\n",
        "            bar.update(1)\n",
        "            bar.set_description(\"Epoch {} - Validation loss: {}, Accuracy={}\".format(e, running_loss/len(dataset_valid),sum_acc/len(dataset_valid)))\n",
        "      # plt.plot(t1)\n",
        "      # plt.plot(t2)\n",
        "      # plt.show()\n"
      ],
      "execution_count": 6,
      "outputs": []
    },
    {
      "cell_type": "markdown",
      "metadata": {
        "id": "rUlSXcORWqtn"
      },
      "source": [
        ""
      ]
    },
    {
      "cell_type": "markdown",
      "metadata": {
        "id": "wQ9gHUDPDAZ6"
      },
      "source": [
        "# psMNIST dataset loading"
      ]
    },
    {
      "cell_type": "code",
      "metadata": {
        "id": "OsRAIkKZDB9O",
        "trusted": true
      },
      "source": [
        "import numpy as np\n",
        "import matplotlib.pyplot as plt\n",
        "from IPython.display import Image, display\n",
        "import tensorflow as tf"
      ],
      "execution_count": 7,
      "outputs": []
    },
    {
      "cell_type": "code",
      "metadata": {
        "id": "fFENTI3tDSLz",
        "trusted": true
      },
      "source": [
        "seed = 0\n",
        "tf.random.set_seed(seed)\n",
        "np.random.seed(seed)\n",
        "rng = np.random.RandomState(seed)"
      ],
      "execution_count": 8,
      "outputs": []
    },
    {
      "cell_type": "code",
      "metadata": {
        "id": "3a7YuTYmDWCK",
        "trusted": true,
        "colab": {
          "base_uri": "https://localhost:8080/"
        },
        "outputId": "caa3096b-64df-4001-dda8-91582d034ef9"
      },
      "source": [
        "(train_images, train_labels), (\n",
        "    test_images,\n",
        "    test_labels,\n",
        ") = tf.keras.datasets.mnist.load_data()"
      ],
      "execution_count": 9,
      "outputs": [
        {
          "output_type": "stream",
          "text": [
            "Downloading data from https://storage.googleapis.com/tensorflow/tf-keras-datasets/mnist.npz\n",
            "11493376/11490434 [==============================] - 0s 0us/step\n"
          ],
          "name": "stdout"
        }
      ]
    },
    {
      "cell_type": "code",
      "metadata": {
        "id": "C7MmEQLTDfHN",
        "trusted": true,
        "colab": {
          "base_uri": "https://localhost:8080/"
        },
        "outputId": "d2bb3d2b-18c5-48bb-8287-511c6baefb4c"
      },
      "source": [
        "print(len(test_images))"
      ],
      "execution_count": 10,
      "outputs": [
        {
          "output_type": "stream",
          "text": [
            "10000\n"
          ],
          "name": "stdout"
        }
      ]
    },
    {
      "cell_type": "code",
      "metadata": {
        "id": "Dc8RUOdCDnk0",
        "trusted": true,
        "colab": {
          "base_uri": "https://localhost:8080/",
          "height": 264
        },
        "outputId": "e04311a0-241d-4108-8549-4cc69493ff84"
      },
      "source": [
        "train_images = train_images / 255\n",
        "test_images = test_images / 255\n",
        "\n",
        "plt.figure()\n",
        "plt.imshow(np.reshape(train_images[0], (28, 28)), cmap=\"gray\")\n",
        "plt.axis(\"off\")\n",
        "plt.title(f\"Sample image of the digit '{train_labels[0]}'\")\n",
        "plt.show()"
      ],
      "execution_count": 11,
      "outputs": [
        {
          "output_type": "display_data",
          "data": {
            "image/png": "[encoded data removed]",
            "text/plain": [
              "<Figure size 432x288 with 1 Axes>"
            ]
          },
          "metadata": {
            "tags": [],
            "needs_background": "light"
          }
        }
      ]
    },
    {
      "cell_type": "code",
      "metadata": {
        "id": "L9PyFbuUEXSQ",
        "trusted": true,
        "colab": {
          "base_uri": "https://localhost:8080/",
          "height": 74
        },
        "outputId": "16149f09-1520-4f77-b652-f7a950b2204c"
      },
      "source": [
        "train_images = train_images.reshape((train_images.shape[0], -1, 1))\n",
        "test_images = test_images.reshape((test_images.shape[0], -1, 1))\n",
        "\n",
        "# we'll display the sequence in 8 rows just so that it fits better on the screen\n",
        "plt.figure()\n",
        "plt.imshow(train_images[0].reshape(8, -1), cmap=\"gray\")\n",
        "plt.axis(\"off\")\n",
        "plt.title(f\"Sample sequence of the digit '{train_labels[0]}' (reshaped to 98 x 8)\")\n",
        "plt.show()"
      ],
      "execution_count": 12,
      "outputs": [
        {
          "output_type": "display_data",
          "data": {
            "image/png": "[encoded data removed]",
            "text/plain": [
              "<Figure size 432x288 with 1 Axes>"
            ]
          },
          "metadata": {
            "tags": [],
            "needs_background": "light"
          }
        }
      ]
    },
    {
      "cell_type": "code",
      "metadata": {
        "id": "I3e_Ct2XEq9d",
        "trusted": true,
        "colab": {
          "base_uri": "https://localhost:8080/",
          "height": 74
        },
        "outputId": "1ceb5e30-a46d-4814-f2ad-458e7d755a8f"
      },
      "source": [
        "perm = rng.permutation(train_images.shape[1])\n",
        "train_images = train_images[:, perm]\n",
        "test_images = test_images[:, perm]\n",
        "\n",
        "plt.figure()\n",
        "plt.imshow(train_images[0].reshape(8, -1), cmap=\"gray\")\n",
        "plt.axis(\"off\")\n",
        "plt.title(f\"Permuted sequence of the digit '{train_labels[0]}' (reshaped to 98 x 8)\")\n",
        "plt.show()"
      ],
      "execution_count": 13,
      "outputs": [
        {
          "output_type": "display_data",
          "data": {
            "image/png": "[encoded data removed]",
            "text/plain": [
              "<Figure size 432x288 with 1 Axes>"
            ]
          },
          "metadata": {
            "tags": [],
            "needs_background": "light"
          }
        }
      ]
    },
    {
      "cell_type": "code",
      "metadata": {
        "id": "kzy5TDrDEvqM",
        "trusted": true,
        "colab": {
          "base_uri": "https://localhost:8080/"
        },
        "outputId": "845e4b03-282d-4f29-ca2c-5692a2ef0303"
      },
      "source": [
        "X_train = train_images[0:50000]\n",
        "X_valid = train_images[50000:]\n",
        "X_test = test_images\n",
        "\n",
        "Y_train = train_labels[0:50000]\n",
        "Y_valid = train_labels[50000:]\n",
        "Y_test = test_labels\n",
        "\n",
        "print(\n",
        "    f\"Training inputs shape: {X_train.shape}, \"\n",
        "    f\"Training targets shape: {Y_train.shape}\"\n",
        ")\n",
        "print(\n",
        "    f\"Validation inputs shape: {X_valid.shape}, \"\n",
        "    f\"Validation targets shape: {Y_valid.shape}\"\n",
        ")\n",
        "print(f\"Testing inputs shape: {X_test.shape}, Testing targets shape: {Y_test.shape}\")"
      ],
      "execution_count": 14,
      "outputs": [
        {
          "output_type": "stream",
          "text": [
            "Training inputs shape: (50000, 784, 1), Training targets shape: (50000,)\n",
            "Validation inputs shape: (10000, 784, 1), Validation targets shape: (10000,)\n",
            "Testing inputs shape: (10000, 784, 1), Testing targets shape: (10000,)\n"
          ],
          "name": "stdout"
        }
      ]
    },
    {
      "cell_type": "code",
      "metadata": {
        "id": "XkA_q8H9H00i",
        "trusted": true,
        "colab": {
          "base_uri": "https://localhost:8080/"
        },
        "outputId": "715bcf2e-cf7d-471f-8d36-0976bd7d1e33"
      },
      "source": [
        "(train_X, train_Y_temp)= (X_train,Y_train.reshape(-1,1)) \n",
        "(test_X, test_Y_temp) = (X_test,Y_test.reshape(-1,1))\n",
        "print(train_Y_temp.shape[0])\n",
        "train_Y=np.zeros((train_Y_temp.shape[0],10),dtype='int')\n",
        "print(test_Y_temp.shape[0])\n",
        "test_Y=np.zeros((test_Y_temp.shape[0],10),dtype='int')\n",
        "train_Y[np.arange(Y_train.size),Y_train] = 1\n",
        "test_Y[np.arange(Y_test.size),Y_test] = 1\n",
        "print(Y_train[:5])\n",
        "print(train_Y[:5])\n",
        "print(Y_test[:5])\n",
        "print(test_Y[:5])\n",
        "train_Y=Y_train\n",
        "test_Y=Y_test\n",
        "print(train_X.shape, test_X.shape,train_Y.shape,test_Y.shape)\n",
        "print(train_X[:5000].shape)"
      ],
      "execution_count": 15,
      "outputs": [
        {
          "output_type": "stream",
          "text": [
            "50000\n",
            "10000\n",
            "[5 0 4 1 9]\n",
            "[[0 0 0 0 0 1 0 0 0 0]\n",
            " [1 0 0 0 0 0 0 0 0 0]\n",
            " [0 0 0 0 1 0 0 0 0 0]\n",
            " [0 1 0 0 0 0 0 0 0 0]\n",
            " [0 0 0 0 0 0 0 0 0 1]]\n",
            "[7 2 1 0 4]\n",
            "[[0 0 0 0 0 0 0 1 0 0]\n",
            " [0 0 1 0 0 0 0 0 0 0]\n",
            " [0 1 0 0 0 0 0 0 0 0]\n",
            " [1 0 0 0 0 0 0 0 0 0]\n",
            " [0 0 0 0 1 0 0 0 0 0]]\n",
            "(50000, 784, 1) (10000, 784, 1) (50000,) (10000,)\n",
            "(5000, 784, 1)\n"
          ],
          "name": "stdout"
        }
      ]
    },
    {
      "cell_type": "code",
      "metadata": {
        "id": "Epm92jbtV4dT"
      },
      "source": [
        "# # Normalisiing data manually b/w 0-1\n",
        "# # for i in range(0,train_X.shape[0]):\n",
        "\n",
        "# train_X_min=np.min(train_X.reshape(-1,784),axis=1)\n",
        "# train_X_max=np.max(train_X.reshape(-1,784),axis=1)\n",
        "# print(train_X_min.shape)\n",
        "# print(train_X_min[:10])\n",
        "# print(sum(train_X_max==1))\n",
        "# print(train_X.reshape(-1,784)[:5])\n",
        "# norm_train_X=((train_X.reshape(-1,784)-train_X_min.reshape((50000,1)))/(train_X_max.reshape((50000,1))-train_X_min.reshape((50000,1)))).reshape(50000,784,1)\n",
        "# print(norm_train_X.shape)\n",
        "# print(norm_train_X[0,:10,0])\n",
        "\n",
        "# test_X_min=np.min(test_X.reshape(-1,784),axis=1)\n",
        "# test_X_max=np.max(test_X.reshape(-1,784),axis=1)\n",
        "# print(test_X_min.shape)\n",
        "# print(test_X_min[:10])\n",
        "# print(sum(test_X_max==1))\n",
        "# print(test_X.reshape(-1,784)[:5])\n",
        "# norm_test_X=((test_X.reshape(-1,784)-test_X_min.reshape((10000,1)))/(test_X_max.reshape((10000,1))-test_X_min.reshape((10000,1)))).reshape(10000,784,1)\n",
        "# print(norm_test_X.shape)\n",
        "# print(norm_test_X[0,:10,0])\n",
        "# # image = (image - image.min())/(image.max() - image.min())"
      ],
      "execution_count": null,
      "outputs": []
    },
    {
      "cell_type": "markdown",
      "metadata": {
        "id": "YWK0XYS9tHuM"
      },
      "source": [
        "# LMU on psMNIST"
      ]
    },
    {
      "cell_type": "code",
      "metadata": {
        "trusted": true,
        "colab": {
          "base_uri": "https://localhost:8080/"
        },
        "id": "YadtXTve0JFK",
        "outputId": "90aa5b7d-5aff-4f9f-ebfb-c95d713a0666"
      },
      "source": [
        "# LMU\n",
        "from tqdm import tqdm\n",
        "import torch.utils.data as data\n",
        "\n",
        "# training on only 5000 and testing on 1000\n",
        "\n",
        "model = LMUModel().cuda()\n",
        "print(\"\\n\\number of paramaters : \", sum(p.numel() for p in model.parameters() if p.requires_grad))\n",
        "print(\"\\n\\n\")\n",
        "criterion = nn.CrossEntropyLoss()\n",
        "optimizer = torch.optim.Adam(model.parameters(), lr=0.0001)\n",
        "model.train()\n",
        "print(model)\n",
        "dataset = torch.utils.data.TensorDataset(torch.Tensor(train_X[:50000]).cuda(), torch.Tensor(train_Y[:50000]).long().cuda())\n",
        "dataset = data.DataLoader(dataset, batch_size=32, shuffle=True)\n",
        "\n",
        "dataset_valid = torch.utils.data.TensorDataset(torch.Tensor(test_X[:10000]).cuda(), torch.Tensor(test_Y[:10000]).long().cuda())\n",
        "dataset_valid = data.DataLoader(dataset_valid, batch_size=16, shuffle=False)\n",
        "\n",
        "train(model, 40, dataset, dataset_valid)"
      ],
      "execution_count": null,
      "outputs": [
        {
          "output_type": "stream",
          "text": [
            "\n",
            "\n",
            "umber of paramaters :  102027\n",
            "\n",
            "\n",
            "\n",
            "LMUModel(\n",
            "  (LMU): LegendreMemoryUnit(\n",
            "    (lmucell): LegendreMemoryUnitCell()\n",
            "  )\n",
            "  (dense): Linear(in_features=212, out_features=10, bias=True)\n",
            ")\n"
          ],
          "name": "stdout"
        },
        {
          "output_type": "stream",
          "text": [
            "Epoch 0 - Training loss: 1.2690409023603109, Accuracy=0.5810340690978887: 100%|██████████| 1563/1563 [13:50<00:00,  1.88it/s]\n",
            "Epoch 0 - Validation loss: 0.790151309633255, Accuracy=0.7498: 100%|██████████| 625/625 [02:46<00:00,  3.76it/s]\n",
            "Epoch 1 - Training loss: 0.625476629295108, Accuracy=0.8060820537428023: 100%|██████████| 1563/1563 [13:17<00:00,  1.96it/s]\n",
            "Epoch 1 - Validation loss: 0.5069858173489571, Accuracy=0.8451: 100%|██████████| 625/625 [02:45<00:00,  3.78it/s]\n",
            "Epoch 2 - Training loss: 0.46411421717700485, Accuracy=0.8558861164427384: 100%|██████████| 1563/1563 [13:10<00:00,  1.98it/s]\n",
            "Epoch 2 - Validation loss: 0.45048632298707963, Accuracy=0.8603: 100%|██████████| 625/625 [02:43<00:00,  3.83it/s]\n",
            "Epoch 3 - Training loss: 0.38297383650250716, Accuracy=0.8809181062060141: 100%|██████████| 1563/1563 [13:09<00:00,  1.98it/s]\n",
            "Epoch 3 - Validation loss: 0.32315512564331295, Accuracy=0.9013: 100%|██████████| 625/625 [02:38<00:00,  3.95it/s]\n",
            "Epoch 4 - Training loss: 0.3354097334376071, Accuracy=0.8961932181701855: 100%|██████████| 1563/1563 [13:05<00:00,  1.99it/s]\n",
            "Epoch 4 - Validation loss: 0.3280263263300061, Accuracy=0.8961: 100%|██████████| 625/625 [02:39<00:00,  3.93it/s]\n",
            "Epoch 5 - Training loss: 0.29898847297777825, Accuracy=0.9058101407549584: 100%|██████████| 1563/1563 [12:57<00:00,  2.01it/s]\n",
            "Epoch 5 - Validation loss: 0.2890421808637679, Accuracy=0.9101: 100%|██████████| 625/625 [02:41<00:00,  3.88it/s]\n",
            "Epoch 6 - Training loss: 0.2710569668549303, Accuracy=0.914427383237364: 100%|██████████| 1563/1563 [12:51<00:00,  2.03it/s]\n",
            "Epoch 6 - Validation loss: 0.25387087285444143, Accuracy=0.921: 100%|██████████| 625/625 [02:38<00:00,  3.94it/s]\n",
            "Epoch 7 - Training loss: 0.24743711387336978, Accuracy=0.9217450415866922: 100%|██████████| 1563/1563 [12:51<00:00,  2.03it/s]\n",
            "Epoch 7 - Validation loss: 0.2570364931277931, Accuracy=0.9208: 100%|██████████| 625/625 [02:37<00:00,  3.98it/s]\n",
            "Epoch 8 - Training loss: 0.2294739659170138, Accuracy=0.9274832053742802: 100%|██████████| 1563/1563 [12:52<00:00,  2.02it/s]\n",
            "Epoch 8 - Validation loss: 0.24096084206923843, Accuracy=0.9241: 100%|██████████| 625/625 [02:36<00:00,  3.99it/s]\n",
            "Epoch 9 - Training loss: 0.21150743631051372, Accuracy=0.9346809021113244: 100%|██████████| 1563/1563 [12:56<00:00,  2.01it/s]\n",
            "Epoch 9 - Validation loss: 0.22781321981362998, Accuracy=0.9306: 100%|██████████| 625/625 [02:39<00:00,  3.93it/s]\n",
            "Epoch 10 - Training loss: 0.19856891846159141, Accuracy=0.9369001919385797: 100%|██████████| 1563/1563 [12:57<00:00,  2.01it/s]\n",
            "Epoch 10 - Validation loss: 0.22177470932491122, Accuracy=0.9321: 100%|██████████| 625/625 [02:38<00:00,  3.94it/s]\n",
            "Epoch 11 - Training loss: 0.18607611630543333, Accuracy=0.9420585412667947: 100%|██████████| 1563/1563 [12:50<00:00,  2.03it/s]\n",
            "Epoch 11 - Validation loss: 0.2196035245474428, Accuracy=0.9341: 100%|██████████| 625/625 [02:36<00:00,  3.99it/s]\n",
            "Epoch 12 - Training loss: 0.17347364328439352, Accuracy=0.9454174664107485: 100%|██████████| 1563/1563 [12:51<00:00,  2.03it/s]\n",
            "Epoch 12 - Validation loss: 0.20078118690289556, Accuracy=0.937: 100%|██████████| 625/625 [02:37<00:00,  3.96it/s]\n",
            "Epoch 13 - Training loss: 0.1636921267977946, Accuracy=0.9481565898912349: 100%|██████████| 1563/1563 [13:02<00:00,  2.00it/s]\n",
            "Epoch 13 - Validation loss: 0.1807159510238096, Accuracy=0.8385:  89%|████████▉ | 559/625 [02:24<00:16,  3.89it/s]"
          ],
          "name": "stderr"
        }
      ]
    },
    {
      "cell_type": "code",
      "metadata": {
        "colab": {
          "base_uri": "https://localhost:8080/",
          "height": 200
        },
        "id": "mYe76Z3kr0VA",
        "outputId": "d15f85ac-663c-4705-8e51-daceceb47e1a"
      },
      "source": [
        "PATH=\"lmu_trained_till_l0\"\n",
        "torch.save(model, PATH)\n",
        "train(model, 40, dataset, dataset_valid)"
      ],
      "execution_count": null,
      "outputs": [
        {
          "output_type": "error",
          "ename": "NameError",
          "evalue": "ignored",
          "traceback": [
            "\u001b[0;31m---------------------------------------------------------------------------\u001b[0m",
            "\u001b[0;31mNameError\u001b[0m                                 Traceback (most recent call last)",
            "\u001b[0;32m<ipython-input-1-ea986761cfb2>\u001b[0m in \u001b[0;36m<module>\u001b[0;34m()\u001b[0m\n\u001b[1;32m      1\u001b[0m \u001b[0mPATH\u001b[0m\u001b[0;34m=\u001b[0m\u001b[0;34m\"lmu_trained_till_l0\"\u001b[0m\u001b[0;34m\u001b[0m\u001b[0;34m\u001b[0m\u001b[0m\n\u001b[0;32m----> 2\u001b[0;31m \u001b[0mtorch\u001b[0m\u001b[0;34m.\u001b[0m\u001b[0msave\u001b[0m\u001b[0;34m(\u001b[0m\u001b[0mmodel\u001b[0m\u001b[0;34m,\u001b[0m \u001b[0mPATH\u001b[0m\u001b[0;34m)\u001b[0m\u001b[0;34m\u001b[0m\u001b[0;34m\u001b[0m\u001b[0m\n\u001b[0m\u001b[1;32m      3\u001b[0m \u001b[0mtrain\u001b[0m\u001b[0;34m(\u001b[0m\u001b[0mmodel\u001b[0m\u001b[0;34m,\u001b[0m \u001b[0;36m40\u001b[0m\u001b[0;34m,\u001b[0m \u001b[0mdataset\u001b[0m\u001b[0;34m,\u001b[0m \u001b[0mdataset_valid\u001b[0m\u001b[0;34m)\u001b[0m\u001b[0;34m\u001b[0m\u001b[0;34m\u001b[0m\u001b[0m\n",
            "\u001b[0;31mNameError\u001b[0m: name 'torch' is not defined"
          ]
        }
      ]
    },
    {
      "cell_type": "markdown",
      "metadata": {
        "id": "jNhiHpgMtMTo"
      },
      "source": [
        "#LSTM on psMNIST"
      ]
    },
    {
      "cell_type": "code",
      "metadata": {
        "trusted": true,
        "colab": {
          "base_uri": "https://localhost:8080/",
          "height": 494
        },
        "id": "yzgsXqJO0JFL",
        "outputId": "08f03d4f-e15b-401b-f87c-3dfdd65c09f1"
      },
      "source": [
        "# LSTM\n",
        "\n",
        "from tqdm import tqdm\n",
        "import torch.utils.data as data\n",
        "\n",
        "\n",
        "\n",
        "model = LSTMModel().cuda()\n",
        "print(\"\\nnumber of paramaters : \", sum(p.numel() for p in model.parameters() if p.requires_grad))\n",
        "print(\"\\n\\n\")\n",
        "criterion = nn.CrossEntropyLoss()\n",
        "optimizer = torch.optim.Adam(model.parameters(), lr=0.001)\n",
        "model.train()\n",
        "print(model)\n",
        "dataset = torch.utils.data.TensorDataset(torch.Tensor(train_X[:50000]).cuda(), torch.Tensor(train_Y[:50000]).long().cuda())\n",
        "dataset = data.DataLoader(dataset, batch_size=16, shuffle=True)\n",
        "\n",
        "dataset_valid = torch.utils.data.TensorDataset(torch.Tensor(test_X[:10000]).cuda(), torch.Tensor(test_Y[:10000]).long().cuda())\n",
        "dataset_valid = data.DataLoader(dataset_valid, batch_size=16, shuffle=False)\n",
        "\n",
        "train(model, 300, dataset, dataset_valid)"
      ],
      "execution_count": 16,
      "outputs": [
        {
          "output_type": "stream",
          "text": [
            "\r  0%|          | 0/3125 [00:00<?, ?it/s]"
          ],
          "name": "stderr"
        },
        {
          "output_type": "stream",
          "text": [
            "\n",
            "number of paramaters :  3060\n",
            "\n",
            "\n",
            "\n",
            "LSTMModel(\n",
            "  (LSTM): LSTM(1, 25, batch_first=True)\n",
            "  (dense): Linear(in_features=25, out_features=10, bias=True)\n",
            ")\n"
          ],
          "name": "stdout"
        },
        {
          "output_type": "stream",
          "text": [
            "Epoch 0 - Training loss: 0.034661596908569334, Accuracy=0.00168:   2%|▏         | 47/3125 [00:05<05:52,  8.73it/s]\n"
          ],
          "name": "stderr"
        },
        {
          "output_type": "error",
          "ename": "KeyboardInterrupt",
          "evalue": "ignored",
          "traceback": [
            "\u001b[0;31m---------------------------------------------------------------------------\u001b[0m",
            "\u001b[0;31mKeyboardInterrupt\u001b[0m                         Traceback (most recent call last)",
            "\u001b[0;32m<ipython-input-16-9a59c639a5d2>\u001b[0m in \u001b[0;36m<module>\u001b[0;34m()\u001b[0m\n\u001b[1;32m     19\u001b[0m \u001b[0mdataset_valid\u001b[0m \u001b[0;34m=\u001b[0m \u001b[0mdata\u001b[0m\u001b[0;34m.\u001b[0m\u001b[0mDataLoader\u001b[0m\u001b[0;34m(\u001b[0m\u001b[0mdataset_valid\u001b[0m\u001b[0;34m,\u001b[0m \u001b[0mbatch_size\u001b[0m\u001b[0;34m=\u001b[0m\u001b[0;36m16\u001b[0m\u001b[0;34m,\u001b[0m \u001b[0mshuffle\u001b[0m\u001b[0;34m=\u001b[0m\u001b[0;32mFalse\u001b[0m\u001b[0;34m)\u001b[0m\u001b[0;34m\u001b[0m\u001b[0;34m\u001b[0m\u001b[0m\n\u001b[1;32m     20\u001b[0m \u001b[0;34m\u001b[0m\u001b[0m\n\u001b[0;32m---> 21\u001b[0;31m \u001b[0mtrain\u001b[0m\u001b[0;34m(\u001b[0m\u001b[0mmodel\u001b[0m\u001b[0;34m,\u001b[0m \u001b[0;36m300\u001b[0m\u001b[0;34m,\u001b[0m \u001b[0mdataset\u001b[0m\u001b[0;34m,\u001b[0m \u001b[0mdataset_valid\u001b[0m\u001b[0;34m)\u001b[0m\u001b[0;34m\u001b[0m\u001b[0;34m\u001b[0m\u001b[0m\n\u001b[0m",
            "\u001b[0;32m<ipython-input-6-92ec8bb9dc7f>\u001b[0m in \u001b[0;36mtrain\u001b[0;34m(model, epochs, dataset, dataset_valid)\u001b[0m\n\u001b[1;32m     17\u001b[0m \u001b[0;34m\u001b[0m\u001b[0m\n\u001b[1;32m     18\u001b[0m             \u001b[0moptimizer\u001b[0m\u001b[0;34m.\u001b[0m\u001b[0mstep\u001b[0m\u001b[0;34m(\u001b[0m\u001b[0;34m)\u001b[0m\u001b[0;34m\u001b[0m\u001b[0;34m\u001b[0m\u001b[0m\n\u001b[0;32m---> 19\u001b[0;31m             \u001b[0my_num\u001b[0m\u001b[0;34m=\u001b[0m\u001b[0my\u001b[0m\u001b[0;34m.\u001b[0m\u001b[0mcpu\u001b[0m\u001b[0;34m(\u001b[0m\u001b[0;34m)\u001b[0m\u001b[0;34m.\u001b[0m\u001b[0mdetach\u001b[0m\u001b[0;34m(\u001b[0m\u001b[0;34m)\u001b[0m\u001b[0;34m.\u001b[0m\u001b[0mnumpy\u001b[0m\u001b[0;34m(\u001b[0m\u001b[0;34m)\u001b[0m\u001b[0;34m\u001b[0m\u001b[0;34m\u001b[0m\u001b[0m\n\u001b[0m\u001b[1;32m     20\u001b[0m             \u001b[0moutput_num\u001b[0m\u001b[0;34m=\u001b[0m\u001b[0moutput\u001b[0m\u001b[0;34m.\u001b[0m\u001b[0mcpu\u001b[0m\u001b[0;34m(\u001b[0m\u001b[0;34m)\u001b[0m\u001b[0;34m.\u001b[0m\u001b[0mdetach\u001b[0m\u001b[0;34m(\u001b[0m\u001b[0;34m)\u001b[0m\u001b[0;34m.\u001b[0m\u001b[0mnumpy\u001b[0m\u001b[0;34m(\u001b[0m\u001b[0;34m)\u001b[0m\u001b[0;34m\u001b[0m\u001b[0;34m\u001b[0m\u001b[0m\n\u001b[1;32m     21\u001b[0m             \u001b[0mpred\u001b[0m\u001b[0;34m=\u001b[0m\u001b[0mnp\u001b[0m\u001b[0;34m.\u001b[0m\u001b[0margmax\u001b[0m\u001b[0;34m(\u001b[0m\u001b[0moutput_num\u001b[0m\u001b[0;34m,\u001b[0m\u001b[0maxis\u001b[0m\u001b[0;34m=\u001b[0m\u001b[0;36m1\u001b[0m\u001b[0;34m)\u001b[0m\u001b[0;34m\u001b[0m\u001b[0;34m\u001b[0m\u001b[0m\n",
            "\u001b[0;31mKeyboardInterrupt\u001b[0m: "
          ]
        }
      ]
    },
    {
      "cell_type": "code",
      "metadata": {
        "id": "GW9FuiMGIJ3q",
        "trusted": true
      },
      "source": [
        "PATH=\"lstm_trained_till30\"\n",
        "torch.save(model, PATH)"
      ],
      "execution_count": null,
      "outputs": []
    },
    {
      "cell_type": "code",
      "metadata": {
        "id": "lX1bhA4PpiSb",
        "colab": {
          "base_uri": "https://localhost:8080/",
          "height": 1000
        },
        "outputId": "66f3c97d-6c4d-4a48-c529-0807883e474e"
      },
      "source": [
        "model=torch.load(PATH)\n",
        "model.train()\n",
        "criterion = nn.CrossEntropyLoss()\n",
        "optimizer = torch.optim.Adam(model.parameters(), lr=0.001)\n",
        "# model2.eval()\n",
        "train(model, 300, dataset, dataset_valid)"
      ],
      "execution_count": null,
      "outputs": [
        {
          "output_type": "stream",
          "text": [
            "Epoch 0 - Training loss: 0.8620451251745224, Accuracy=0.7096: 100%|██████████| 3125/3125 [01:12<00:00, 42.96it/s]\n",
            "Epoch 0 - Validation loss: 0.8321896995544433, Accuracy=0.7224: 100%|██████████| 625/625 [00:07<00:00, 79.90it/s]\n",
            "Epoch 1 - Training loss: 0.8700532350444794, Accuracy=0.70636: 100%|██████████| 3125/3125 [01:10<00:00, 44.32it/s]\n",
            "Epoch 1 - Validation loss: 0.8364458129405975, Accuracy=0.7251: 100%|██████████| 625/625 [00:07<00:00, 80.77it/s]\n",
            "Epoch 2 - Training loss: 0.8443866179132462, Accuracy=0.71482: 100%|██████████| 3125/3125 [01:10<00:00, 44.34it/s]\n",
            "Epoch 2 - Validation loss: 0.8022522259473801, Accuracy=0.7368: 100%|██████████| 625/625 [00:07<00:00, 79.59it/s]\n",
            "Epoch 3 - Training loss: 0.8276362064552307, Accuracy=0.72208: 100%|██████████| 3125/3125 [01:10<00:00, 44.18it/s]\n",
            "Epoch 3 - Validation loss: 0.8088929971694946, Accuracy=0.7328: 100%|██████████| 625/625 [00:07<00:00, 81.39it/s]\n",
            "Epoch 4 - Training loss: 0.8162514497375488, Accuracy=0.7264: 100%|██████████| 3125/3125 [01:11<00:00, 43.94it/s]\n",
            "Epoch 4 - Validation loss: 0.7986322328090668, Accuracy=0.7364: 100%|██████████| 625/625 [00:07<00:00, 80.78it/s]\n",
            "Epoch 5 - Training loss: 0.8222456976938247, Accuracy=0.72444: 100%|██████████| 3125/3125 [01:10<00:00, 44.42it/s]\n",
            "Epoch 5 - Validation loss: 0.8047880364656448, Accuracy=0.7337: 100%|██████████| 625/625 [00:07<00:00, 82.56it/s]\n",
            "Epoch 6 - Training loss: 0.8090646355199814, Accuracy=0.7285: 100%|██████████| 3125/3125 [01:08<00:00, 45.87it/s]\n",
            "Epoch 6 - Validation loss: 0.7808413868904114, Accuracy=0.7408: 100%|██████████| 625/625 [00:07<00:00, 83.26it/s]\n",
            "Epoch 7 - Training loss: 0.7955609684181213, Accuracy=0.73216: 100%|██████████| 3125/3125 [01:07<00:00, 46.24it/s]\n",
            "Epoch 7 - Validation loss: 0.7682652150630951, Accuracy=0.7462: 100%|██████████| 625/625 [00:07<00:00, 82.67it/s]\n",
            "Epoch 8 - Training loss: 0.7852170883178711, Accuracy=0.73696: 100%|██████████| 3125/3125 [01:08<00:00, 45.34it/s]\n",
            "Epoch 8 - Validation loss: 0.7578488141417503, Accuracy=0.7485: 100%|██████████| 625/625 [00:07<00:00, 81.18it/s]\n",
            "Epoch 9 - Training loss: 0.7866769060277938, Accuracy=0.73568: 100%|██████████| 3125/3125 [01:13<00:00, 42.62it/s]\n",
            "Epoch 9 - Validation loss: 0.756466427898407, Accuracy=0.7502: 100%|██████████| 625/625 [00:08<00:00, 77.40it/s]\n",
            "Epoch 10 - Training loss: 0.7718188221669197, Accuracy=0.742: 100%|██████████| 3125/3125 [01:13<00:00, 42.62it/s]\n",
            "Epoch 10 - Validation loss: 0.7452560318231582, Accuracy=0.7537: 100%|██████████| 625/625 [00:08<00:00, 76.59it/s]\n",
            "Epoch 11 - Training loss: 0.7650097196388245, Accuracy=0.74376: 100%|██████████| 3125/3125 [01:13<00:00, 42.53it/s]\n",
            "Epoch 11 - Validation loss: 0.7652583828926086, Accuracy=0.7464: 100%|██████████| 625/625 [00:08<00:00, 77.71it/s]\n",
            "Epoch 12 - Training loss: 0.762328271985054, Accuracy=0.74422: 100%|██████████| 3125/3125 [01:12<00:00, 42.98it/s]\n",
            "Epoch 12 - Validation loss: 0.751556262934208, Accuracy=0.751: 100%|██████████| 625/625 [00:07<00:00, 78.13it/s]\n",
            "Epoch 13 - Training loss: 0.7560102903985977, Accuracy=0.74658: 100%|██████████| 3125/3125 [01:12<00:00, 43.03it/s]\n",
            "Epoch 13 - Validation loss: 0.7397277231335639, Accuracy=0.7562: 100%|██████████| 625/625 [00:08<00:00, 77.73it/s]\n",
            "Epoch 14 - Training loss: 0.7494177992773056, Accuracy=0.75034: 100%|██████████| 3125/3125 [01:12<00:00, 42.83it/s]\n",
            "Epoch 14 - Validation loss: 0.718814674448967, Accuracy=0.7659: 100%|██████████| 625/625 [00:08<00:00, 75.87it/s]\n",
            "Epoch 15 - Training loss: 0.7452485982084275, Accuracy=0.75032: 100%|██████████| 3125/3125 [01:14<00:00, 42.05it/s]\n",
            "Epoch 15 - Validation loss: 0.7226773105025291, Accuracy=0.7613: 100%|██████████| 625/625 [00:08<00:00, 77.21it/s]\n",
            "Epoch 16 - Training loss: 0.742116117143631, Accuracy=0.75116: 100%|██████████| 3125/3125 [01:13<00:00, 42.58it/s]\n",
            "Epoch 16 - Validation loss: 0.7593486725449562, Accuracy=0.7478: 100%|██████████| 625/625 [00:08<00:00, 77.99it/s]\n",
            "Epoch 17 - Training loss: 0.7311708499598503, Accuracy=0.75572: 100%|██████████| 3125/3125 [01:13<00:00, 42.54it/s]\n",
            "Epoch 17 - Validation loss: 0.7283889172792435, Accuracy=0.7573: 100%|██████████| 625/625 [00:07<00:00, 78.50it/s]\n",
            "Epoch 18 - Training loss: 0.7317864293169976, Accuracy=0.75552: 100%|██████████| 3125/3125 [01:12<00:00, 43.27it/s]\n",
            "Epoch 18 - Validation loss: 0.7371842635035515, Accuracy=0.7565: 100%|██████████| 625/625 [00:08<00:00, 73.85it/s]\n",
            "Epoch 19 - Training loss: 0.7231193720912933, Accuracy=0.75646: 100%|██████████| 3125/3125 [01:15<00:00, 41.19it/s]\n",
            "Epoch 19 - Validation loss: 0.7165257187247276, Accuracy=0.7672: 100%|██████████| 625/625 [00:08<00:00, 75.44it/s]\n",
            "Epoch 20 - Training loss: 0.7267536512374878, Accuracy=0.7566: 100%|██████████| 3125/3125 [01:14<00:00, 41.75it/s]\n",
            "Epoch 20 - Validation loss: 0.705950925552845, Accuracy=0.7679: 100%|██████████| 625/625 [00:08<00:00, 75.68it/s]\n",
            "Epoch 21 - Training loss: 0.7167517241287231, Accuracy=0.75994: 100%|██████████| 3125/3125 [01:15<00:00, 41.63it/s]\n",
            "Epoch 21 - Validation loss: 0.6955187113761901, Accuracy=0.7703: 100%|██████████| 625/625 [00:08<00:00, 75.03it/s]\n",
            "Epoch 22 - Training loss: 0.714109977016449, Accuracy=0.76126: 100%|██████████| 3125/3125 [01:14<00:00, 41.76it/s]\n",
            "Epoch 22 - Validation loss: 0.7071432747125626, Accuracy=0.7696: 100%|██████████| 625/625 [00:08<00:00, 73.17it/s]\n",
            "Epoch 23 - Training loss: 0.7135040396785736, Accuracy=0.76252: 100%|██████████| 3125/3125 [01:16<00:00, 40.77it/s]\n",
            "Epoch 23 - Validation loss: 0.6814796841382981, Accuracy=0.7762: 100%|██████████| 625/625 [00:08<00:00, 75.37it/s]\n",
            "Epoch 24 - Training loss: 0.7068995988321304, Accuracy=0.76482: 100%|██████████| 3125/3125 [01:15<00:00, 41.46it/s]\n",
            "Epoch 24 - Validation loss: 0.7010222121596337, Accuracy=0.7695: 100%|██████████| 625/625 [00:08<00:00, 75.31it/s]\n",
            "Epoch 25 - Training loss: 0.7018056093168259, Accuracy=0.7643: 100%|██████████| 3125/3125 [01:15<00:00, 41.56it/s]\n",
            "Epoch 25 - Validation loss: 0.6976606114506722, Accuracy=0.7708: 100%|██████████| 625/625 [00:08<00:00, 75.30it/s]\n",
            "Epoch 26 - Training loss: 0.6976060490870476, Accuracy=0.76788: 100%|██████████| 3125/3125 [01:13<00:00, 42.28it/s]\n",
            "Epoch 26 - Validation loss: 0.718583181977272, Accuracy=0.7673: 100%|██████████| 625/625 [00:08<00:00, 75.25it/s]\n",
            "Epoch 27 - Training loss: 0.6980126738214493, Accuracy=0.76742: 100%|██████████| 3125/3125 [01:15<00:00, 41.53it/s]\n",
            "Epoch 27 - Validation loss: 0.6750439454495907, Accuracy=0.7812: 100%|██████████| 625/625 [00:08<00:00, 74.86it/s]\n",
            "Epoch 28 - Training loss: 0.6927023738431931, Accuracy=0.77006: 100%|██████████| 3125/3125 [01:15<00:00, 41.60it/s]\n",
            "Epoch 28 - Validation loss: 0.6821863737821579, Accuracy=0.7794: 100%|██████████| 625/625 [00:08<00:00, 74.07it/s]\n",
            "Epoch 29 - Training loss: 0.6868688790154457, Accuracy=0.7713: 100%|██████████| 3125/3125 [01:15<00:00, 41.64it/s]\n",
            "Epoch 29 - Validation loss: 0.6823624396920204, Accuracy=0.7781: 100%|██████████| 625/625 [00:08<00:00, 74.47it/s]\n",
            "Epoch 30 - Training loss: 0.6831527657747268, Accuracy=0.77328: 100%|██████████| 3125/3125 [01:15<00:00, 41.37it/s]\n",
            "Epoch 30 - Validation loss: 0.6680969445228576, Accuracy=0.7821: 100%|██████████| 625/625 [00:08<00:00, 73.05it/s]\n",
            "Epoch 31 - Training loss: 0.6802768036222457, Accuracy=0.77476: 100%|██████████| 3125/3125 [01:15<00:00, 41.25it/s]\n",
            "Epoch 31 - Validation loss: 0.6745539622783661, Accuracy=0.7791: 100%|██████████| 625/625 [00:08<00:00, 74.20it/s]\n",
            "Epoch 32 - Training loss: 0.6795188320612907, Accuracy=0.77402: 100%|██████████| 3125/3125 [01:14<00:00, 41.71it/s]\n",
            "Epoch 32 - Validation loss: 0.6767536208033562, Accuracy=0.7759: 100%|██████████| 625/625 [00:08<00:00, 75.44it/s]\n",
            "Epoch 33 - Training loss: 0.6752534542012215, Accuracy=0.77516: 100%|██████████| 3125/3125 [01:14<00:00, 41.81it/s]\n",
            "Epoch 33 - Validation loss: 0.6634761423110962, Accuracy=0.7877: 100%|██████████| 625/625 [00:08<00:00, 74.70it/s]\n",
            "Epoch 34 - Training loss: 0.6717194538116456, Accuracy=0.7769: 100%|██████████| 3125/3125 [01:15<00:00, 41.59it/s]\n",
            "Epoch 34 - Validation loss: 0.6956212132811547, Accuracy=0.7702: 100%|██████████| 625/625 [00:08<00:00, 75.61it/s]\n",
            "Epoch 35 - Training loss: 0.6727277899694443, Accuracy=0.77558: 100%|██████████| 3125/3125 [01:13<00:00, 42.68it/s]\n",
            "Epoch 35 - Validation loss: 0.6680400868773461, Accuracy=0.7812: 100%|██████████| 625/625 [00:08<00:00, 73.98it/s]\n",
            "Epoch 36 - Training loss: 0.66568274153471, Accuracy=0.77928: 100%|██████████| 3125/3125 [01:15<00:00, 41.65it/s]\n",
            "Epoch 36 - Validation loss: 0.6706408804178238, Accuracy=0.7795: 100%|██████████| 625/625 [00:08<00:00, 74.75it/s]\n",
            "Epoch 37 - Training loss: 0.6648213150000573, Accuracy=0.77962: 100%|██████████| 3125/3125 [01:14<00:00, 41.71it/s]\n",
            "Epoch 37 - Validation loss: 0.6765090662240982, Accuracy=0.7784: 100%|██████████| 625/625 [00:08<00:00, 74.38it/s]\n",
            "Epoch 38 - Training loss: 0.6619194482803344, Accuracy=0.78054: 100%|██████████| 3125/3125 [01:16<00:00, 41.02it/s]\n",
            "Epoch 38 - Validation loss: 0.6585288862705231, Accuracy=0.7834: 100%|██████████| 625/625 [00:08<00:00, 73.25it/s]\n",
            "Epoch 39 - Training loss: 0.6577554041457176, Accuracy=0.78286: 100%|██████████| 3125/3125 [01:15<00:00, 41.31it/s]\n",
            "Epoch 39 - Validation loss: 0.652022350859642, Accuracy=0.7869: 100%|██████████| 625/625 [00:08<00:00, 75.68it/s]\n",
            "Epoch 40 - Training loss: 0.659905860171318, Accuracy=0.78186: 100%|██████████| 3125/3125 [01:15<00:00, 41.43it/s]\n",
            "Epoch 40 - Validation loss: 0.672368940770626, Accuracy=0.7802: 100%|██████████| 625/625 [00:08<00:00, 74.87it/s]\n",
            "Epoch 41 - Training loss: 0.6546076938509942, Accuracy=0.78376: 100%|██████████| 3125/3125 [01:15<00:00, 41.60it/s]\n",
            "Epoch 41 - Validation loss: 0.7267525166451931, Accuracy=0.7591: 100%|██████████| 625/625 [00:08<00:00, 73.94it/s]\n",
            "Epoch 42 - Training loss: 0.6521375571227074, Accuracy=0.78518: 100%|██████████| 3125/3125 [01:16<00:00, 40.98it/s]\n",
            "Epoch 42 - Validation loss: 0.6802262568950653, Accuracy=0.7783: 100%|██████████| 625/625 [00:08<00:00, 72.82it/s]\n",
            "Epoch 43 - Training loss: 0.6506031571388244, Accuracy=0.78554: 100%|██████████| 3125/3125 [01:14<00:00, 42.19it/s]\n",
            "Epoch 43 - Validation loss: 0.6496891808867454, Accuracy=0.7889: 100%|██████████| 625/625 [00:08<00:00, 76.00it/s]\n",
            "Epoch 44 - Training loss: 0.6463612029075623, Accuracy=0.78632: 100%|██████████| 3125/3125 [01:14<00:00, 42.02it/s]\n",
            "Epoch 44 - Validation loss: 0.649141922467947, Accuracy=0.7893: 100%|██████████| 625/625 [00:08<00:00, 73.71it/s]\n",
            "Epoch 45 - Training loss: 0.6452462868499755, Accuracy=0.78692: 100%|██████████| 3125/3125 [01:15<00:00, 41.36it/s]\n",
            "Epoch 45 - Validation loss: 0.6465455362260342, Accuracy=0.7915: 100%|██████████| 625/625 [00:08<00:00, 73.41it/s]\n",
            "Epoch 46 - Training loss: 0.6438623804736138, Accuracy=0.7878: 100%|██████████| 3125/3125 [01:16<00:00, 40.90it/s]\n",
            "Epoch 46 - Validation loss: 0.6405170540452003, Accuracy=0.7916: 100%|██████████| 625/625 [00:08<00:00, 73.29it/s]\n",
            "Epoch 47 - Training loss: 0.6413223782348633, Accuracy=0.78848: 100%|██████████| 3125/3125 [01:17<00:00, 40.19it/s]\n",
            "Epoch 47 - Validation loss: 0.630428335481882, Accuracy=0.7948: 100%|██████████| 625/625 [00:08<00:00, 71.23it/s]\n",
            "Epoch 48 - Training loss: 0.6422379137015343, Accuracy=0.78814: 100%|██████████| 3125/3125 [01:18<00:00, 39.99it/s]\n",
            "Epoch 48 - Validation loss: 0.6290259483516216, Accuracy=0.7986: 100%|██████████| 625/625 [00:08<00:00, 71.80it/s]\n",
            "Epoch 49 - Training loss: 0.6370032261371612, Accuracy=0.79: 100%|██████████| 3125/3125 [01:19<00:00, 39.29it/s]\n",
            "Epoch 49 - Validation loss: 0.6422864531576633, Accuracy=0.7932: 100%|██████████| 625/625 [00:09<00:00, 66.22it/s]\n",
            "Epoch 50 - Training loss: 0.6358347050976754, Accuracy=0.79036: 100%|██████████| 3125/3125 [01:22<00:00, 38.03it/s]\n",
            "Epoch 50 - Validation loss: 0.6327809548854828, Accuracy=0.7959: 100%|██████████| 625/625 [00:08<00:00, 70.30it/s]\n",
            "Epoch 51 - Training loss: 0.6344140096759796, Accuracy=0.78952: 100%|██████████| 3125/3125 [01:13<00:00, 42.62it/s]\n",
            "Epoch 51 - Validation loss: 0.6417058303236961, Accuracy=0.7957: 100%|██████████| 625/625 [00:08<00:00, 75.87it/s]\n",
            "Epoch 52 - Training loss: 0.6338462031817437, Accuracy=0.79166: 100%|██████████| 3125/3125 [01:15<00:00, 41.40it/s]\n",
            "Epoch 52 - Validation loss: 0.6385300001859665, Accuracy=0.7961: 100%|██████████| 625/625 [00:08<00:00, 72.55it/s]\n",
            "Epoch 53 - Training loss: 0.6302175568652153, Accuracy=0.79236: 100%|██████████| 3125/3125 [01:17<00:00, 40.56it/s]\n",
            "Epoch 53 - Validation loss: 0.6303339504003524, Accuracy=0.7966: 100%|██████████| 625/625 [00:08<00:00, 70.30it/s]\n",
            "Epoch 54 - Training loss: 0.6315474624228478, Accuracy=0.79238: 100%|██████████| 3125/3125 [01:19<00:00, 39.55it/s]\n",
            "Epoch 54 - Validation loss: 0.6492120021045208, Accuracy=0.7867: 100%|██████████| 625/625 [00:08<00:00, 71.70it/s]\n",
            "Epoch 55 - Training loss: 0.629164520432949, Accuracy=0.79328: 100%|██████████| 3125/3125 [01:17<00:00, 40.21it/s]\n",
            "Epoch 55 - Validation loss: 0.6296569505810737, Accuracy=0.7989: 100%|██████████| 625/625 [00:08<00:00, 72.36it/s]\n",
            "Epoch 56 - Training loss: 0.6256881742238999, Accuracy=0.79454: 100%|██████████| 3125/3125 [01:17<00:00, 40.57it/s]\n",
            "Epoch 56 - Validation loss: 0.6511912456691266, Accuracy=0.7915: 100%|██████████| 625/625 [00:08<00:00, 72.49it/s]\n",
            "Epoch 57 - Training loss: 0.6227099520134926, Accuracy=0.79514: 100%|██████████| 3125/3125 [01:17<00:00, 40.30it/s]\n",
            "Epoch 57 - Validation loss: 0.630341858881712, Accuracy=0.7989: 100%|██████████| 625/625 [00:08<00:00, 70.96it/s]\n",
            "Epoch 58 - Training loss: 0.6232372036623954, Accuracy=0.79306: 100%|██████████| 3125/3125 [01:17<00:00, 40.21it/s]\n",
            "Epoch 58 - Validation loss: 0.6433255983829498, Accuracy=0.7938: 100%|██████████| 625/625 [00:08<00:00, 72.65it/s]\n",
            "Epoch 59 - Training loss: 0.6216867214822769, Accuracy=0.79512: 100%|██████████| 3125/3125 [01:14<00:00, 42.14it/s]\n",
            "Epoch 59 - Validation loss: 0.6138895235776901, Accuracy=0.802: 100%|██████████| 625/625 [00:08<00:00, 72.68it/s]\n",
            "Epoch 60 - Training loss: 0.6195069417953492, Accuracy=0.795: 100%|██████████| 3125/3125 [01:17<00:00, 40.45it/s]\n",
            "Epoch 60 - Validation loss: 0.6294585456490517, Accuracy=0.7981: 100%|██████████| 625/625 [00:08<00:00, 71.51it/s]\n",
            "Epoch 61 - Training loss: 0.6189981026506424, Accuracy=0.79684: 100%|██████████| 3125/3125 [01:17<00:00, 40.19it/s]\n",
            "Epoch 61 - Validation loss: 0.6545949785292149, Accuracy=0.789: 100%|██████████| 625/625 [00:08<00:00, 70.38it/s]\n",
            "Epoch 62 - Training loss: 0.6147955395317077, Accuracy=0.79758: 100%|██████████| 3125/3125 [01:17<00:00, 40.33it/s]\n",
            "Epoch 62 - Validation loss: 0.6386794596135617, Accuracy=0.7925: 100%|██████████| 625/625 [00:08<00:00, 72.47it/s]\n",
            "Epoch 63 - Training loss: 0.6141302625560761, Accuracy=0.79772: 100%|██████████| 3125/3125 [01:17<00:00, 40.54it/s]\n",
            "Epoch 63 - Validation loss: 0.6118063648700715, Accuracy=0.8035: 100%|██████████| 625/625 [00:08<00:00, 71.95it/s]\n",
            "Epoch 64 - Training loss: 0.6144199426794053, Accuracy=0.79774: 100%|██████████| 3125/3125 [01:16<00:00, 40.64it/s]\n",
            "Epoch 64 - Validation loss: 0.6293518410384655, Accuracy=0.7962: 100%|██████████| 625/625 [00:08<00:00, 71.84it/s]\n",
            "Epoch 65 - Training loss: 0.6131791197156906, Accuracy=0.79958: 100%|██████████| 3125/3125 [01:18<00:00, 39.89it/s]\n",
            "Epoch 65 - Validation loss: 0.6316700868546963, Accuracy=0.7964: 100%|██████████| 625/625 [00:08<00:00, 70.28it/s]\n",
            "Epoch 66 - Training loss: 0.6096048330587148, Accuracy=0.79956: 100%|██████████| 3125/3125 [01:16<00:00, 40.59it/s]\n",
            "Epoch 66 - Validation loss: 0.6111502697348594, Accuracy=0.8022: 100%|██████████| 625/625 [00:08<00:00, 71.41it/s]\n",
            "Epoch 67 - Training loss: 0.6089982863426209, Accuracy=0.79876: 100%|██████████| 3125/3125 [01:16<00:00, 40.60it/s]\n",
            "Epoch 67 - Validation loss: 0.6167378955841064, Accuracy=0.8002: 100%|██████████| 625/625 [00:08<00:00, 73.12it/s]\n",
            "Epoch 68 - Training loss: 0.6074319147098064, Accuracy=0.79952: 100%|██████████| 3125/3125 [01:15<00:00, 41.59it/s]\n",
            "Epoch 68 - Validation loss: 0.6292580213487148, Accuracy=0.7939: 100%|██████████| 625/625 [00:08<00:00, 70.10it/s]\n",
            "Epoch 69 - Training loss: 0.6069998465156555, Accuracy=0.80032: 100%|██████████| 3125/3125 [01:18<00:00, 39.93it/s]\n",
            "Epoch 69 - Validation loss: 0.6179240184545517, Accuracy=0.7995: 100%|██████████| 625/625 [00:08<00:00, 70.86it/s]\n",
            "Epoch 70 - Training loss: 0.6060729021251202, Accuracy=0.80144: 100%|██████████| 3125/3125 [01:16<00:00, 40.61it/s]\n",
            "Epoch 70 - Validation loss: 0.6045018214583396, Accuracy=0.8039: 100%|██████████| 625/625 [00:08<00:00, 70.47it/s]\n",
            "Epoch 71 - Training loss: 0.6050795432496071, Accuracy=0.80196: 100%|██████████| 3125/3125 [01:17<00:00, 40.52it/s]\n",
            "Epoch 71 - Validation loss: 0.6083326795578002, Accuracy=0.8022: 100%|██████████| 625/625 [00:08<00:00, 73.11it/s]\n",
            "Epoch 72 - Training loss: 0.6046136563241482, Accuracy=0.80082: 100%|██████████| 3125/3125 [01:17<00:00, 40.34it/s]\n",
            "Epoch 72 - Validation loss: 0.6022152410328389, Accuracy=0.8048: 100%|██████████| 625/625 [00:09<00:00, 69.25it/s]\n",
            "Epoch 73 - Training loss: 0.6015206298708916, Accuracy=0.80208: 100%|██████████| 3125/3125 [01:18<00:00, 39.59it/s]\n",
            "Epoch 73 - Validation loss: 0.6072702851593494, Accuracy=0.805: 100%|██████████| 625/625 [00:08<00:00, 72.54it/s]\n",
            "Epoch 74 - Training loss: 0.6039589005994797, Accuracy=0.8018: 100%|██████████| 3125/3125 [01:17<00:00, 40.52it/s]\n",
            "Epoch 74 - Validation loss: 0.6138243699848652, Accuracy=0.8026: 100%|██████████| 625/625 [00:08<00:00, 70.49it/s]\n",
            "Epoch 75 - Training loss: 0.6004612424731255, Accuracy=0.80258: 100%|██████████| 3125/3125 [01:16<00:00, 40.98it/s]\n",
            "Epoch 75 - Validation loss: 0.6114861697793007, Accuracy=0.8046: 100%|██████████| 625/625 [00:08<00:00, 72.55it/s]\n",
            "Epoch 76 - Training loss: 0.6010605872106553, Accuracy=0.80128: 100%|██████████| 3125/3125 [01:16<00:00, 40.71it/s]\n",
            "Epoch 76 - Validation loss: 0.6146144566476345, Accuracy=0.8005: 100%|██████████| 625/625 [00:08<00:00, 70.15it/s]\n",
            "Epoch 77 - Training loss: 0.5984618850350379, Accuracy=0.80214: 100%|██████████| 3125/3125 [01:18<00:00, 39.66it/s]\n",
            "Epoch 77 - Validation loss: 0.6271609851121902, Accuracy=0.8024: 100%|██████████| 625/625 [00:08<00:00, 71.27it/s]\n",
            "Epoch 78 - Training loss: 0.5986625559008122, Accuracy=0.80226: 100%|██████████| 3125/3125 [01:18<00:00, 40.00it/s]\n",
            "Epoch 78 - Validation loss: 0.6081525974988937, Accuracy=0.8042: 100%|██████████| 625/625 [00:08<00:00, 70.75it/s]\n",
            "Epoch 79 - Training loss: 0.3757533547902107, Accuracy=0.51168:  64%|██████▎   | 1985/3125 [00:49<00:28, 40.38it/s]\n"
          ],
          "name": "stderr"
        },
        {
          "output_type": "error",
          "ename": "KeyboardInterrupt",
          "evalue": "ignored",
          "traceback": [
            "\u001b[0;31m---------------------------------------------------------------------------\u001b[0m",
            "\u001b[0;31mKeyboardInterrupt\u001b[0m                         Traceback (most recent call last)",
            "\u001b[0;32m<ipython-input-18-71e4434004a4>\u001b[0m in \u001b[0;36m<module>\u001b[0;34m()\u001b[0m\n\u001b[1;32m      4\u001b[0m \u001b[0moptimizer\u001b[0m \u001b[0;34m=\u001b[0m \u001b[0mtorch\u001b[0m\u001b[0;34m.\u001b[0m\u001b[0moptim\u001b[0m\u001b[0;34m.\u001b[0m\u001b[0mAdam\u001b[0m\u001b[0;34m(\u001b[0m\u001b[0mmodel\u001b[0m\u001b[0;34m.\u001b[0m\u001b[0mparameters\u001b[0m\u001b[0;34m(\u001b[0m\u001b[0;34m)\u001b[0m\u001b[0;34m,\u001b[0m \u001b[0mlr\u001b[0m\u001b[0;34m=\u001b[0m\u001b[0;36m0.001\u001b[0m\u001b[0;34m)\u001b[0m\u001b[0;34m\u001b[0m\u001b[0;34m\u001b[0m\u001b[0m\n\u001b[1;32m      5\u001b[0m \u001b[0;31m# model2.eval()\u001b[0m\u001b[0;34m\u001b[0m\u001b[0;34m\u001b[0m\u001b[0;34m\u001b[0m\u001b[0m\n\u001b[0;32m----> 6\u001b[0;31m \u001b[0mtrain\u001b[0m\u001b[0;34m(\u001b[0m\u001b[0mmodel\u001b[0m\u001b[0;34m,\u001b[0m \u001b[0;36m300\u001b[0m\u001b[0;34m,\u001b[0m \u001b[0mdataset\u001b[0m\u001b[0;34m,\u001b[0m \u001b[0mdataset_valid\u001b[0m\u001b[0;34m)\u001b[0m\u001b[0;34m\u001b[0m\u001b[0;34m\u001b[0m\u001b[0m\n\u001b[0m",
            "\u001b[0;32m<ipython-input-6-92ec8bb9dc7f>\u001b[0m in \u001b[0;36mtrain\u001b[0;34m(model, epochs, dataset, dataset_valid)\u001b[0m\n\u001b[1;32m      6\u001b[0m       \u001b[0msum_acc\u001b[0m \u001b[0;34m=\u001b[0m \u001b[0;36m0\u001b[0m\u001b[0;34m\u001b[0m\u001b[0;34m\u001b[0m\u001b[0m\n\u001b[1;32m      7\u001b[0m       \u001b[0;32mwith\u001b[0m \u001b[0mtqdm\u001b[0m\u001b[0;34m(\u001b[0m\u001b[0mtotal\u001b[0m\u001b[0;34m=\u001b[0m\u001b[0mlen\u001b[0m\u001b[0;34m(\u001b[0m\u001b[0mdataset\u001b[0m\u001b[0;34m)\u001b[0m\u001b[0;34m)\u001b[0m \u001b[0;32mas\u001b[0m \u001b[0mbar\u001b[0m\u001b[0;34m:\u001b[0m\u001b[0;34m\u001b[0m\u001b[0;34m\u001b[0m\u001b[0m\n\u001b[0;32m----> 8\u001b[0;31m         \u001b[0;32mfor\u001b[0m \u001b[0mi\u001b[0m\u001b[0;34m,\u001b[0m \u001b[0;34m(\u001b[0m\u001b[0mX\u001b[0m\u001b[0;34m,\u001b[0m \u001b[0my\u001b[0m\u001b[0;34m)\u001b[0m \u001b[0;32min\u001b[0m \u001b[0menumerate\u001b[0m\u001b[0;34m(\u001b[0m\u001b[0mdataset\u001b[0m\u001b[0;34m)\u001b[0m\u001b[0;34m:\u001b[0m\u001b[0;34m\u001b[0m\u001b[0;34m\u001b[0m\u001b[0m\n\u001b[0m\u001b[1;32m      9\u001b[0m             \u001b[0moptimizer\u001b[0m\u001b[0;34m.\u001b[0m\u001b[0mzero_grad\u001b[0m\u001b[0;34m(\u001b[0m\u001b[0;34m)\u001b[0m\u001b[0;34m\u001b[0m\u001b[0;34m\u001b[0m\u001b[0m\n\u001b[1;32m     10\u001b[0m \u001b[0;34m\u001b[0m\u001b[0m\n",
            "\u001b[0;32m/usr/local/lib/python3.7/dist-packages/torch/utils/data/dataloader.py\u001b[0m in \u001b[0;36m__next__\u001b[0;34m(self)\u001b[0m\n\u001b[1;32m    512\u001b[0m \u001b[0;34m\u001b[0m\u001b[0m\n\u001b[1;32m    513\u001b[0m     \u001b[0;32mdef\u001b[0m \u001b[0m__next__\u001b[0m\u001b[0;34m(\u001b[0m\u001b[0mself\u001b[0m\u001b[0;34m)\u001b[0m \u001b[0;34m->\u001b[0m \u001b[0mAny\u001b[0m\u001b[0;34m:\u001b[0m\u001b[0;34m\u001b[0m\u001b[0;34m\u001b[0m\u001b[0m\n\u001b[0;32m--> 514\u001b[0;31m         \u001b[0;32mwith\u001b[0m \u001b[0mtorch\u001b[0m\u001b[0;34m.\u001b[0m\u001b[0mautograd\u001b[0m\u001b[0;34m.\u001b[0m\u001b[0mprofiler\u001b[0m\u001b[0;34m.\u001b[0m\u001b[0mrecord_function\u001b[0m\u001b[0;34m(\u001b[0m\u001b[0mself\u001b[0m\u001b[0;34m.\u001b[0m\u001b[0m_profile_name\u001b[0m\u001b[0;34m)\u001b[0m\u001b[0;34m:\u001b[0m\u001b[0;34m\u001b[0m\u001b[0;34m\u001b[0m\u001b[0m\n\u001b[0m\u001b[1;32m    515\u001b[0m             \u001b[0;32mif\u001b[0m \u001b[0mself\u001b[0m\u001b[0;34m.\u001b[0m\u001b[0m_sampler_iter\u001b[0m \u001b[0;32mis\u001b[0m \u001b[0;32mNone\u001b[0m\u001b[0;34m:\u001b[0m\u001b[0;34m\u001b[0m\u001b[0;34m\u001b[0m\u001b[0m\n\u001b[1;32m    516\u001b[0m                 \u001b[0mself\u001b[0m\u001b[0;34m.\u001b[0m\u001b[0m_reset\u001b[0m\u001b[0;34m(\u001b[0m\u001b[0;34m)\u001b[0m\u001b[0;34m\u001b[0m\u001b[0;34m\u001b[0m\u001b[0m\n",
            "\u001b[0;32m/usr/local/lib/python3.7/dist-packages/torch/autograd/profiler.py\u001b[0m in \u001b[0;36m__enter__\u001b[0;34m(self)\u001b[0m\n\u001b[1;32m    614\u001b[0m \u001b[0;34m\u001b[0m\u001b[0m\n\u001b[1;32m    615\u001b[0m     \u001b[0;32mdef\u001b[0m \u001b[0m__enter__\u001b[0m\u001b[0;34m(\u001b[0m\u001b[0mself\u001b[0m\u001b[0;34m)\u001b[0m\u001b[0;34m:\u001b[0m\u001b[0;34m\u001b[0m\u001b[0;34m\u001b[0m\u001b[0m\n\u001b[0;32m--> 616\u001b[0;31m         \u001b[0mself\u001b[0m\u001b[0;34m.\u001b[0m\u001b[0mhandle\u001b[0m \u001b[0;34m=\u001b[0m \u001b[0mtorch\u001b[0m\u001b[0;34m.\u001b[0m\u001b[0mops\u001b[0m\u001b[0;34m.\u001b[0m\u001b[0mprofiler\u001b[0m\u001b[0;34m.\u001b[0m\u001b[0m_record_function_enter\u001b[0m\u001b[0;34m(\u001b[0m\u001b[0mself\u001b[0m\u001b[0;34m.\u001b[0m\u001b[0mname\u001b[0m\u001b[0;34m)\u001b[0m\u001b[0;34m\u001b[0m\u001b[0;34m\u001b[0m\u001b[0m\n\u001b[0m\u001b[1;32m    617\u001b[0m         \u001b[0;32mreturn\u001b[0m \u001b[0mself\u001b[0m\u001b[0;34m\u001b[0m\u001b[0;34m\u001b[0m\u001b[0m\n\u001b[1;32m    618\u001b[0m \u001b[0;34m\u001b[0m\u001b[0m\n",
            "\u001b[0;31mKeyboardInterrupt\u001b[0m: "
          ]
        }
      ]
    },
    {
      "cell_type": "code",
      "metadata": {
        "id": "Tw4gNlQdh0Ty"
      },
      "source": [
        "PATH=\"lstm_trained_till_110\"\n",
        "torch.save(model, PATH)"
      ],
      "execution_count": null,
      "outputs": []
    },
    {
      "cell_type": "code",
      "metadata": {
        "colab": {
          "base_uri": "https://localhost:8080/"
        },
        "id": "49FecGKVrlr8",
        "outputId": "69f46eac-f741-41f8-c5f6-0dddb9135070"
      },
      "source": [
        "train(model, 100, dataset, dataset_valid)"
      ],
      "execution_count": null,
      "outputs": [
        {
          "output_type": "stream",
          "text": [
            "Epoch 0 - Training loss: 0.5967035370230674, Accuracy=0.8039: 100%|██████████| 3125/3125 [01:11<00:00, 43.50it/s]\n",
            "Epoch 0 - Validation loss: 0.5982885791063308, Accuracy=0.8076: 100%|██████████| 625/625 [00:07<00:00, 78.87it/s]\n",
            "Epoch 1 - Training loss: 0.5936049793100358, Accuracy=0.8041: 100%|██████████| 3125/3125 [01:12<00:00, 43.38it/s]\n",
            "Epoch 1 - Validation loss: 0.6048598647475243, Accuracy=0.8047: 100%|██████████| 625/625 [00:07<00:00, 79.86it/s]\n",
            "Epoch 2 - Training loss: 0.5934742743802071, Accuracy=0.80298: 100%|██████████| 3125/3125 [01:11<00:00, 43.69it/s]\n",
            "Epoch 2 - Validation loss: 0.6076318405270577, Accuracy=0.8016: 100%|██████████| 625/625 [00:07<00:00, 80.53it/s]\n",
            "Epoch 3 - Training loss: 0.5929498078489304, Accuracy=0.80418: 100%|██████████| 3125/3125 [01:10<00:00, 44.02it/s]\n",
            "Epoch 3 - Validation loss: 0.5906320744276047, Accuracy=0.8117: 100%|██████████| 625/625 [00:07<00:00, 80.11it/s]\n",
            "Epoch 4 - Training loss: 0.5882983452010154, Accuracy=0.80706: 100%|██████████| 3125/3125 [01:11<00:00, 43.66it/s]\n",
            "Epoch 4 - Validation loss: 0.60348209323287, Accuracy=0.7998: 100%|██████████| 625/625 [00:07<00:00, 80.56it/s]\n",
            "Epoch 5 - Training loss: 0.5898700703287124, Accuracy=0.80566: 100%|██████████| 3125/3125 [01:11<00:00, 44.00it/s]\n",
            "Epoch 5 - Validation loss: 0.6171224462360144, Accuracy=0.8002: 100%|██████████| 625/625 [00:07<00:00, 78.41it/s]\n",
            "Epoch 6 - Training loss: 0.5874239200985432, Accuracy=0.80664: 100%|██████████| 3125/3125 [01:12<00:00, 43.30it/s]\n",
            "Epoch 6 - Validation loss: 0.592229970151186, Accuracy=0.8084: 100%|██████████| 625/625 [00:07<00:00, 78.85it/s]\n",
            "Epoch 7 - Training loss: 0.5871062826454639, Accuracy=0.80666: 100%|██████████| 3125/3125 [01:12<00:00, 42.98it/s]\n",
            "Epoch 7 - Validation loss: 0.5965316319167614, Accuracy=0.8084: 100%|██████████| 625/625 [00:07<00:00, 79.39it/s]\n",
            "Epoch 8 - Training loss: 0.5861697596287727, Accuracy=0.80622: 100%|██████████| 3125/3125 [01:12<00:00, 43.37it/s]\n",
            "Epoch 8 - Validation loss: 0.5934360398650169, Accuracy=0.8083: 100%|██████████| 625/625 [00:08<00:00, 77.01it/s]\n",
            "Epoch 9 - Training loss: 0.5846102287364006, Accuracy=0.80698: 100%|██████████| 3125/3125 [01:13<00:00, 42.74it/s]\n",
            "Epoch 9 - Validation loss: 0.5936596267580986, Accuracy=0.8087: 100%|██████████| 625/625 [00:07<00:00, 78.37it/s]\n",
            "Epoch 10 - Training loss: 0.5826267503857613, Accuracy=0.80824: 100%|██████████| 3125/3125 [01:12<00:00, 43.27it/s]\n",
            "Epoch 10 - Validation loss: 0.5949078840911388, Accuracy=0.8065: 100%|██████████| 625/625 [00:07<00:00, 79.31it/s]\n",
            "Epoch 11 - Training loss: 0.5847207015490532, Accuracy=0.8076: 100%|██████████| 3125/3125 [01:12<00:00, 43.35it/s]\n",
            "Epoch 11 - Validation loss: 0.5881861403048039, Accuracy=0.8081: 100%|██████████| 625/625 [00:07<00:00, 78.26it/s]\n",
            "Epoch 12 - Training loss: 0.581986831767559, Accuracy=0.80888: 100%|██████████| 3125/3125 [01:12<00:00, 43.20it/s]\n",
            "Epoch 12 - Validation loss: 0.5936175109028816, Accuracy=0.8073: 100%|██████████| 625/625 [00:08<00:00, 76.01it/s]\n",
            "Epoch 13 - Training loss: 0.5800382083445788, Accuracy=0.80984: 100%|██████████| 3125/3125 [01:12<00:00, 42.83it/s]\n",
            "Epoch 13 - Validation loss: 0.596290193015337, Accuracy=0.8049: 100%|██████████| 625/625 [00:07<00:00, 80.62it/s]\n",
            "Epoch 14 - Training loss: 0.5787420000815392, Accuracy=0.80966: 100%|██████████| 3125/3125 [01:09<00:00, 44.75it/s]\n",
            "Epoch 14 - Validation loss: 0.5942271576583386, Accuracy=0.8069: 100%|██████████| 625/625 [00:08<00:00, 77.95it/s]\n",
            "Epoch 15 - Training loss: 0.5802895663380623, Accuracy=0.80898: 100%|██████████| 3125/3125 [01:12<00:00, 43.12it/s]\n",
            "Epoch 15 - Validation loss: 0.588757407027483, Accuracy=0.8105: 100%|██████████| 625/625 [00:08<00:00, 77.28it/s]\n",
            "Epoch 16 - Training loss: 0.5750872075867652, Accuracy=0.80994: 100%|██████████| 3125/3125 [01:12<00:00, 43.04it/s]\n",
            "Epoch 16 - Validation loss: 0.5820150868177414, Accuracy=0.8112: 100%|██████████| 625/625 [00:08<00:00, 75.84it/s]\n",
            "Epoch 17 - Training loss: 0.5744102139902115, Accuracy=0.80988: 100%|██████████| 3125/3125 [01:13<00:00, 42.33it/s]\n",
            "Epoch 17 - Validation loss: 0.5946800558716059, Accuracy=0.8096: 100%|██████████| 625/625 [00:08<00:00, 77.05it/s]\n",
            "Epoch 18 - Training loss: 0.5757433445632457, Accuracy=0.80952: 100%|██████████| 3125/3125 [01:12<00:00, 42.91it/s]\n",
            "Epoch 18 - Validation loss: 0.5766955647408962, Accuracy=0.8133: 100%|██████████| 625/625 [00:07<00:00, 79.37it/s]\n",
            "Epoch 19 - Training loss: 0.5729367735791207, Accuracy=0.81242: 100%|██████████| 3125/3125 [01:12<00:00, 43.07it/s]\n",
            "Epoch 19 - Validation loss: 0.5960637691468, Accuracy=0.8022: 100%|██████████| 625/625 [00:08<00:00, 77.89it/s]\n",
            "Epoch 20 - Training loss: 0.5710084449362754, Accuracy=0.81234: 100%|██████████| 3125/3125 [01:12<00:00, 42.94it/s]\n",
            "Epoch 20 - Validation loss: 0.5860626831531525, Accuracy=0.8117: 100%|██████████| 625/625 [00:08<00:00, 76.29it/s]\n",
            "Epoch 21 - Training loss: 0.5690692938542367, Accuracy=0.81302: 100%|██████████| 3125/3125 [01:13<00:00, 42.31it/s]\n",
            "Epoch 21 - Validation loss: 0.5791498972535133, Accuracy=0.8113: 100%|██████████| 625/625 [00:08<00:00, 77.30it/s]\n",
            "Epoch 22 - Training loss: 0.5738248561811448, Accuracy=0.81102: 100%|██████████| 3125/3125 [01:11<00:00, 43.43it/s]\n",
            "Epoch 22 - Validation loss: 0.5763474149972201, Accuracy=0.8134: 100%|██████████| 625/625 [00:07<00:00, 80.89it/s]\n",
            "Epoch 23 - Training loss: 0.5648956084543466, Accuracy=0.8132: 100%|██████████| 3125/3125 [01:10<00:00, 44.56it/s]\n",
            "Epoch 23 - Validation loss: 0.6150967304527759, Accuracy=0.802: 100%|██████████| 625/625 [00:07<00:00, 78.20it/s]\n",
            "Epoch 24 - Training loss: 0.567072313297987, Accuracy=0.8126: 100%|██████████| 3125/3125 [01:10<00:00, 44.10it/s]\n",
            "Epoch 24 - Validation loss: 0.592430205321312, Accuracy=0.8063: 100%|██████████| 625/625 [00:08<00:00, 76.72it/s]\n",
            "Epoch 25 - Training loss: 0.5648247733688354, Accuracy=0.81352: 100%|██████████| 3125/3125 [01:14<00:00, 42.04it/s]\n",
            "Epoch 25 - Validation loss: 0.5709231905937194, Accuracy=0.813: 100%|██████████| 625/625 [00:08<00:00, 76.63it/s]\n",
            "Epoch 26 - Training loss: 0.5625851519775391, Accuracy=0.8143: 100%|██████████| 3125/3125 [01:13<00:00, 42.55it/s]\n",
            "Epoch 26 - Validation loss: 0.5932615154772997, Accuracy=0.8054: 100%|██████████| 625/625 [00:08<00:00, 76.81it/s]\n",
            "Epoch 27 - Training loss: 0.561004769500494, Accuracy=0.81372: 100%|██████████| 3125/3125 [01:13<00:00, 42.55it/s]\n",
            "Epoch 27 - Validation loss: 0.5757430154174566, Accuracy=0.8126: 100%|██████████| 625/625 [00:08<00:00, 75.69it/s]\n",
            "Epoch 28 - Training loss: 0.5613051192986965, Accuracy=0.81436: 100%|██████████| 3125/3125 [01:13<00:00, 42.28it/s]\n",
            "Epoch 28 - Validation loss: 0.5871356633484364, Accuracy=0.8109: 100%|██████████| 625/625 [00:08<00:00, 73.46it/s]\n",
            "Epoch 29 - Training loss: 0.5579708110237122, Accuracy=0.8159: 100%|██████████| 3125/3125 [01:14<00:00, 41.73it/s]\n",
            "Epoch 29 - Validation loss: 0.5633473583936691, Accuracy=0.816: 100%|██████████| 625/625 [00:08<00:00, 76.86it/s]\n",
            "Epoch 30 - Training loss: 0.5577801755857468, Accuracy=0.81602: 100%|██████████| 3125/3125 [01:13<00:00, 42.30it/s]\n",
            "Epoch 30 - Validation loss: 0.5720795298486948, Accuracy=0.8119: 100%|██████████| 625/625 [00:08<00:00, 75.96it/s]\n",
            "Epoch 31 - Training loss: 0.5557442545497417, Accuracy=0.816: 100%|██████████| 3125/3125 [01:13<00:00, 42.45it/s]\n",
            "Epoch 31 - Validation loss: 0.5854211051017046, Accuracy=0.8065: 100%|██████████| 625/625 [00:08<00:00, 76.03it/s]\n",
            "Epoch 32 - Training loss: 0.558833845512867, Accuracy=0.81528: 100%|██████████| 3125/3125 [01:12<00:00, 42.91it/s]\n",
            "Epoch 32 - Validation loss: 0.5739369911253452, Accuracy=0.8148: 100%|██████████| 625/625 [00:08<00:00, 77.92it/s]\n",
            "Epoch 33 - Training loss: 0.5543386302495003, Accuracy=0.81766: 100%|██████████| 3125/3125 [01:12<00:00, 42.90it/s]\n",
            "Epoch 33 - Validation loss: 0.5706207804173231, Accuracy=0.8147: 100%|██████████| 625/625 [00:08<00:00, 76.10it/s]\n",
            "Epoch 34 - Training loss: 0.5513882111275196, Accuracy=0.81894: 100%|██████████| 3125/3125 [01:13<00:00, 42.37it/s]\n",
            "Epoch 34 - Validation loss: 0.5646826742231846, Accuracy=0.8165: 100%|██████████| 625/625 [00:08<00:00, 76.29it/s]\n",
            "Epoch 35 - Training loss: 0.5509257696640492, Accuracy=0.8188: 100%|██████████| 3125/3125 [01:14<00:00, 42.22it/s]\n",
            "Epoch 35 - Validation loss: 0.5827193286955357, Accuracy=0.8097: 100%|██████████| 625/625 [00:08<00:00, 76.21it/s]\n",
            "Epoch 36 - Training loss: 0.5504912369120121, Accuracy=0.8194: 100%|██████████| 3125/3125 [01:16<00:00, 41.10it/s]\n",
            "Epoch 36 - Validation loss: 0.562076308119297, Accuracy=0.8171: 100%|██████████| 625/625 [00:09<00:00, 68.51it/s]\n",
            "Epoch 37 - Training loss: 0.5495249839758873, Accuracy=0.81806: 100%|██████████| 3125/3125 [01:18<00:00, 40.03it/s]\n",
            "Epoch 37 - Validation loss: 0.5565644405305386, Accuracy=0.8205: 100%|██████████| 625/625 [00:08<00:00, 69.89it/s]\n",
            "Epoch 38 - Training loss: 0.5476266188466549, Accuracy=0.81892: 100%|██████████| 3125/3125 [01:16<00:00, 40.66it/s]\n",
            "Epoch 38 - Validation loss: 0.5582509690612555, Accuracy=0.8197: 100%|██████████| 625/625 [00:09<00:00, 69.11it/s]\n",
            "Epoch 39 - Training loss: 0.5450850235152245, Accuracy=0.82056: 100%|██████████| 3125/3125 [01:17<00:00, 40.49it/s]\n",
            "Epoch 39 - Validation loss: 0.5517166800528764, Accuracy=0.8226: 100%|██████████| 625/625 [00:08<00:00, 69.66it/s]\n",
            "Epoch 40 - Training loss: 0.5453534977900982, Accuracy=0.82136: 100%|██████████| 3125/3125 [01:17<00:00, 40.18it/s]\n",
            "Epoch 40 - Validation loss: 0.5464756302893162, Accuracy=0.8251: 100%|██████████| 625/625 [00:08<00:00, 69.76it/s]\n",
            "Epoch 41 - Training loss: 0.5442122351253033, Accuracy=0.82142: 100%|██████████| 3125/3125 [01:20<00:00, 38.76it/s]\n",
            "Epoch 41 - Validation loss: 0.5841530805617571, Accuracy=0.8088: 100%|██████████| 625/625 [00:09<00:00, 64.78it/s]\n",
            "Epoch 42 - Training loss: 0.5449559331297874, Accuracy=0.82124: 100%|██████████| 3125/3125 [01:22<00:00, 37.83it/s]\n",
            "Epoch 42 - Validation loss: 0.5604967590510845, Accuracy=0.8194: 100%|██████████| 625/625 [00:09<00:00, 68.27it/s]\n",
            "Epoch 43 - Training loss: 0.5410108590614796, Accuracy=0.82348: 100%|██████████| 3125/3125 [01:19<00:00, 39.28it/s]\n",
            "Epoch 43 - Validation loss: 0.5863691790491342, Accuracy=0.8086: 100%|██████████| 625/625 [00:09<00:00, 68.01it/s]\n",
            "Epoch 44 - Training loss: 0.5403551557052135, Accuracy=0.822: 100%|██████████| 3125/3125 [01:20<00:00, 38.67it/s]\n",
            "Epoch 44 - Validation loss: 0.5692040697425604, Accuracy=0.8152: 100%|██████████| 625/625 [00:09<00:00, 67.25it/s]\n",
            "Epoch 45 - Training loss: 0.5371370952808857, Accuracy=0.82286: 100%|██████████| 3125/3125 [01:18<00:00, 39.58it/s]\n",
            "Epoch 45 - Validation loss: 0.5714160159558058, Accuracy=0.816: 100%|██████████| 625/625 [00:09<00:00, 67.38it/s]\n",
            "Epoch 46 - Training loss: 0.5379346069192886, Accuracy=0.82302: 100%|██████████| 3125/3125 [01:18<00:00, 39.81it/s]\n",
            "Epoch 46 - Validation loss: 0.5502943361133337, Accuracy=0.8244: 100%|██████████| 625/625 [00:09<00:00, 67.93it/s]\n",
            "Epoch 47 - Training loss: 0.5365419376420975, Accuracy=0.82144: 100%|██████████| 3125/3125 [01:18<00:00, 39.95it/s]\n",
            "Epoch 47 - Validation loss: 0.5489955436617135, Accuracy=0.8195: 100%|██████████| 625/625 [00:09<00:00, 68.03it/s]\n",
            "Epoch 48 - Training loss: 0.5343437505131959, Accuracy=0.82416: 100%|██████████| 3125/3125 [01:19<00:00, 39.16it/s]\n",
            "Epoch 48 - Validation loss: 0.5552936900019646, Accuracy=0.8206: 100%|██████████| 625/625 [00:09<00:00, 68.65it/s]\n",
            "Epoch 49 - Training loss: 0.533153430467844, Accuracy=0.82482: 100%|██████████| 3125/3125 [01:17<00:00, 40.38it/s]\n",
            "Epoch 49 - Validation loss: 0.5631817650616169, Accuracy=0.8145: 100%|██████████| 625/625 [00:09<00:00, 65.44it/s]\n",
            "Epoch 50 - Training loss: 0.5336609794127941, Accuracy=0.8237: 100%|██████████| 3125/3125 [01:21<00:00, 38.11it/s]\n",
            "Epoch 50 - Validation loss: 0.5528769263803959, Accuracy=0.8203: 100%|██████████| 625/625 [00:09<00:00, 65.60it/s]\n",
            "Epoch 51 - Training loss: 0.5306187499701976, Accuracy=0.82502: 100%|██████████| 3125/3125 [01:23<00:00, 37.43it/s]\n",
            "Epoch 51 - Validation loss: 0.5430316113859415, Accuracy=0.8259: 100%|██████████| 625/625 [00:10<00:00, 60.94it/s]\n",
            "Epoch 52 - Training loss: 0.5312285339856148, Accuracy=0.82568: 100%|██████████| 3125/3125 [01:25<00:00, 36.61it/s]\n",
            "Epoch 52 - Validation loss: 0.5351916377484799, Accuracy=0.828: 100%|██████████| 625/625 [00:10<00:00, 62.17it/s]\n",
            "Epoch 53 - Training loss: 0.5275248086249829, Accuracy=0.82508: 100%|██████████| 3125/3125 [01:20<00:00, 38.82it/s]\n",
            "Epoch 53 - Validation loss: 0.5691666017770767, Accuracy=0.8182: 100%|██████████| 625/625 [00:09<00:00, 65.86it/s]\n",
            "Epoch 54 - Training loss: 0.525895265005827, Accuracy=0.82882: 100%|██████████| 3125/3125 [01:19<00:00, 39.49it/s]\n",
            "Epoch 54 - Validation loss: 0.5534536413550377, Accuracy=0.8228: 100%|██████████| 625/625 [00:09<00:00, 68.29it/s]\n",
            "Epoch 55 - Training loss: 0.526324883249998, Accuracy=0.8271: 100%|██████████| 3125/3125 [01:21<00:00, 38.45it/s]\n",
            "Epoch 55 - Validation loss: 0.5336429315984249, Accuracy=0.8232: 100%|██████████| 625/625 [00:09<00:00, 66.46it/s]\n",
            "Epoch 56 - Training loss: 0.5244725711488724, Accuracy=0.82858: 100%|██████████| 3125/3125 [01:19<00:00, 39.37it/s]\n",
            "Epoch 56 - Validation loss: 0.5804489351004362, Accuracy=0.8106: 100%|██████████| 625/625 [00:09<00:00, 67.10it/s]\n",
            "Epoch 57 - Training loss: 0.007546020231246948, Accuracy=0.0117:   1%|▏         | 44/3125 [00:01<01:18, 39.11it/s]"
          ],
          "name": "stderr"
        }
      ]
    },
    {
      "cell_type": "code",
      "metadata": {
        "id": "CcuktdfosAIp",
        "colab": {
          "base_uri": "https://localhost:8080/",
          "height": 1000
        },
        "outputId": "1e01cab1-049c-468a-cdc0-53a0b4f9cfd2"
      },
      "source": [
        "PATH=\"lstm_trained_till220\"\n",
        "model=torch.load(PATH)\n",
        "model.train()\n",
        "criterion = nn.CrossEntropyLoss()\n",
        "optimizer = torch.optim.Adam(model.parameters(), lr=0.001)\n",
        "# model2.eval()\n",
        "train(model, 100, dataset, dataset_valid)\n",
        "PATH=\"lstm_trained_till_320\"\n",
        "torch.save(model, PATH)"
      ],
      "execution_count": 17,
      "outputs": [
        {
          "output_type": "stream",
          "text": [
            "Epoch 0 - Training loss: 0.46903015803933146, Accuracy=0.84728: 100%|██████████| 3125/3125 [05:42<00:00,  9.13it/s]\n",
            "Epoch 0 - Validation loss: 0.5156529412567615, Accuracy=0.8324: 100%|██████████| 625/625 [00:26<00:00, 23.28it/s]\n",
            "Epoch 1 - Training loss: 0.46940697665274145, Accuracy=0.8484: 100%|██████████| 3125/3125 [05:41<00:00,  9.16it/s]\n",
            "Epoch 1 - Validation loss: 0.5207989858180284, Accuracy=0.8322: 100%|██████████| 625/625 [00:26<00:00, 23.54it/s]\n",
            "Epoch 2 - Training loss: 0.46855765373170377, Accuracy=0.84714: 100%|██████████| 3125/3125 [05:40<00:00,  9.17it/s]\n",
            "Epoch 2 - Validation loss: 0.5114286330610514, Accuracy=0.8359: 100%|██████████| 625/625 [00:26<00:00, 23.53it/s]\n",
            "Epoch 3 - Training loss: 0.4676002269011736, Accuracy=0.84736: 100%|██████████| 3125/3125 [05:43<00:00,  9.10it/s]\n",
            "Epoch 3 - Validation loss: 0.506243511787057, Accuracy=0.8384: 100%|██████████| 625/625 [00:26<00:00, 23.46it/s]\n",
            "Epoch 4 - Training loss: 0.46700661019086837, Accuracy=0.84644: 100%|██████████| 3125/3125 [05:41<00:00,  9.16it/s]\n",
            "Epoch 4 - Validation loss: 0.5069811996266246, Accuracy=0.8396: 100%|██████████| 625/625 [00:26<00:00, 23.28it/s]\n",
            "Epoch 5 - Training loss: 0.467266249819994, Accuracy=0.84864: 100%|██████████| 3125/3125 [05:39<00:00,  9.21it/s]\n",
            "Epoch 5 - Validation loss: 0.5151693541556597, Accuracy=0.8369: 100%|██████████| 625/625 [00:26<00:00, 23.65it/s]\n",
            "Epoch 6 - Training loss: 0.4688394704687595, Accuracy=0.84556: 100%|██████████| 3125/3125 [05:39<00:00,  9.19it/s]\n",
            "Epoch 6 - Validation loss: 0.5362375837951898, Accuracy=0.8308: 100%|██████████| 625/625 [00:26<00:00, 23.59it/s]\n",
            "Epoch 7 - Training loss: 0.46568525631070135, Accuracy=0.8492: 100%|██████████| 3125/3125 [05:40<00:00,  9.17it/s]\n",
            "Epoch 7 - Validation loss: 0.5058312303572893, Accuracy=0.839: 100%|██████████| 625/625 [00:26<00:00, 23.68it/s]\n",
            "Epoch 8 - Training loss: 0.4659915073108673, Accuracy=0.8481: 100%|██████████| 3125/3125 [05:40<00:00,  9.18it/s]\n",
            "Epoch 8 - Validation loss: 0.5051215689942241, Accuracy=0.8408: 100%|██████████| 625/625 [00:26<00:00, 23.65it/s]\n",
            "Epoch 9 - Training loss: 0.4662974068236351, Accuracy=0.84848: 100%|██████████| 3125/3125 [05:41<00:00,  9.14it/s]\n",
            "Epoch 9 - Validation loss: 0.5144456683054567, Accuracy=0.8359: 100%|██████████| 625/625 [00:26<00:00, 23.75it/s]\n",
            "Epoch 10 - Training loss: 0.4633526206588745, Accuracy=0.84848: 100%|██████████| 3125/3125 [05:42<00:00,  9.14it/s]\n",
            "Epoch 10 - Validation loss: 0.5169031447157264, Accuracy=0.838: 100%|██████████| 625/625 [00:26<00:00, 23.72it/s]\n",
            "Epoch 11 - Training loss: 0.4668354606831074, Accuracy=0.84804: 100%|██████████| 3125/3125 [05:41<00:00,  9.14it/s]\n",
            "Epoch 11 - Validation loss: 0.5202009287655354, Accuracy=0.8338: 100%|██████████| 625/625 [00:26<00:00, 23.33it/s]\n",
            "Epoch 12 - Training loss: 0.46466756638884543, Accuracy=0.84882: 100%|██████████| 3125/3125 [05:41<00:00,  9.14it/s]\n",
            "Epoch 12 - Validation loss: 0.5128992855817079, Accuracy=0.8377: 100%|██████████| 625/625 [00:26<00:00, 23.71it/s]\n",
            "Epoch 13 - Training loss: 0.47036714966923, Accuracy=0.84752: 100%|██████████| 3125/3125 [05:40<00:00,  9.18it/s]\n",
            "Epoch 13 - Validation loss: 0.5455234904140234, Accuracy=0.8283: 100%|██████████| 625/625 [00:26<00:00, 23.64it/s]\n",
            "Epoch 14 - Training loss: 0.4626117504441738, Accuracy=0.84866: 100%|██████████| 3125/3125 [05:40<00:00,  9.18it/s]\n",
            "Epoch 14 - Validation loss: 0.5238089379817248, Accuracy=0.8346: 100%|██████████| 625/625 [00:26<00:00, 23.49it/s]\n",
            "Epoch 15 - Training loss: 0.4636583550429344, Accuracy=0.84798: 100%|██████████| 3125/3125 [05:40<00:00,  9.17it/s]\n",
            "Epoch 15 - Validation loss: 0.5005520010113717, Accuracy=0.8402: 100%|██████████| 625/625 [00:26<00:00, 23.65it/s]\n",
            "Epoch 16 - Training loss: 0.46115459047973156, Accuracy=0.8493: 100%|██████████| 3125/3125 [05:40<00:00,  9.17it/s]\n",
            "Epoch 16 - Validation loss: 0.5020878212824463, Accuracy=0.8405: 100%|██████████| 625/625 [00:26<00:00, 23.68it/s]\n",
            "Epoch 17 - Training loss: 0.4633523058450222, Accuracy=0.85028: 100%|██████████| 3125/3125 [05:42<00:00,  9.13it/s]\n",
            "Epoch 17 - Validation loss: 0.5127872803658247, Accuracy=0.8376: 100%|██████████| 625/625 [00:26<00:00, 23.63it/s]\n",
            "Epoch 18 - Training loss: 0.4608716091012955, Accuracy=0.85042: 100%|██████████| 3125/3125 [05:40<00:00,  9.17it/s]\n",
            "Epoch 18 - Validation loss: 0.5143358429729938, Accuracy=0.8333: 100%|██████████| 625/625 [00:26<00:00, 23.66it/s]\n",
            "Epoch 19 - Training loss: 0.4623449453186989, Accuracy=0.84948: 100%|██████████| 3125/3125 [05:40<00:00,  9.18it/s]\n",
            "Epoch 19 - Validation loss: 0.519524494177103, Accuracy=0.8347: 100%|██████████| 625/625 [00:26<00:00, 23.65it/s]\n",
            "Epoch 20 - Training loss: 0.4608353217577934, Accuracy=0.84956: 100%|██████████| 3125/3125 [05:41<00:00,  9.15it/s]\n",
            "Epoch 20 - Validation loss: 0.520182008947432, Accuracy=0.8334: 100%|██████████| 625/625 [00:26<00:00, 23.65it/s]\n",
            "Epoch 21 - Training loss: 0.4599825786441565, Accuracy=0.85046: 100%|██████████| 3125/3125 [05:40<00:00,  9.17it/s]\n",
            "Epoch 21 - Validation loss: 0.5037146001368761, Accuracy=0.8385: 100%|██████████| 625/625 [00:26<00:00, 23.74it/s]\n",
            "Epoch 22 - Training loss: 0.4619895999664068, Accuracy=0.84882: 100%|██████████| 3125/3125 [05:40<00:00,  9.17it/s]\n",
            "Epoch 22 - Validation loss: 0.5033361696496605, Accuracy=0.8395: 100%|██████████| 625/625 [00:26<00:00, 23.52it/s]\n",
            "Epoch 23 - Training loss: 0.4611613134676218, Accuracy=0.84874: 100%|██████████| 3125/3125 [05:42<00:00,  9.12it/s]\n",
            "Epoch 23 - Validation loss: 0.5117266877770424, Accuracy=0.8363: 100%|██████████| 625/625 [00:26<00:00, 23.66it/s]\n",
            "Epoch 24 - Training loss: 0.45920572596251963, Accuracy=0.85116: 100%|██████████| 3125/3125 [05:42<00:00,  9.11it/s]\n",
            "Epoch 24 - Validation loss: 0.5123853221967817, Accuracy=0.8373: 100%|██████████| 625/625 [00:27<00:00, 23.11it/s]\n",
            "Epoch 25 - Training loss: 0.45949701430141926, Accuracy=0.8511: 100%|██████████| 3125/3125 [05:40<00:00,  9.19it/s]\n",
            "Epoch 25 - Validation loss: 0.4994337073296308, Accuracy=0.8431: 100%|██████████| 625/625 [00:26<00:00, 23.55it/s]\n",
            "Epoch 26 - Training loss: 0.45783929853916167, Accuracy=0.85202: 100%|██████████| 3125/3125 [05:39<00:00,  9.21it/s]\n",
            "Epoch 26 - Validation loss: 0.5150527937948703, Accuracy=0.8371: 100%|██████████| 625/625 [00:26<00:00, 23.84it/s]\n",
            "Epoch 27 - Training loss: 0.4589743374478817, Accuracy=0.85034: 100%|██████████| 3125/3125 [05:40<00:00,  9.17it/s]\n",
            "Epoch 27 - Validation loss: 0.5054043193757534, Accuracy=0.8386: 100%|██████████| 625/625 [00:26<00:00, 23.69it/s]\n",
            "Epoch 28 - Training loss: 0.4562723725903034, Accuracy=0.85156: 100%|██████████| 3125/3125 [05:41<00:00,  9.16it/s]\n",
            "Epoch 28 - Validation loss: 0.51039403026402, Accuracy=0.8386: 100%|██████████| 625/625 [00:26<00:00, 23.64it/s]\n",
            "Epoch 29 - Training loss: 0.45979137395441533, Accuracy=0.8505: 100%|██████████| 3125/3125 [05:41<00:00,  9.16it/s]\n",
            "Epoch 29 - Validation loss: 0.505073923254013, Accuracy=0.8419: 100%|██████████| 625/625 [00:26<00:00, 23.67it/s]\n",
            "Epoch 30 - Training loss: 0.45698646027207374, Accuracy=0.85226: 100%|██████████| 3125/3125 [05:40<00:00,  9.19it/s]\n",
            "Epoch 30 - Validation loss: 0.5069352818876505, Accuracy=0.8399: 100%|██████████| 625/625 [00:26<00:00, 23.75it/s]\n",
            "Epoch 31 - Training loss: 0.45763020015835765, Accuracy=0.85196: 100%|██████████| 3125/3125 [05:42<00:00,  9.12it/s]\n",
            "Epoch 31 - Validation loss: 0.5202410063356161, Accuracy=0.8332: 100%|██████████| 625/625 [00:26<00:00, 23.61it/s]\n",
            "Epoch 32 - Training loss: 0.45764548820495604, Accuracy=0.85146: 100%|██████████| 3125/3125 [05:42<00:00,  9.13it/s]\n",
            "Epoch 32 - Validation loss: 0.49694361039400103, Accuracy=0.8383: 100%|██████████| 625/625 [00:26<00:00, 23.45it/s]\n",
            "Epoch 33 - Training loss: 0.4562380695152283, Accuracy=0.85246: 100%|██████████| 3125/3125 [05:39<00:00,  9.19it/s]\n",
            "Epoch 33 - Validation loss: 0.5014471354365349, Accuracy=0.8385: 100%|██████████| 625/625 [00:26<00:00, 23.62it/s]\n",
            "Epoch 34 - Training loss: 0.45742726951956747, Accuracy=0.84992: 100%|██████████| 3125/3125 [05:40<00:00,  9.18it/s]\n",
            "Epoch 34 - Validation loss: 0.5156629897281527, Accuracy=0.8363: 100%|██████████| 625/625 [00:26<00:00, 23.68it/s]\n",
            "Epoch 35 - Training loss: 0.45813651659965515, Accuracy=0.8507: 100%|██████████| 3125/3125 [05:40<00:00,  9.17it/s]\n",
            "Epoch 35 - Validation loss: 0.5207654979512095, Accuracy=0.8382: 100%|██████████| 625/625 [00:26<00:00, 23.65it/s]\n",
            "Epoch 36 - Training loss: 0.45442156167209147, Accuracy=0.85104: 100%|██████████| 3125/3125 [05:42<00:00,  9.14it/s]\n",
            "Epoch 36 - Validation loss: 0.5079261470660568, Accuracy=0.8382: 100%|██████████| 625/625 [00:26<00:00, 23.32it/s]\n",
            "Epoch 37 - Training loss: 0.45474924412071704, Accuracy=0.85338: 100%|██████████| 3125/3125 [05:43<00:00,  9.11it/s]\n",
            "Epoch 37 - Validation loss: 0.5018312970519065, Accuracy=0.8394: 100%|██████████| 625/625 [00:26<00:00, 23.53it/s]\n",
            "Epoch 38 - Training loss: 0.23958650166630746, Accuracy=0.44918:  53%|█████▎    | 1650/3125 [03:00<02:41,  9.12it/s]\n"
          ],
          "name": "stderr"
        },
        {
          "output_type": "error",
          "ename": "KeyboardInterrupt",
          "evalue": "ignored",
          "traceback": [
            "\u001b[0;31m---------------------------------------------------------------------------\u001b[0m",
            "\u001b[0;31mKeyboardInterrupt\u001b[0m                         Traceback (most recent call last)",
            "\u001b[0;32m<ipython-input-17-8e3d16f305b0>\u001b[0m in \u001b[0;36m<module>\u001b[0;34m()\u001b[0m\n\u001b[1;32m      5\u001b[0m \u001b[0moptimizer\u001b[0m \u001b[0;34m=\u001b[0m \u001b[0mtorch\u001b[0m\u001b[0;34m.\u001b[0m\u001b[0moptim\u001b[0m\u001b[0;34m.\u001b[0m\u001b[0mAdam\u001b[0m\u001b[0;34m(\u001b[0m\u001b[0mmodel\u001b[0m\u001b[0;34m.\u001b[0m\u001b[0mparameters\u001b[0m\u001b[0;34m(\u001b[0m\u001b[0;34m)\u001b[0m\u001b[0;34m,\u001b[0m \u001b[0mlr\u001b[0m\u001b[0;34m=\u001b[0m\u001b[0;36m0.001\u001b[0m\u001b[0;34m)\u001b[0m\u001b[0;34m\u001b[0m\u001b[0;34m\u001b[0m\u001b[0m\n\u001b[1;32m      6\u001b[0m \u001b[0;31m# model2.eval()\u001b[0m\u001b[0;34m\u001b[0m\u001b[0;34m\u001b[0m\u001b[0;34m\u001b[0m\u001b[0m\n\u001b[0;32m----> 7\u001b[0;31m \u001b[0mtrain\u001b[0m\u001b[0;34m(\u001b[0m\u001b[0mmodel\u001b[0m\u001b[0;34m,\u001b[0m \u001b[0;36m100\u001b[0m\u001b[0;34m,\u001b[0m \u001b[0mdataset\u001b[0m\u001b[0;34m,\u001b[0m \u001b[0mdataset_valid\u001b[0m\u001b[0;34m)\u001b[0m\u001b[0;34m\u001b[0m\u001b[0;34m\u001b[0m\u001b[0m\n\u001b[0m\u001b[1;32m      8\u001b[0m \u001b[0mPATH\u001b[0m\u001b[0;34m=\u001b[0m\u001b[0;34m\"lstm_trained_till_320\"\u001b[0m\u001b[0;34m\u001b[0m\u001b[0;34m\u001b[0m\u001b[0m\n\u001b[1;32m      9\u001b[0m \u001b[0mtorch\u001b[0m\u001b[0;34m.\u001b[0m\u001b[0msave\u001b[0m\u001b[0;34m(\u001b[0m\u001b[0mmodel\u001b[0m\u001b[0;34m,\u001b[0m \u001b[0mPATH\u001b[0m\u001b[0;34m)\u001b[0m\u001b[0;34m\u001b[0m\u001b[0;34m\u001b[0m\u001b[0m\n",
            "\u001b[0;32m<ipython-input-6-92ec8bb9dc7f>\u001b[0m in \u001b[0;36mtrain\u001b[0;34m(model, epochs, dataset, dataset_valid)\u001b[0m\n\u001b[1;32m     28\u001b[0m \u001b[0;34m\u001b[0m\u001b[0m\n\u001b[1;32m     29\u001b[0m             \u001b[0mbar\u001b[0m\u001b[0;34m.\u001b[0m\u001b[0mupdate\u001b[0m\u001b[0;34m(\u001b[0m\u001b[0;36m1\u001b[0m\u001b[0;34m)\u001b[0m\u001b[0;34m\u001b[0m\u001b[0;34m\u001b[0m\u001b[0m\n\u001b[0;32m---> 30\u001b[0;31m             \u001b[0mbar\u001b[0m\u001b[0;34m.\u001b[0m\u001b[0mset_description\u001b[0m\u001b[0;34m(\u001b[0m\u001b[0;34m\"Epoch {} - Training loss: {}, Accuracy={}\"\u001b[0m\u001b[0;34m.\u001b[0m\u001b[0mformat\u001b[0m\u001b[0;34m(\u001b[0m\u001b[0me\u001b[0m\u001b[0;34m,\u001b[0m \u001b[0mrunning_loss\u001b[0m\u001b[0;34m/\u001b[0m\u001b[0mlen\u001b[0m\u001b[0;34m(\u001b[0m\u001b[0mdataset\u001b[0m\u001b[0;34m)\u001b[0m\u001b[0;34m,\u001b[0m\u001b[0msum_acc\u001b[0m\u001b[0;34m/\u001b[0m\u001b[0mlen\u001b[0m\u001b[0;34m(\u001b[0m\u001b[0mdataset\u001b[0m\u001b[0;34m)\u001b[0m\u001b[0;34m)\u001b[0m\u001b[0;34m)\u001b[0m\u001b[0;34m\u001b[0m\u001b[0;34m\u001b[0m\u001b[0m\n\u001b[0m\u001b[1;32m     31\u001b[0m \u001b[0;34m\u001b[0m\u001b[0m\n\u001b[1;32m     32\u001b[0m       \u001b[0mmodel\u001b[0m\u001b[0;34m.\u001b[0m\u001b[0meval\u001b[0m\u001b[0;34m(\u001b[0m\u001b[0;34m)\u001b[0m\u001b[0;34m\u001b[0m\u001b[0;34m\u001b[0m\u001b[0m\n",
            "\u001b[0;32m/usr/local/lib/python3.7/dist-packages/tqdm/std.py\u001b[0m in \u001b[0;36mset_description\u001b[0;34m(self, desc, refresh)\u001b[0m\n\u001b[1;32m   1348\u001b[0m         \u001b[0mself\u001b[0m\u001b[0;34m.\u001b[0m\u001b[0mdesc\u001b[0m \u001b[0;34m=\u001b[0m \u001b[0mdesc\u001b[0m \u001b[0;34m+\u001b[0m \u001b[0;34m': '\u001b[0m \u001b[0;32mif\u001b[0m \u001b[0mdesc\u001b[0m \u001b[0;32melse\u001b[0m \u001b[0;34m''\u001b[0m\u001b[0;34m\u001b[0m\u001b[0;34m\u001b[0m\u001b[0m\n\u001b[1;32m   1349\u001b[0m         \u001b[0;32mif\u001b[0m \u001b[0mrefresh\u001b[0m\u001b[0;34m:\u001b[0m\u001b[0;34m\u001b[0m\u001b[0;34m\u001b[0m\u001b[0m\n\u001b[0;32m-> 1350\u001b[0;31m             \u001b[0mself\u001b[0m\u001b[0;34m.\u001b[0m\u001b[0mrefresh\u001b[0m\u001b[0;34m(\u001b[0m\u001b[0;34m)\u001b[0m\u001b[0;34m\u001b[0m\u001b[0;34m\u001b[0m\u001b[0m\n\u001b[0m\u001b[1;32m   1351\u001b[0m \u001b[0;34m\u001b[0m\u001b[0m\n\u001b[1;32m   1352\u001b[0m     \u001b[0;32mdef\u001b[0m \u001b[0mset_description_str\u001b[0m\u001b[0;34m(\u001b[0m\u001b[0mself\u001b[0m\u001b[0;34m,\u001b[0m \u001b[0mdesc\u001b[0m\u001b[0;34m=\u001b[0m\u001b[0;32mNone\u001b[0m\u001b[0;34m,\u001b[0m \u001b[0mrefresh\u001b[0m\u001b[0;34m=\u001b[0m\u001b[0;32mTrue\u001b[0m\u001b[0;34m)\u001b[0m\u001b[0;34m:\u001b[0m\u001b[0;34m\u001b[0m\u001b[0;34m\u001b[0m\u001b[0m\n",
            "\u001b[0;32m/usr/local/lib/python3.7/dist-packages/tqdm/std.py\u001b[0m in \u001b[0;36mrefresh\u001b[0;34m(self, nolock, lock_args)\u001b[0m\n\u001b[1;32m   1309\u001b[0m             \u001b[0;32melse\u001b[0m\u001b[0;34m:\u001b[0m\u001b[0;34m\u001b[0m\u001b[0;34m\u001b[0m\u001b[0m\n\u001b[1;32m   1310\u001b[0m                 \u001b[0mself\u001b[0m\u001b[0;34m.\u001b[0m\u001b[0m_lock\u001b[0m\u001b[0;34m.\u001b[0m\u001b[0macquire\u001b[0m\u001b[0;34m(\u001b[0m\u001b[0;34m)\u001b[0m\u001b[0;34m\u001b[0m\u001b[0;34m\u001b[0m\u001b[0m\n\u001b[0;32m-> 1311\u001b[0;31m         \u001b[0mself\u001b[0m\u001b[0;34m.\u001b[0m\u001b[0mdisplay\u001b[0m\u001b[0;34m(\u001b[0m\u001b[0;34m)\u001b[0m\u001b[0;34m\u001b[0m\u001b[0;34m\u001b[0m\u001b[0m\n\u001b[0m\u001b[1;32m   1312\u001b[0m         \u001b[0;32mif\u001b[0m \u001b[0;32mnot\u001b[0m \u001b[0mnolock\u001b[0m\u001b[0;34m:\u001b[0m\u001b[0;34m\u001b[0m\u001b[0;34m\u001b[0m\u001b[0m\n\u001b[1;32m   1313\u001b[0m             \u001b[0mself\u001b[0m\u001b[0;34m.\u001b[0m\u001b[0m_lock\u001b[0m\u001b[0;34m.\u001b[0m\u001b[0mrelease\u001b[0m\u001b[0;34m(\u001b[0m\u001b[0;34m)\u001b[0m\u001b[0;34m\u001b[0m\u001b[0;34m\u001b[0m\u001b[0m\n",
            "\u001b[0;32m/usr/local/lib/python3.7/dist-packages/tqdm/std.py\u001b[0m in \u001b[0;36mdisplay\u001b[0;34m(self, msg, pos)\u001b[0m\n\u001b[1;32m   1433\u001b[0m         \u001b[0;32mif\u001b[0m \u001b[0mpos\u001b[0m\u001b[0;34m:\u001b[0m\u001b[0;34m\u001b[0m\u001b[0;34m\u001b[0m\u001b[0m\n\u001b[1;32m   1434\u001b[0m             \u001b[0mself\u001b[0m\u001b[0;34m.\u001b[0m\u001b[0mmoveto\u001b[0m\u001b[0;34m(\u001b[0m\u001b[0mpos\u001b[0m\u001b[0;34m)\u001b[0m\u001b[0;34m\u001b[0m\u001b[0;34m\u001b[0m\u001b[0m\n\u001b[0;32m-> 1435\u001b[0;31m         \u001b[0mself\u001b[0m\u001b[0;34m.\u001b[0m\u001b[0msp\u001b[0m\u001b[0;34m(\u001b[0m\u001b[0mself\u001b[0m\u001b[0;34m.\u001b[0m\u001b[0m__repr__\u001b[0m\u001b[0;34m(\u001b[0m\u001b[0;34m)\u001b[0m \u001b[0;32mif\u001b[0m \u001b[0mmsg\u001b[0m \u001b[0;32mis\u001b[0m \u001b[0;32mNone\u001b[0m \u001b[0;32melse\u001b[0m \u001b[0mmsg\u001b[0m\u001b[0;34m)\u001b[0m\u001b[0;34m\u001b[0m\u001b[0;34m\u001b[0m\u001b[0m\n\u001b[0m\u001b[1;32m   1436\u001b[0m         \u001b[0;32mif\u001b[0m \u001b[0mpos\u001b[0m\u001b[0;34m:\u001b[0m\u001b[0;34m\u001b[0m\u001b[0;34m\u001b[0m\u001b[0m\n\u001b[1;32m   1437\u001b[0m             \u001b[0mself\u001b[0m\u001b[0;34m.\u001b[0m\u001b[0mmoveto\u001b[0m\u001b[0;34m(\u001b[0m\u001b[0;34m-\u001b[0m\u001b[0mpos\u001b[0m\u001b[0;34m)\u001b[0m\u001b[0;34m\u001b[0m\u001b[0;34m\u001b[0m\u001b[0m\n",
            "\u001b[0;32m/usr/local/lib/python3.7/dist-packages/tqdm/std.py\u001b[0m in \u001b[0;36mprint_status\u001b[0;34m(s)\u001b[0m\n\u001b[1;32m    303\u001b[0m         \u001b[0;32mdef\u001b[0m \u001b[0mprint_status\u001b[0m\u001b[0;34m(\u001b[0m\u001b[0ms\u001b[0m\u001b[0;34m)\u001b[0m\u001b[0;34m:\u001b[0m\u001b[0;34m\u001b[0m\u001b[0;34m\u001b[0m\u001b[0m\n\u001b[1;32m    304\u001b[0m             \u001b[0mlen_s\u001b[0m \u001b[0;34m=\u001b[0m \u001b[0mlen\u001b[0m\u001b[0;34m(\u001b[0m\u001b[0ms\u001b[0m\u001b[0;34m)\u001b[0m\u001b[0;34m\u001b[0m\u001b[0;34m\u001b[0m\u001b[0m\n\u001b[0;32m--> 305\u001b[0;31m             \u001b[0mfp_write\u001b[0m\u001b[0;34m(\u001b[0m\u001b[0;34m'\\r'\u001b[0m \u001b[0;34m+\u001b[0m \u001b[0ms\u001b[0m \u001b[0;34m+\u001b[0m \u001b[0;34m(\u001b[0m\u001b[0;34m' '\u001b[0m \u001b[0;34m*\u001b[0m \u001b[0mmax\u001b[0m\u001b[0;34m(\u001b[0m\u001b[0mlast_len\u001b[0m\u001b[0;34m[\u001b[0m\u001b[0;36m0\u001b[0m\u001b[0;34m]\u001b[0m \u001b[0;34m-\u001b[0m \u001b[0mlen_s\u001b[0m\u001b[0;34m,\u001b[0m \u001b[0;36m0\u001b[0m\u001b[0;34m)\u001b[0m\u001b[0;34m)\u001b[0m\u001b[0;34m)\u001b[0m\u001b[0;34m\u001b[0m\u001b[0;34m\u001b[0m\u001b[0m\n\u001b[0m\u001b[1;32m    306\u001b[0m             \u001b[0mlast_len\u001b[0m\u001b[0;34m[\u001b[0m\u001b[0;36m0\u001b[0m\u001b[0;34m]\u001b[0m \u001b[0;34m=\u001b[0m \u001b[0mlen_s\u001b[0m\u001b[0;34m\u001b[0m\u001b[0;34m\u001b[0m\u001b[0m\n\u001b[1;32m    307\u001b[0m \u001b[0;34m\u001b[0m\u001b[0m\n",
            "\u001b[0;32m/usr/local/lib/python3.7/dist-packages/tqdm/std.py\u001b[0m in \u001b[0;36mfp_write\u001b[0;34m(s)\u001b[0m\n\u001b[1;32m    297\u001b[0m         \u001b[0;32mdef\u001b[0m \u001b[0mfp_write\u001b[0m\u001b[0;34m(\u001b[0m\u001b[0ms\u001b[0m\u001b[0;34m)\u001b[0m\u001b[0;34m:\u001b[0m\u001b[0;34m\u001b[0m\u001b[0;34m\u001b[0m\u001b[0m\n\u001b[1;32m    298\u001b[0m             \u001b[0mfp\u001b[0m\u001b[0;34m.\u001b[0m\u001b[0mwrite\u001b[0m\u001b[0;34m(\u001b[0m\u001b[0m_unicode\u001b[0m\u001b[0;34m(\u001b[0m\u001b[0ms\u001b[0m\u001b[0;34m)\u001b[0m\u001b[0;34m)\u001b[0m\u001b[0;34m\u001b[0m\u001b[0;34m\u001b[0m\u001b[0m\n\u001b[0;32m--> 299\u001b[0;31m             \u001b[0mfp_flush\u001b[0m\u001b[0;34m(\u001b[0m\u001b[0;34m)\u001b[0m\u001b[0;34m\u001b[0m\u001b[0;34m\u001b[0m\u001b[0m\n\u001b[0m\u001b[1;32m    300\u001b[0m \u001b[0;34m\u001b[0m\u001b[0m\n\u001b[1;32m    301\u001b[0m         \u001b[0mlast_len\u001b[0m \u001b[0;34m=\u001b[0m \u001b[0;34m[\u001b[0m\u001b[0;36m0\u001b[0m\u001b[0;34m]\u001b[0m\u001b[0;34m\u001b[0m\u001b[0;34m\u001b[0m\u001b[0m\n",
            "\u001b[0;32m/usr/local/lib/python3.7/dist-packages/ipykernel/iostream.py\u001b[0m in \u001b[0;36mflush\u001b[0;34m(self)\u001b[0m\n\u001b[1;32m    347\u001b[0m                 \u001b[0mself\u001b[0m\u001b[0;34m.\u001b[0m\u001b[0mpub_thread\u001b[0m\u001b[0;34m.\u001b[0m\u001b[0mschedule\u001b[0m\u001b[0;34m(\u001b[0m\u001b[0mevt\u001b[0m\u001b[0;34m.\u001b[0m\u001b[0mset\u001b[0m\u001b[0;34m)\u001b[0m\u001b[0;34m\u001b[0m\u001b[0;34m\u001b[0m\u001b[0m\n\u001b[1;32m    348\u001b[0m                 \u001b[0;31m# and give a timeout to avoid\u001b[0m\u001b[0;34m\u001b[0m\u001b[0;34m\u001b[0m\u001b[0;34m\u001b[0m\u001b[0m\n\u001b[0;32m--> 349\u001b[0;31m                 \u001b[0;32mif\u001b[0m \u001b[0;32mnot\u001b[0m \u001b[0mevt\u001b[0m\u001b[0;34m.\u001b[0m\u001b[0mwait\u001b[0m\u001b[0;34m(\u001b[0m\u001b[0mself\u001b[0m\u001b[0;34m.\u001b[0m\u001b[0mflush_timeout\u001b[0m\u001b[0;34m)\u001b[0m\u001b[0;34m:\u001b[0m\u001b[0;34m\u001b[0m\u001b[0;34m\u001b[0m\u001b[0m\n\u001b[0m\u001b[1;32m    350\u001b[0m                     \u001b[0;31m# write directly to __stderr__ instead of warning because\u001b[0m\u001b[0;34m\u001b[0m\u001b[0;34m\u001b[0m\u001b[0;34m\u001b[0m\u001b[0m\n\u001b[1;32m    351\u001b[0m                     \u001b[0;31m# if this is happening sys.stderr may be the problem.\u001b[0m\u001b[0;34m\u001b[0m\u001b[0;34m\u001b[0m\u001b[0;34m\u001b[0m\u001b[0m\n",
            "\u001b[0;32m/usr/lib/python3.7/threading.py\u001b[0m in \u001b[0;36mwait\u001b[0;34m(self, timeout)\u001b[0m\n\u001b[1;32m    550\u001b[0m             \u001b[0msignaled\u001b[0m \u001b[0;34m=\u001b[0m \u001b[0mself\u001b[0m\u001b[0;34m.\u001b[0m\u001b[0m_flag\u001b[0m\u001b[0;34m\u001b[0m\u001b[0;34m\u001b[0m\u001b[0m\n\u001b[1;32m    551\u001b[0m             \u001b[0;32mif\u001b[0m \u001b[0;32mnot\u001b[0m \u001b[0msignaled\u001b[0m\u001b[0;34m:\u001b[0m\u001b[0;34m\u001b[0m\u001b[0;34m\u001b[0m\u001b[0m\n\u001b[0;32m--> 552\u001b[0;31m                 \u001b[0msignaled\u001b[0m \u001b[0;34m=\u001b[0m \u001b[0mself\u001b[0m\u001b[0;34m.\u001b[0m\u001b[0m_cond\u001b[0m\u001b[0;34m.\u001b[0m\u001b[0mwait\u001b[0m\u001b[0;34m(\u001b[0m\u001b[0mtimeout\u001b[0m\u001b[0;34m)\u001b[0m\u001b[0;34m\u001b[0m\u001b[0;34m\u001b[0m\u001b[0m\n\u001b[0m\u001b[1;32m    553\u001b[0m             \u001b[0;32mreturn\u001b[0m \u001b[0msignaled\u001b[0m\u001b[0;34m\u001b[0m\u001b[0;34m\u001b[0m\u001b[0m\n\u001b[1;32m    554\u001b[0m \u001b[0;34m\u001b[0m\u001b[0m\n",
            "\u001b[0;32m/usr/lib/python3.7/threading.py\u001b[0m in \u001b[0;36mwait\u001b[0;34m(self, timeout)\u001b[0m\n\u001b[1;32m    298\u001b[0m             \u001b[0;32melse\u001b[0m\u001b[0;34m:\u001b[0m\u001b[0;34m\u001b[0m\u001b[0;34m\u001b[0m\u001b[0m\n\u001b[1;32m    299\u001b[0m                 \u001b[0;32mif\u001b[0m \u001b[0mtimeout\u001b[0m \u001b[0;34m>\u001b[0m \u001b[0;36m0\u001b[0m\u001b[0;34m:\u001b[0m\u001b[0;34m\u001b[0m\u001b[0;34m\u001b[0m\u001b[0m\n\u001b[0;32m--> 300\u001b[0;31m                     \u001b[0mgotit\u001b[0m \u001b[0;34m=\u001b[0m \u001b[0mwaiter\u001b[0m\u001b[0;34m.\u001b[0m\u001b[0macquire\u001b[0m\u001b[0;34m(\u001b[0m\u001b[0;32mTrue\u001b[0m\u001b[0;34m,\u001b[0m \u001b[0mtimeout\u001b[0m\u001b[0;34m)\u001b[0m\u001b[0;34m\u001b[0m\u001b[0;34m\u001b[0m\u001b[0m\n\u001b[0m\u001b[1;32m    301\u001b[0m                 \u001b[0;32melse\u001b[0m\u001b[0;34m:\u001b[0m\u001b[0;34m\u001b[0m\u001b[0;34m\u001b[0m\u001b[0m\n\u001b[1;32m    302\u001b[0m                     \u001b[0mgotit\u001b[0m \u001b[0;34m=\u001b[0m \u001b[0mwaiter\u001b[0m\u001b[0;34m.\u001b[0m\u001b[0macquire\u001b[0m\u001b[0;34m(\u001b[0m\u001b[0;32mFalse\u001b[0m\u001b[0;34m)\u001b[0m\u001b[0;34m\u001b[0m\u001b[0;34m\u001b[0m\u001b[0m\n",
            "\u001b[0;31mKeyboardInterrupt\u001b[0m: "
          ]
        }
      ]
    },
    {
      "cell_type": "code",
      "metadata": {
        "id": "jl18OfNtRAC3"
      },
      "source": [
        "train(model, 100, dataset, dataset_valid)\n",
        "PATH=\"lstm_trained_till_420\"\n",
        "torch.save(model, PATH)"
      ],
      "execution_count": null,
      "outputs": []
    },
    {
      "cell_type": "code",
      "metadata": {
        "id": "qbrHMexvRCHo"
      },
      "source": [
        ""
      ],
      "execution_count": null,
      "outputs": []
    },
    {
      "cell_type": "code",
      "metadata": {
        "id": "C5A1p8H8sB4G"
      },
      "source": [
        "train(model, 100, dataset, dataset_valid)\n",
        "PATH=\"lstm_trained_till_410\"\n",
        "torch.save(model, PATH)"
      ],
      "execution_count": null,
      "outputs": []
    }
  ]
}