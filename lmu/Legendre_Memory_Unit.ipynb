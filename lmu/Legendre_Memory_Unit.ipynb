{
  "nbformat": 4,
  "nbformat_minor": 0,
  "metadata": {
    "colab": {
      "name": "Legendre Memory Unit.ipynb",
      "provenance": [],
      "collapsed_sections": [],
      "toc_visible": true
    },
    "kernelspec": {
      "name": "python3",
      "display_name": "Python 3"
    },
    "accelerator": "GPU"
  },
  "cells": [
    {
      "cell_type": "code",
      "metadata": {
        "id": "qYahiHxsgZil",
        "colab": {
          "base_uri": "https://localhost:8080/"
        },
        "outputId": "754c8de6-83e3-4c12-993d-c3afc7ace1b7"
      },
      "source": [
        "!pip install nengolib"
      ],
      "execution_count": 1,
      "outputs": [
        {
          "output_type": "stream",
          "text": [
            "Collecting nengolib\n",
            "\u001b[?25l  Downloading https://files.pythonhosted.org/packages/da/00/62bbce813d135da3799f4afc26957d942d4ae27085fb0df1bfb57dcf692b/nengolib-0.5.2-py2.py3-none-any.whl (117kB)\n",
            "\r\u001b[K     |██▉                             | 10kB 26.7MB/s eta 0:00:01\r\u001b[K     |█████▋                          | 20kB 32.0MB/s eta 0:00:01\r\u001b[K     |████████▍                       | 30kB 20.3MB/s eta 0:00:01\r\u001b[K     |███████████▏                    | 40kB 24.0MB/s eta 0:00:01\r\u001b[K     |██████████████                  | 51kB 23.0MB/s eta 0:00:01\r\u001b[K     |████████████████▊               | 61kB 25.5MB/s eta 0:00:01\r\u001b[K     |███████████████████▌            | 71kB 17.3MB/s eta 0:00:01\r\u001b[K     |██████████████████████▎         | 81kB 18.3MB/s eta 0:00:01\r\u001b[K     |█████████████████████████       | 92kB 17.2MB/s eta 0:00:01\r\u001b[K     |███████████████████████████▉    | 102kB 17.1MB/s eta 0:00:01\r\u001b[K     |██████████████████████████████▋ | 112kB 17.1MB/s eta 0:00:01\r\u001b[K     |████████████████████████████████| 122kB 17.1MB/s \n",
            "\u001b[?25hRequirement already satisfied: numpy>=1.13 in /usr/local/lib/python3.7/dist-packages (from nengolib) (1.19.5)\n",
            "Requirement already satisfied: scipy>=0.19.0 in /usr/local/lib/python3.7/dist-packages (from nengolib) (1.4.1)\n",
            "Collecting nengo<3.0,>=2.2.0\n",
            "\u001b[?25l  Downloading https://files.pythonhosted.org/packages/f7/ce/e314e1176bfbbe6c3b6cf4e8fa0620cafad8f8bad04203c55881e9cb2fb0/nengo-2.8.0-py2.py3-none-any.whl (375kB)\n",
            "\u001b[K     |████████████████████████████████| 378kB 28.5MB/s \n",
            "\u001b[?25hInstalling collected packages: nengo, nengolib\n",
            "Successfully installed nengo-2.8.0 nengolib-0.5.2\n"
          ],
          "name": "stdout"
        }
      ]
    },
    {
      "cell_type": "code",
      "metadata": {
        "id": "mAiRtAIA3kM4"
      },
      "source": [
        "import torch\n",
        "import torch.nn as nn\n",
        "from sympy.matrices import Matrix, eye, zeros, ones, diag, GramSchmidt\n",
        "import numpy as np\n",
        "from functools import partial\n",
        "import torch.nn.functional as F\n",
        "import math\n",
        "\n",
        "from nengolib.signal import Identity, cont2discrete\n",
        "from nengolib.synapses import LegendreDelay\n",
        "from functools import partial\n",
        "\n",
        "def lecun_uniform(tensor):\n",
        "    fan_in = nn.init._calculate_correct_fan(tensor, 'fan_in')\n",
        "    nn.init.uniform_(tensor, -math.sqrt(3 / fan_in), math.sqrt(3 / fan_in))\n",
        "    \n",
        "class LegendreMemoryUnitCell(nn.Module):\n",
        "  def __init__(self, input_dim, units , order, theta,\n",
        "                 input_encoders_initializer=lecun_uniform,\n",
        "                 hidden_encoders_initializer=lecun_uniform,\n",
        "                 memory_encoders_initializer=partial(torch.nn.init.constant_, val=0),\n",
        "                 input_kernel_initializer=torch.nn.init.xavier_normal_,\n",
        "                 hidden_kernel_initializer=torch.nn.init.xavier_normal_,\n",
        "                #  hidden_kernel_initializer=torch.nn.init.uniform_,\n",
        "                 include_bias=False, #added by ali acc to branch\n",
        "                 memory_kernel_initializer=torch.nn.init.xavier_normal_):\n",
        "    super(LegendreMemoryUnitCell, self).__init__()\n",
        "\n",
        "    self.order = order\n",
        "    self.theta = theta\n",
        "    self.units = units\n",
        "    self.include_bias=include_bias\n",
        "\n",
        "    realizer = Identity()\n",
        "    self._realizer_result = realizer(LegendreDelay(theta=theta, order=self.order))\n",
        "\n",
        "    self._ss = cont2discrete(self._realizer_result.realization, dt=1., method='zoh')\n",
        "\n",
        "    self._A = self._ss.A - np.eye(order)\n",
        "    self._B = self._ss.B\n",
        "    self._C = self._ss.C\n",
        "\n",
        "    self.AT = nn.Parameter(torch.Tensor(self._A), requires_grad=False)\n",
        "    self.BT = nn.Parameter(torch.Tensor(self._B), requires_grad=False)\n",
        "\n",
        "    if self.include_bias:\n",
        "      self.bias = nn.Parameter(torch.Tensor(1, self.units),requires_grad=True) #added by ali for the fix given in github issue\n",
        "\n",
        "    self.encoder_input = nn.Parameter(torch.Tensor(1,input_dim), requires_grad=True)\n",
        "    self.encoder_hidden = nn.Parameter(torch.Tensor(1,self.units), requires_grad=True)\n",
        "    self.encoder_memory = nn.Parameter(torch.Tensor(1,self.order ), requires_grad=True)\n",
        "    self.kernel_input = nn.Parameter(torch.Tensor(self.units, input_dim), requires_grad=True)\n",
        "    self.kernel_hidden = nn.Parameter(torch.Tensor(self.units, self.units), requires_grad=True)\n",
        "    self.kernel_memory = nn.Parameter(torch.Tensor(self.units, self.order), requires_grad=True)\n",
        "    \n",
        "    if self.include_bias:\n",
        "      torch.nn.init.constant_(self.bias, 0)\n",
        "\n",
        "    input_encoders_initializer(self.encoder_input)\n",
        "    hidden_encoders_initializer(self.encoder_hidden)\n",
        "    memory_encoders_initializer(self.encoder_memory)\n",
        "    input_kernel_initializer(self.kernel_input)\n",
        "    hidden_kernel_initializer(self.kernel_hidden)\n",
        "    memory_kernel_initializer(self.kernel_memory)\n",
        "\n",
        "  def EulerOdeSolver(self):\n",
        "    A_hat = (self.step_delta_t/self.theta)*self.AT + torch.eye(self.order,self.d_order_ode)\n",
        "    B_hat = (self.step_delta_t/self.theta)*self.BT\n",
        "\n",
        "    return A_hat, B_hat\n",
        "\n",
        "  def forward(self, xt, states):\n",
        "    ht, mt = states\n",
        "\n",
        "    ut = F.linear(xt, self.encoder_input)+F.linear(ht, self.encoder_hidden)+  F.linear(mt, self.encoder_memory)\n",
        "\n",
        "\n",
        "    mt = mt + F.linear(mt, self.AT) + F.linear(ut, self.BT)\n",
        "\n",
        "    ht = nn.Tanh()(F.linear(xt, self.kernel_input) + F.linear(ht, self.kernel_hidden) + F.linear(mt, self.kernel_memory)+(self.bias if self.include_bias else 0))\n",
        "    \n",
        "    return ht, (ht, mt)\n",
        "\n",
        "class LegendreMemoryUnit(nn.Module):\n",
        "  def __init__(self, input_dim, units , order, theta):\n",
        "    super(LegendreMemoryUnit, self).__init__()\n",
        "\n",
        "    self.units = units\n",
        "    self.order = order\n",
        "\n",
        "    self.lmucell = LegendreMemoryUnitCell(input_dim, units , order, theta,include_bias=False)\n",
        "\n",
        "  def forward(self, xt):\n",
        "    outputs = []\n",
        "    \n",
        "    h0 = torch.zeros(xt.size(0),self.units).cuda()\n",
        "    m0 = torch.zeros(xt.size(0),self.order).cuda()\n",
        "    states = (h0,m0)\n",
        "    for i in range(xt.size(1)):\n",
        "      out, states = self.lmucell(xt[:,i,:], states)\n",
        "      outputs += [out]\n",
        "    return torch.stack(outputs).permute(1,0,2), states\n",
        "    # return torch.stack(outputs).permute(1,0,2), states\n"
      ],
      "execution_count": 34,
      "outputs": []
    },
    {
      "cell_type": "markdown",
      "metadata": {
        "id": "tRC62TebNYWJ"
      },
      "source": [
        "# Test LMU output"
      ]
    },
    {
      "cell_type": "code",
      "metadata": {
        "id": "JfTlZrsfbSXH",
        "colab": {
          "base_uri": "https://localhost:8080/"
        },
        "outputId": "2ef3b565-e1cd-4831-c6aa-bd16c9890919"
      },
      "source": [
        "x = torch.rand(64,5000,1).to(torch.device(\"cuda:0\"))\n",
        "h0 = torch.rand(64,49).to(torch.device(\"cuda:0\"))\n",
        "m0 = torch.rand(64,4).to(torch.device(\"cuda:0\"))\n",
        "model = LegendreMemoryUnit(1,49,4,4).to(torch.device(\"cuda:0\"))\n",
        "res, _ = model(x)\n",
        "print(res.shape)"
      ],
      "execution_count": 18,
      "outputs": [
        {
          "output_type": "stream",
          "text": [
            "torch.Size([64, 5000, 49])\n"
          ],
          "name": "stdout"
        }
      ]
    },
    {
      "cell_type": "markdown",
      "metadata": {
        "id": "mRuoDB59NvMX"
      },
      "source": [
        "# Models LSTM - LMU"
      ]
    },
    {
      "cell_type": "code",
      "metadata": {
        "id": "51nVz6TsX9Fc",
        "colab": {
          "base_uri": "https://localhost:8080/"
        },
        "outputId": "17942982-91ef-4f53-bae1-b871fd496584"
      },
      "source": [
        "class LMUModel(nn.Module):\n",
        "  def __init__(self):\n",
        "    super(LMUModel, self).__init__()\n",
        "    self.LMU = LegendreMemoryUnit(1,49,4,4)\n",
        "    self.dense = nn.Linear(49,1)\n",
        "\n",
        "  def forward(self,x):\n",
        "    x, _ = self.LMU(x)\n",
        "    x = self.dense(x)\n",
        "\n",
        "    return x\n",
        "\n",
        "model_lstm = LMUModel()\n",
        "\n",
        "print(\"number of parameters : \", sum(p.numel() for p in model_lstm.parameters() if p.requires_grad))\n",
        "print()\n"
      ],
      "execution_count": 35,
      "outputs": [
        {
          "output_type": "stream",
          "text": [
            "number of parameters :  2750\n",
            "\n"
          ],
          "name": "stdout"
        }
      ]
    },
    {
      "cell_type": "code",
      "metadata": {
        "id": "DrNF6LetOGun",
        "colab": {
          "base_uri": "https://localhost:8080/"
        },
        "outputId": "61dee1f6-9845-4943-f6e8-3b93598342a6"
      },
      "source": [
        "class LSTMModel(nn.Module):\n",
        "  def __init__(self):\n",
        "    super(LSTMModel, self).__init__()\n",
        "    self.LSTM = nn.LSTM(1,25,1,batch_first=True)\n",
        "    self.dense = nn.Linear(25,1)\n",
        "\n",
        "  def forward(self,x):\n",
        "    x, _ = self.LSTM(x)\n",
        "    x = self.dense(x)\n",
        "\n",
        "    return x\n",
        "    \n",
        "model_lstm = LSTMModel()\n",
        "\n",
        "print(\"number of parameters : \", sum(p.numel() for p in model_lstm.parameters() if p.requires_grad))\n",
        "print()\n"
      ],
      "execution_count": 25,
      "outputs": [
        {
          "output_type": "stream",
          "text": [
            "Nombre de paramètres :  2826\n",
            "\n"
          ],
          "name": "stdout"
        }
      ]
    },
    {
      "cell_type": "markdown",
      "metadata": {
        "id": "soOI6lS9Ocas"
      },
      "source": [
        "# MackeyGlass Datas"
      ]
    },
    {
      "cell_type": "markdown",
      "metadata": {
        "id": "rOkZjfzqvhBD"
      },
      "source": [
        "Took from official LMU (tensorflow) repo"
      ]
    },
    {
      "cell_type": "code",
      "metadata": {
        "id": "voyo-rQYD-56",
        "colab": {
          "base_uri": "https://localhost:8080/",
          "height": 282
        },
        "outputId": "599f571c-8d77-48af-ccb4-3288d4761e65"
      },
      "source": [
        "import collections \n",
        "import matplotlib.pyplot as plt\n",
        "\n",
        "import numpy as np\n",
        "\n",
        "import matplotlib.pyplot as plt\n",
        "import seaborn as sns\n",
        "\n",
        "from keras.layers.core import Dense, Activation, Dropout\n",
        "from keras.layers.recurrent import LSTM, RNN\n",
        "from keras.initializers import RandomUniform\n",
        "from keras.models import Sequential\n",
        "from sklearn.metrics import mean_squared_error\n",
        "from torchsummary import summary\n",
        "\n",
        "def mackey_glass(sample_len=1000, tau=17, delta_t=10, seed=None, n_samples=1):\n",
        "    # Adapted from https://github.com/mila-iqia/summerschool2015/blob/master/rnn_tutorial/synthetic.py\n",
        "    '''\n",
        "    mackey_glass(sample_len=1000, tau=17, seed = None, n_samples = 1) -> input\n",
        "    Generate the Mackey Glass time-series. Parameters are:\n",
        "        - sample_len: length of the time-series in timesteps. Default is 1000.\n",
        "        - tau: delay of the MG - system. Commonly used values are tau=17 (mild \n",
        "          chaos) and tau=30 (moderate chaos). Default is 17.\n",
        "        - seed: to seed the random generator, can be used to generate the same\n",
        "          timeseries at each invocation.\n",
        "        - n_samples : number of samples to generate\n",
        "    '''\n",
        "    history_len = tau * delta_t \n",
        "    # Initial conditions for the history of the system\n",
        "    timeseries = 1.2\n",
        "    \n",
        "    if seed is not None:\n",
        "        np.random.seed(seed)\n",
        "\n",
        "    samples = []\n",
        "\n",
        "    for _ in range(n_samples):\n",
        "        history = collections.deque(1.2 * np.ones(history_len) + 0.2 * \\\n",
        "                                    (np.random.rand(history_len) - 0.5))\n",
        "        # Preallocate the array for the time-series\n",
        "        inp = np.zeros((sample_len,1))\n",
        "        \n",
        "        for timestep in range(sample_len):\n",
        "            for _ in range(delta_t):\n",
        "                xtau = history.popleft()\n",
        "                history.append(timeseries)\n",
        "                timeseries = history[-1] + (0.2 * xtau / (1.0 + xtau ** 10) - \\\n",
        "                             0.1 * history[-1]) / delta_t\n",
        "            inp[timestep] = timeseries\n",
        "        \n",
        "        # Squash timeseries through tanh\n",
        "        inp = np.tanh(inp - 1)\n",
        "        samples.append(inp)\n",
        "    return samples\n",
        "\n",
        "def generate_data(n_batches, length, split=0.5, seed=0,\n",
        "                  predict_length=15, tau=17, washout=100, delta_t=1,\n",
        "                  center=True):\n",
        "    X = np.asarray(mackey_glass(\n",
        "        sample_len=length+predict_length+washout, tau=tau,\n",
        "        seed=seed, n_samples=n_batches))\n",
        "    X = X[:, washout:, :]\n",
        "    cutoff = int(split*n_batches)\n",
        "    if center:\n",
        "        X -= np.mean(X)  # global mean over all batches, approx -0.066\n",
        "    Y = X[:, predict_length:, :]\n",
        "    X = X[:, :-predict_length, :]\n",
        "    assert X.shape == Y.shape\n",
        "    return ((X[:cutoff], Y[:cutoff]),\n",
        "            (X[cutoff:], Y[cutoff:]))\n",
        "\n",
        "(train_X, train_Y), (test_X, test_Y) = generate_data(128, 5000)\n",
        "print(train_X.shape, test_X.shape)\n",
        "\n",
        "def cool_plot(X, Y, title=\"\"):\n",
        "    plt.figure(figsize=(14, 8))\n",
        "    plt.title(title)\n",
        "    plt.scatter(X[:, 0], Y[:, 0] - X[:, 0], s=8, alpha=0.7,\n",
        "                c=np.arange(X.shape[0]), cmap=sns.cubehelix_palette(as_cmap=True))\n",
        "    plt.plot(X[:, 0], Y[:, 0] - X[:, 0], c='black', alpha=0.2)\n",
        "    plt.xlabel(\"$x(t)$\")\n",
        "    plt.ylabel(\"$y(t) - x(t)$\")\n",
        "    sns.despine(offset=15)\n",
        "    \n",
        "    plt.show()\n",
        "\n",
        "# cool_plot(train_X[0], train_Y[0])\n",
        "\n",
        "plt.plot(train_X[0][0:100])\n",
        "plt.plot(train_Y[0][0:100])\n",
        "plt.show()\n",
        "\n"
      ],
      "execution_count": 20,
      "outputs": [
        {
          "output_type": "stream",
          "text": [
            "(64, 5000, 1) (64, 5000, 1)\n"
          ],
          "name": "stdout"
        },
        {
          "output_type": "display_data",
          "data": {
            "image/png": "[encoded data removed]",
            "text/plain": [
              "<Figure size 432x288 with 1 Axes>"
            ]
          },
          "metadata": {
            "tags": [],
            "needs_background": "light"
          }
        }
      ]
    },
    {
      "cell_type": "markdown",
      "metadata": {
        "id": "3xncoH8HPLsg"
      },
      "source": [
        "# Utils"
      ]
    },
    {
      "cell_type": "code",
      "metadata": {
        "id": "yaCT4Pi_PakY"
      },
      "source": [
        "def train(model, epochs, dataset, dataset_valid = None):\n",
        "  for e in range(epochs):\n",
        "      model.train()\n",
        "      running_loss = 0\n",
        "      with tqdm(total=len(dataset)) as bar:\n",
        "        for i, (X, y) in enumerate(dataset):\n",
        "            optimizer.zero_grad()\n",
        "            \n",
        "            output = model(X.cuda())\n",
        "\n",
        "            loss_ll = criterion(output, y.cuda())\n",
        "            \n",
        "            loss_ll.backward()\n",
        "            \n",
        "            optimizer.step()\n",
        "            \n",
        "            running_loss += loss_ll.item()\n",
        "\n",
        "            bar.update(1)\n",
        "            bar.set_description(\"Epoch {} - Training loss: {}\".format(e, running_loss/len(dataset)))\n",
        "\n",
        "      model.eval()\n",
        "      running_loss = 0\n",
        "      outs = []\n",
        "      with tqdm(total=len(dataset_valid)) as bar:\n",
        "        for i, (X, y) in enumerate(dataset_valid):\n",
        "            optimizer.zero_grad()\n",
        "            \n",
        "            output = model(X.cuda())\n",
        "\n",
        "            loss_ll = criterion(output, y.cuda())\n",
        "                \n",
        "            running_loss += loss_ll.item()\n",
        "            \n",
        "            outs.append(output)\n",
        "            bar.update(1)\n",
        "            bar.set_description(\"Epoch {} - Validation loss: {}\".format(e, running_loss/len(dataset_valid)))\n"
      ],
      "execution_count": 32,
      "outputs": []
    },
    {
      "cell_type": "markdown",
      "metadata": {
        "id": "FEwfu8TUPTnI"
      },
      "source": [
        "# Test LMU vs LSTM on MackeyGlass"
      ]
    },
    {
      "cell_type": "markdown",
      "metadata": {
        "id": "rUlSXcORWqtn"
      },
      "source": [
        ""
      ]
    },
    {
      "cell_type": "code",
      "metadata": {
        "id": "2GIa1QmHpIr1",
        "colab": {
          "base_uri": "https://localhost:8080/",
          "height": 1000
        },
        "outputId": "bf048651-bb30-49e3-e0c7-c2326e20d625"
      },
      "source": [
        "from tqdm import tqdm\n",
        "import torch.utils.data as data\n",
        "\n",
        "\n",
        "\n",
        "model = LMUModel().cuda()\n",
        "print(\"\\n\\number of paramaters : \", sum(p.numel() for p in model.parameters() if p.requires_grad))\n",
        "print(\"\\n\\n\")\n",
        "criterion = nn.MSELoss()\n",
        "optimizer = torch.optim.Adam(model.parameters(), lr=0.001)\n",
        "model.train()\n",
        "\n",
        "dataset = torch.utils.data.TensorDataset(torch.Tensor(train_X).cuda(), torch.Tensor(train_Y).cuda())\n",
        "dataset = data.DataLoader(dataset, batch_size=32, shuffle=True)\n",
        "\n",
        "dataset_valid = torch.utils.data.TensorDataset(torch.Tensor(test_X).cuda(), torch.Tensor(test_Y).cuda())\n",
        "dataset_valid = data.DataLoader(dataset_valid, batch_size=16, shuffle=False)\n",
        "\n",
        "train(model, 100, dataset, dataset_valid)"
      ],
      "execution_count": 36,
      "outputs": [
        {
          "output_type": "stream",
          "text": [
            "\r  0%|          | 0/2 [00:00<?, ?it/s]"
          ],
          "name": "stderr"
        },
        {
          "output_type": "stream",
          "text": [
            "\n",
            "\n",
            "umber of paramaters :  2750\n",
            "\n",
            "\n",
            "\n"
          ],
          "name": "stdout"
        },
        {
          "output_type": "stream",
          "text": [
            "Epoch 0 - Training loss: 0.02681532595306635: 100%|██████████| 2/2 [00:06<00:00,  3.31s/it]\n",
            "Epoch 0 - Validation loss: 0.02019599825143814: 100%|██████████| 4/4 [00:06<00:00,  1.60s/it]\n",
            "Epoch 1 - Training loss: 0.016166726127266884: 100%|██████████| 2/2 [00:06<00:00,  3.41s/it]\n",
            "Epoch 1 - Validation loss: 0.013396643800660968: 100%|██████████| 4/4 [00:05<00:00,  1.45s/it]\n",
            "Epoch 2 - Training loss: 0.014060364104807377: 100%|██████████| 2/2 [00:06<00:00,  3.10s/it]\n",
            "Epoch 2 - Validation loss: 0.013997412519529462: 100%|██████████| 4/4 [00:05<00:00,  1.46s/it]\n",
            "Epoch 3 - Training loss: 0.014048587530851364: 100%|██████████| 2/2 [00:06<00:00,  3.08s/it]\n",
            "Epoch 3 - Validation loss: 0.012322089169174433: 100%|██████████| 4/4 [00:05<00:00,  1.44s/it]\n",
            "Epoch 4 - Training loss: 0.011702086310833693: 100%|██████████| 2/2 [00:06<00:00,  3.30s/it]\n",
            "Epoch 4 - Validation loss: 0.010986370034515858: 100%|██████████| 4/4 [00:05<00:00,  1.49s/it]\n",
            "Epoch 5 - Training loss: 0.011442912742495537: 100%|██████████| 2/2 [00:06<00:00,  3.13s/it]\n",
            "Epoch 5 - Validation loss: 0.012264651246368885: 100%|██████████| 4/4 [00:05<00:00,  1.38s/it]\n",
            "Epoch 6 - Training loss: 0.012387938797473907: 100%|██████████| 2/2 [00:06<00:00,  3.01s/it]\n",
            "Epoch 6 - Validation loss: 0.012019595829769969: 100%|██████████| 4/4 [00:05<00:00,  1.48s/it]\n",
            "Epoch 7 - Training loss: 0.011847738176584244: 100%|██████████| 2/2 [00:06<00:00,  3.35s/it]\n",
            "Epoch 7 - Validation loss: 0.011045035207644105: 100%|██████████| 4/4 [00:06<00:00,  1.52s/it]\n",
            "Epoch 8 - Training loss: 0.010908204596489668: 100%|██████████| 2/2 [00:06<00:00,  3.05s/it]\n",
            "Epoch 8 - Validation loss: 0.0104171650018543: 100%|██████████| 4/4 [00:05<00:00,  1.42s/it]\n",
            "Epoch 9 - Training loss: 0.01050781924277544: 100%|██████████| 2/2 [00:05<00:00,  2.94s/it]\n",
            "Epoch 9 - Validation loss: 0.01073764730244875: 100%|██████████| 4/4 [00:05<00:00,  1.41s/it]\n",
            "Epoch 10 - Training loss: 0.010888010263442993: 100%|██████████| 2/2 [00:06<00:00,  3.42s/it]\n",
            "Epoch 10 - Validation loss: 0.010597369633615017: 100%|██████████| 4/4 [00:06<00:00,  1.58s/it]\n",
            "Epoch 11 - Training loss: 0.010483200196176767: 100%|██████████| 2/2 [00:06<00:00,  3.32s/it]\n",
            "Epoch 11 - Validation loss: 0.010045117000117898: 100%|██████████| 4/4 [00:06<00:00,  1.54s/it]\n",
            "Epoch 12 - Training loss: 0.010014961939305067: 100%|██████████| 2/2 [00:06<00:00,  3.47s/it]\n",
            "Epoch 12 - Validation loss: 0.009768001502379775: 100%|██████████| 4/4 [00:05<00:00,  1.41s/it]\n",
            "Epoch 13 - Training loss: 0.009835539385676384: 100%|██████████| 2/2 [00:06<00:00,  3.01s/it]\n",
            "Epoch 13 - Validation loss: 0.009910323191434145: 100%|██████████| 4/4 [00:05<00:00,  1.40s/it]\n",
            "Epoch 14 - Training loss: 0.009939293842762709: 100%|██████████| 2/2 [00:06<00:00,  3.11s/it]\n",
            "Epoch 14 - Validation loss: 0.009722109651193023: 100%|██████████| 4/4 [00:05<00:00,  1.49s/it]\n",
            "Epoch 15 - Training loss: 0.00973399356007576: 100%|██████████| 2/2 [00:06<00:00,  3.24s/it]\n",
            "Epoch 15 - Validation loss: 0.009484028676524758: 100%|██████████| 4/4 [00:05<00:00,  1.41s/it]\n",
            "Epoch 16 - Training loss: 0.009475435130298138: 100%|██████████| 2/2 [00:05<00:00,  2.93s/it]\n",
            "Epoch 16 - Validation loss: 0.00946911727078259: 100%|██████████| 4/4 [00:05<00:00,  1.48s/it]\n",
            "Epoch 17 - Training loss: 0.009486970491707325: 100%|██████████| 2/2 [00:06<00:00,  3.15s/it]\n",
            "Epoch 17 - Validation loss: 0.009502771776169538: 100%|██████████| 4/4 [00:05<00:00,  1.43s/it]\n",
            "Epoch 18 - Training loss: 0.009437044616788626: 100%|██████████| 2/2 [00:05<00:00,  2.99s/it]\n",
            "Epoch 18 - Validation loss: 0.009257004829123616: 100%|██████████| 4/4 [00:05<00:00,  1.43s/it]\n",
            "Epoch 19 - Training loss: 0.009229469113051891: 100%|██████████| 2/2 [00:05<00:00,  2.91s/it]\n",
            "Epoch 19 - Validation loss: 0.00910249468870461: 100%|██████████| 4/4 [00:05<00:00,  1.42s/it]\n",
            "Epoch 20 - Training loss: 0.009119682013988495: 100%|██████████| 2/2 [00:05<00:00,  2.95s/it]\n",
            "Epoch 20 - Validation loss: 0.00904626538977027: 100%|██████████| 4/4 [00:05<00:00,  1.43s/it]\n",
            "Epoch 21 - Training loss: 0.00908562308177352: 100%|██████████| 2/2 [00:05<00:00,  2.98s/it]\n",
            "Epoch 21 - Validation loss: 0.008936939062550664: 100%|██████████| 4/4 [00:06<00:00,  1.50s/it]\n",
            "Epoch 22 - Training loss: 0.008948783855885267: 100%|██████████| 2/2 [00:05<00:00,  2.95s/it]\n",
            "Epoch 22 - Validation loss: 0.008805806282907724: 100%|██████████| 4/4 [00:05<00:00,  1.43s/it]\n",
            "Epoch 23 - Training loss: 0.008808677550405264: 100%|██████████| 2/2 [00:05<00:00,  2.98s/it]\n",
            "Epoch 23 - Validation loss: 0.008733732858672738: 100%|██████████| 4/4 [00:05<00:00,  1.46s/it]\n",
            "Epoch 24 - Training loss: 0.008745037950575352: 100%|██████████| 2/2 [00:06<00:00,  3.17s/it]\n",
            "Epoch 24 - Validation loss: 0.008628541603684425: 100%|██████████| 4/4 [00:06<00:00,  1.58s/it]\n",
            "Epoch 25 - Training loss: 0.00860398355871439: 100%|██████████| 2/2 [00:06<00:00,  3.17s/it]\n",
            "Epoch 25 - Validation loss: 0.00846369843930006: 100%|██████████| 4/4 [00:06<00:00,  1.68s/it]\n",
            "Epoch 26 - Training loss: 0.008474072441458702: 100%|██████████| 2/2 [00:06<00:00,  3.05s/it]\n",
            "Epoch 26 - Validation loss: 0.008387794950976968: 100%|██████████| 4/4 [00:05<00:00,  1.42s/it]\n",
            "Epoch 27 - Training loss: 0.008396512363106012: 100%|██████████| 2/2 [00:05<00:00,  2.93s/it]\n",
            "Epoch 27 - Validation loss: 0.008280032547190785: 100%|██████████| 4/4 [00:05<00:00,  1.47s/it]\n",
            "Epoch 28 - Training loss: 0.008287237957119942: 100%|██████████| 2/2 [00:06<00:00,  3.18s/it]\n",
            "Epoch 28 - Validation loss: 0.008173257810994983: 100%|██████████| 4/4 [00:05<00:00,  1.45s/it]\n",
            "Epoch 29 - Training loss: 0.008183017373085022: 100%|██████████| 2/2 [00:06<00:00,  3.16s/it]\n",
            "Epoch 29 - Validation loss: 0.008091937052085996: 100%|██████████| 4/4 [00:05<00:00,  1.36s/it]\n",
            "Epoch 30 - Training loss: 0.008083484135568142: 100%|██████████| 2/2 [00:06<00:00,  3.08s/it]\n",
            "Epoch 30 - Validation loss: 0.007975410437211394: 100%|██████████| 4/4 [00:05<00:00,  1.48s/it]\n",
            "Epoch 31 - Training loss: 0.007985922507941723: 100%|██████████| 2/2 [00:06<00:00,  3.02s/it]\n",
            "Epoch 31 - Validation loss: 0.007900025695562363: 100%|██████████| 4/4 [00:06<00:00,  1.57s/it]\n",
            "Epoch 32 - Training loss: 0.007906022015959024: 100%|██████████| 2/2 [00:06<00:00,  3.50s/it]\n",
            "Epoch 32 - Validation loss: 0.007798365666531026: 100%|██████████| 4/4 [00:05<00:00,  1.45s/it]\n",
            "Epoch 33 - Training loss: 0.007807926274836063: 100%|██████████| 2/2 [00:06<00:00,  3.11s/it]\n",
            "Epoch 33 - Validation loss: 0.0077192934695631266: 100%|██████████| 4/4 [00:05<00:00,  1.45s/it]\n",
            "Epoch 34 - Training loss: 0.007736204424872994: 100%|██████████| 2/2 [00:06<00:00,  3.16s/it]\n",
            "Epoch 34 - Validation loss: 0.0076392225455492735: 100%|██████████| 4/4 [00:05<00:00,  1.44s/it]\n",
            "Epoch 35 - Training loss: 0.00764695811085403: 100%|██████████| 2/2 [00:06<00:00,  3.05s/it]\n",
            "Epoch 35 - Validation loss: 0.0075552467023953795: 100%|██████████| 4/4 [00:06<00:00,  1.66s/it]\n",
            "Epoch 36 - Training loss: 0.007564092054963112: 100%|██████████| 2/2 [00:06<00:00,  3.38s/it]\n",
            "Epoch 36 - Validation loss: 0.007474242825992405: 100%|██████████| 4/4 [00:06<00:00,  1.57s/it]\n",
            "Epoch 37 - Training loss: 0.007489360636100173: 100%|██████████| 2/2 [00:06<00:00,  3.11s/it]\n",
            "Epoch 37 - Validation loss: 0.007397285895422101: 100%|██████████| 4/4 [00:05<00:00,  1.47s/it]\n",
            "Epoch 38 - Training loss: 0.007410174701362848: 100%|██████████| 2/2 [00:06<00:00,  3.22s/it]\n",
            "Epoch 38 - Validation loss: 0.00731319619808346: 100%|██████████| 4/4 [00:06<00:00,  1.59s/it]\n",
            "Epoch 39 - Training loss: 0.007326047169044614: 100%|██████████| 2/2 [00:06<00:00,  3.25s/it]\n",
            "Epoch 39 - Validation loss: 0.007241896470077336: 100%|██████████| 4/4 [00:05<00:00,  1.45s/it]\n",
            "Epoch 40 - Training loss: 0.007249719696119428: 100%|██████████| 2/2 [00:05<00:00,  2.93s/it]\n",
            "Epoch 40 - Validation loss: 0.007153647602535784: 100%|██████████| 4/4 [00:05<00:00,  1.45s/it]\n",
            "Epoch 41 - Training loss: 0.007168328622356057: 100%|██████████| 2/2 [00:05<00:00,  2.99s/it]\n",
            "Epoch 41 - Validation loss: 0.007077758084051311: 100%|██████████| 4/4 [00:05<00:00,  1.45s/it]\n",
            "Epoch 42 - Training loss: 0.007092776242643595: 100%|██████████| 2/2 [00:06<00:00,  3.47s/it]\n",
            "Epoch 42 - Validation loss: 0.006996831973083317: 100%|██████████| 4/4 [00:06<00:00,  1.61s/it]\n",
            "Epoch 43 - Training loss: 0.007016948889940977: 100%|██████████| 2/2 [00:05<00:00,  2.98s/it]\n",
            "Epoch 43 - Validation loss: 0.006934825098142028: 100%|██████████| 4/4 [00:05<00:00,  1.46s/it]\n",
            "Epoch 44 - Training loss: 0.006940749241039157: 100%|██████████| 2/2 [00:06<00:00,  3.09s/it]\n",
            "Epoch 44 - Validation loss: 0.006889406940899789: 100%|██████████| 4/4 [00:06<00:00,  1.51s/it]\n",
            "Epoch 45 - Training loss: 0.006910002790391445: 100%|██████████| 2/2 [00:06<00:00,  3.32s/it]\n",
            "Epoch 45 - Validation loss: 0.006760286167263985: 100%|██████████| 4/4 [00:06<00:00,  1.57s/it]\n",
            "Epoch 46 - Training loss: 0.006792054511606693: 100%|██████████| 2/2 [00:06<00:00,  3.19s/it]\n",
            "Epoch 46 - Validation loss: 0.006734977243468165: 100%|██████████| 4/4 [00:05<00:00,  1.46s/it]\n",
            "Epoch 47 - Training loss: 0.006765234051272273: 100%|██████████| 2/2 [00:06<00:00,  3.07s/it]\n",
            "Epoch 47 - Validation loss: 0.006655449280515313: 100%|██████████| 4/4 [00:05<00:00,  1.49s/it]\n",
            "Epoch 48 - Training loss: 0.00664122449234128: 100%|██████████| 2/2 [00:06<00:00,  3.35s/it]\n",
            "Epoch 48 - Validation loss: 0.006594375940039754: 100%|██████████| 4/4 [00:06<00:00,  1.61s/it]\n",
            "Epoch 49 - Training loss: 0.00669764238409698: 100%|██████████| 2/2 [00:06<00:00,  3.21s/it]\n",
            "Epoch 49 - Validation loss: 0.006715696887113154: 100%|██████████| 4/4 [00:05<00:00,  1.46s/it]\n",
            "Epoch 50 - Training loss: 0.006677904631942511: 100%|██████████| 2/2 [00:05<00:00,  2.95s/it]\n",
            "Epoch 50 - Validation loss: 0.006367737543769181: 100%|██████████| 4/4 [00:05<00:00,  1.46s/it]\n",
            "Epoch 51 - Training loss: 0.006420243997126818: 100%|██████████| 2/2 [00:06<00:00,  3.05s/it]\n",
            "Epoch 51 - Validation loss: 0.00649591360706836: 100%|██████████| 4/4 [00:05<00:00,  1.47s/it]\n",
            "Epoch 52 - Training loss: 0.006528413621708751: 100%|██████████| 2/2 [00:07<00:00,  3.51s/it]\n",
            "Epoch 52 - Validation loss: 0.006332023884169757: 100%|██████████| 4/4 [00:06<00:00,  1.59s/it]\n",
            "Epoch 53 - Training loss: 0.006286960560828447: 100%|██████████| 2/2 [00:05<00:00,  2.94s/it]\n",
            "Epoch 53 - Validation loss: 0.006146034924313426: 100%|██████████| 4/4 [00:05<00:00,  1.41s/it]\n",
            "Epoch 54 - Training loss: 0.006238785805180669: 100%|██████████| 2/2 [00:06<00:00,  3.13s/it]\n",
            "Epoch 54 - Validation loss: 0.006439284537918866: 100%|██████████| 4/4 [00:05<00:00,  1.45s/it]\n",
            "Epoch 55 - Training loss: 0.006494248053058982: 100%|██████████| 2/2 [00:06<00:00,  3.04s/it]\n",
            "Epoch 55 - Validation loss: 0.006410193862393498: 100%|██████████| 4/4 [00:06<00:00,  1.61s/it]\n",
            "Epoch 56 - Training loss: 0.00631895731203258: 100%|██████████| 2/2 [00:06<00:00,  3.38s/it]\n",
            "Epoch 56 - Validation loss: 0.0059003999922424555: 100%|██████████| 4/4 [00:05<00:00,  1.47s/it]\n",
            "Epoch 57 - Training loss: 0.005935033550485969: 100%|██████████| 2/2 [00:06<00:00,  3.10s/it]\n",
            "Epoch 57 - Validation loss: 0.006076124147512019: 100%|██████████| 4/4 [00:06<00:00,  1.51s/it]\n",
            "Epoch 58 - Training loss: 0.006200371775776148: 100%|██████████| 2/2 [00:06<00:00,  3.23s/it]\n",
            "Epoch 58 - Validation loss: 0.006314323050901294: 100%|██████████| 4/4 [00:06<00:00,  1.51s/it]\n",
            "Epoch 59 - Training loss: 0.006315493723377585: 100%|██████████| 2/2 [00:06<00:00,  3.46s/it]\n",
            "Epoch 59 - Validation loss: 0.005918555427342653: 100%|██████████| 4/4 [00:05<00:00,  1.38s/it]\n",
            "Epoch 60 - Training loss: 0.005790394498035312: 100%|██████████| 2/2 [00:06<00:00,  3.07s/it]\n",
            "Epoch 60 - Validation loss: 0.0056936233304440975: 100%|██████████| 4/4 [00:05<00:00,  1.49s/it]\n",
            "Epoch 61 - Training loss: 0.005933771841228008: 100%|██████████| 2/2 [00:06<00:00,  3.02s/it]\n",
            "Epoch 61 - Validation loss: 0.006600418710149825: 100%|██████████| 4/4 [00:05<00:00,  1.50s/it]\n",
            "Epoch 62 - Training loss: 0.006573471240699291: 100%|██████████| 2/2 [00:06<00:00,  3.06s/it]\n",
            "Epoch 62 - Validation loss: 0.005739625776186585: 100%|██████████| 4/4 [00:06<00:00,  1.61s/it]\n",
            "Epoch 63 - Training loss: 0.005631167674437165: 100%|██████████| 2/2 [00:06<00:00,  3.34s/it]\n",
            "Epoch 63 - Validation loss: 0.005957258632406592: 100%|██████████| 4/4 [00:05<00:00,  1.42s/it]\n",
            "Epoch 64 - Training loss: 0.005960291251540184: 100%|██████████| 2/2 [00:06<00:00,  3.15s/it]\n",
            "Epoch 64 - Validation loss: 0.005379373207688332: 100%|██████████| 4/4 [00:05<00:00,  1.43s/it]\n",
            "Epoch 65 - Training loss: 0.005392070626839995: 100%|██████████| 2/2 [00:06<00:00,  3.22s/it]\n",
            "Epoch 65 - Validation loss: 0.0058648273115977645: 100%|██████████| 4/4 [00:05<00:00,  1.48s/it]\n",
            "Epoch 66 - Training loss: 0.006040862062945962: 100%|██████████| 2/2 [00:06<00:00,  3.14s/it]\n",
            "Epoch 66 - Validation loss: 0.005803039064630866: 100%|██████████| 4/4 [00:05<00:00,  1.43s/it]\n",
            "Epoch 67 - Training loss: 0.005517867160961032: 100%|██████████| 2/2 [00:06<00:00,  3.05s/it]\n",
            "Epoch 67 - Validation loss: 0.005008473992347717: 100%|██████████| 4/4 [00:05<00:00,  1.45s/it]\n",
            "Epoch 68 - Training loss: 0.00525042787194252: 100%|██████████| 2/2 [00:06<00:00,  3.08s/it]\n",
            "Epoch 68 - Validation loss: 0.005682391347363591: 100%|██████████| 4/4 [00:05<00:00,  1.43s/it]\n",
            "Epoch 69 - Training loss: 0.005609432002529502: 100%|██████████| 2/2 [00:06<00:00,  3.03s/it]\n",
            "Epoch 69 - Validation loss: 0.004818609566427767: 100%|██████████| 4/4 [00:06<00:00,  1.52s/it]\n",
            "Epoch 70 - Training loss: 0.004824547097086906: 100%|██████████| 2/2 [00:05<00:00,  2.83s/it]\n",
            "Epoch 70 - Validation loss: 0.005204638000577688: 100%|██████████| 4/4 [00:06<00:00,  1.57s/it]\n",
            "Epoch 71 - Training loss: 0.00527819711714983: 100%|██████████| 2/2 [00:06<00:00,  3.12s/it]\n",
            "Epoch 71 - Validation loss: 0.0025384777691215277:  50%|█████     | 2/4 [00:03<00:03,  1.61s/it]\n"
          ],
          "name": "stderr"
        },
        {
          "output_type": "error",
          "ename": "KeyboardInterrupt",
          "evalue": "ignored",
          "traceback": [
            "\u001b[0;31m---------------------------------------------------------------------------\u001b[0m",
            "\u001b[0;31mKeyboardInterrupt\u001b[0m                         Traceback (most recent call last)",
            "\u001b[0;32m<ipython-input-36-41632912c113>\u001b[0m in \u001b[0;36m<module>\u001b[0;34m()\u001b[0m\n\u001b[1;32m     17\u001b[0m \u001b[0mdataset_valid\u001b[0m \u001b[0;34m=\u001b[0m \u001b[0mdata\u001b[0m\u001b[0;34m.\u001b[0m\u001b[0mDataLoader\u001b[0m\u001b[0;34m(\u001b[0m\u001b[0mdataset_valid\u001b[0m\u001b[0;34m,\u001b[0m \u001b[0mbatch_size\u001b[0m\u001b[0;34m=\u001b[0m\u001b[0;36m16\u001b[0m\u001b[0;34m,\u001b[0m \u001b[0mshuffle\u001b[0m\u001b[0;34m=\u001b[0m\u001b[0;32mFalse\u001b[0m\u001b[0;34m)\u001b[0m\u001b[0;34m\u001b[0m\u001b[0;34m\u001b[0m\u001b[0m\n\u001b[1;32m     18\u001b[0m \u001b[0;34m\u001b[0m\u001b[0m\n\u001b[0;32m---> 19\u001b[0;31m \u001b[0mtrain\u001b[0m\u001b[0;34m(\u001b[0m\u001b[0mmodel\u001b[0m\u001b[0;34m,\u001b[0m \u001b[0;36m100\u001b[0m\u001b[0;34m,\u001b[0m \u001b[0mdataset\u001b[0m\u001b[0;34m,\u001b[0m \u001b[0mdataset_valid\u001b[0m\u001b[0;34m)\u001b[0m\u001b[0;34m\u001b[0m\u001b[0;34m\u001b[0m\u001b[0m\n\u001b[0m",
            "\u001b[0;32m<ipython-input-32-56a3ed0afd1c>\u001b[0m in \u001b[0;36mtrain\u001b[0;34m(model, epochs, dataset, dataset_valid)\u001b[0m\n\u001b[1;32m     27\u001b[0m             \u001b[0moptimizer\u001b[0m\u001b[0;34m.\u001b[0m\u001b[0mzero_grad\u001b[0m\u001b[0;34m(\u001b[0m\u001b[0;34m)\u001b[0m\u001b[0;34m\u001b[0m\u001b[0;34m\u001b[0m\u001b[0m\n\u001b[1;32m     28\u001b[0m \u001b[0;34m\u001b[0m\u001b[0m\n\u001b[0;32m---> 29\u001b[0;31m             \u001b[0moutput\u001b[0m \u001b[0;34m=\u001b[0m \u001b[0mmodel\u001b[0m\u001b[0;34m(\u001b[0m\u001b[0mX\u001b[0m\u001b[0;34m.\u001b[0m\u001b[0mcuda\u001b[0m\u001b[0;34m(\u001b[0m\u001b[0;34m)\u001b[0m\u001b[0;34m)\u001b[0m\u001b[0;34m\u001b[0m\u001b[0;34m\u001b[0m\u001b[0m\n\u001b[0m\u001b[1;32m     30\u001b[0m \u001b[0;34m\u001b[0m\u001b[0m\n\u001b[1;32m     31\u001b[0m             \u001b[0mloss_ll\u001b[0m \u001b[0;34m=\u001b[0m \u001b[0mcriterion\u001b[0m\u001b[0;34m(\u001b[0m\u001b[0moutput\u001b[0m\u001b[0;34m,\u001b[0m \u001b[0my\u001b[0m\u001b[0;34m.\u001b[0m\u001b[0mcuda\u001b[0m\u001b[0;34m(\u001b[0m\u001b[0;34m)\u001b[0m\u001b[0;34m)\u001b[0m\u001b[0;34m\u001b[0m\u001b[0;34m\u001b[0m\u001b[0m\n",
            "\u001b[0;32m/usr/local/lib/python3.7/dist-packages/torch/nn/modules/module.py\u001b[0m in \u001b[0;36m_call_impl\u001b[0;34m(self, *input, **kwargs)\u001b[0m\n\u001b[1;32m    887\u001b[0m             \u001b[0mresult\u001b[0m \u001b[0;34m=\u001b[0m \u001b[0mself\u001b[0m\u001b[0;34m.\u001b[0m\u001b[0m_slow_forward\u001b[0m\u001b[0;34m(\u001b[0m\u001b[0;34m*\u001b[0m\u001b[0minput\u001b[0m\u001b[0;34m,\u001b[0m \u001b[0;34m**\u001b[0m\u001b[0mkwargs\u001b[0m\u001b[0;34m)\u001b[0m\u001b[0;34m\u001b[0m\u001b[0;34m\u001b[0m\u001b[0m\n\u001b[1;32m    888\u001b[0m         \u001b[0;32melse\u001b[0m\u001b[0;34m:\u001b[0m\u001b[0;34m\u001b[0m\u001b[0;34m\u001b[0m\u001b[0m\n\u001b[0;32m--> 889\u001b[0;31m             \u001b[0mresult\u001b[0m \u001b[0;34m=\u001b[0m \u001b[0mself\u001b[0m\u001b[0;34m.\u001b[0m\u001b[0mforward\u001b[0m\u001b[0;34m(\u001b[0m\u001b[0;34m*\u001b[0m\u001b[0minput\u001b[0m\u001b[0;34m,\u001b[0m \u001b[0;34m**\u001b[0m\u001b[0mkwargs\u001b[0m\u001b[0;34m)\u001b[0m\u001b[0;34m\u001b[0m\u001b[0;34m\u001b[0m\u001b[0m\n\u001b[0m\u001b[1;32m    890\u001b[0m         for hook in itertools.chain(\n\u001b[1;32m    891\u001b[0m                 \u001b[0m_global_forward_hooks\u001b[0m\u001b[0;34m.\u001b[0m\u001b[0mvalues\u001b[0m\u001b[0;34m(\u001b[0m\u001b[0;34m)\u001b[0m\u001b[0;34m,\u001b[0m\u001b[0;34m\u001b[0m\u001b[0;34m\u001b[0m\u001b[0m\n",
            "\u001b[0;32m<ipython-input-35-ca8d2095a27a>\u001b[0m in \u001b[0;36mforward\u001b[0;34m(self, x)\u001b[0m\n\u001b[1;32m      6\u001b[0m \u001b[0;34m\u001b[0m\u001b[0m\n\u001b[1;32m      7\u001b[0m   \u001b[0;32mdef\u001b[0m \u001b[0mforward\u001b[0m\u001b[0;34m(\u001b[0m\u001b[0mself\u001b[0m\u001b[0;34m,\u001b[0m\u001b[0mx\u001b[0m\u001b[0;34m)\u001b[0m\u001b[0;34m:\u001b[0m\u001b[0;34m\u001b[0m\u001b[0;34m\u001b[0m\u001b[0m\n\u001b[0;32m----> 8\u001b[0;31m     \u001b[0mx\u001b[0m\u001b[0;34m,\u001b[0m \u001b[0m_\u001b[0m \u001b[0;34m=\u001b[0m \u001b[0mself\u001b[0m\u001b[0;34m.\u001b[0m\u001b[0mLMU\u001b[0m\u001b[0;34m(\u001b[0m\u001b[0mx\u001b[0m\u001b[0;34m)\u001b[0m\u001b[0;34m\u001b[0m\u001b[0;34m\u001b[0m\u001b[0m\n\u001b[0m\u001b[1;32m      9\u001b[0m     \u001b[0mx\u001b[0m \u001b[0;34m=\u001b[0m \u001b[0mself\u001b[0m\u001b[0;34m.\u001b[0m\u001b[0mdense\u001b[0m\u001b[0;34m(\u001b[0m\u001b[0mx\u001b[0m\u001b[0;34m)\u001b[0m\u001b[0;34m\u001b[0m\u001b[0;34m\u001b[0m\u001b[0m\n\u001b[1;32m     10\u001b[0m \u001b[0;34m\u001b[0m\u001b[0m\n",
            "\u001b[0;32m/usr/local/lib/python3.7/dist-packages/torch/nn/modules/module.py\u001b[0m in \u001b[0;36m_call_impl\u001b[0;34m(self, *input, **kwargs)\u001b[0m\n\u001b[1;32m    887\u001b[0m             \u001b[0mresult\u001b[0m \u001b[0;34m=\u001b[0m \u001b[0mself\u001b[0m\u001b[0;34m.\u001b[0m\u001b[0m_slow_forward\u001b[0m\u001b[0;34m(\u001b[0m\u001b[0;34m*\u001b[0m\u001b[0minput\u001b[0m\u001b[0;34m,\u001b[0m \u001b[0;34m**\u001b[0m\u001b[0mkwargs\u001b[0m\u001b[0;34m)\u001b[0m\u001b[0;34m\u001b[0m\u001b[0;34m\u001b[0m\u001b[0m\n\u001b[1;32m    888\u001b[0m         \u001b[0;32melse\u001b[0m\u001b[0;34m:\u001b[0m\u001b[0;34m\u001b[0m\u001b[0;34m\u001b[0m\u001b[0m\n\u001b[0;32m--> 889\u001b[0;31m             \u001b[0mresult\u001b[0m \u001b[0;34m=\u001b[0m \u001b[0mself\u001b[0m\u001b[0;34m.\u001b[0m\u001b[0mforward\u001b[0m\u001b[0;34m(\u001b[0m\u001b[0;34m*\u001b[0m\u001b[0minput\u001b[0m\u001b[0;34m,\u001b[0m \u001b[0;34m**\u001b[0m\u001b[0mkwargs\u001b[0m\u001b[0;34m)\u001b[0m\u001b[0;34m\u001b[0m\u001b[0;34m\u001b[0m\u001b[0m\n\u001b[0m\u001b[1;32m    890\u001b[0m         for hook in itertools.chain(\n\u001b[1;32m    891\u001b[0m                 \u001b[0m_global_forward_hooks\u001b[0m\u001b[0;34m.\u001b[0m\u001b[0mvalues\u001b[0m\u001b[0;34m(\u001b[0m\u001b[0;34m)\u001b[0m\u001b[0;34m,\u001b[0m\u001b[0;34m\u001b[0m\u001b[0;34m\u001b[0m\u001b[0m\n",
            "\u001b[0;32m<ipython-input-34-f4125ed53047>\u001b[0m in \u001b[0;36mforward\u001b[0;34m(self, xt)\u001b[0m\n\u001b[1;32m     98\u001b[0m     \u001b[0mstates\u001b[0m \u001b[0;34m=\u001b[0m \u001b[0;34m(\u001b[0m\u001b[0mh0\u001b[0m\u001b[0;34m,\u001b[0m\u001b[0mm0\u001b[0m\u001b[0;34m)\u001b[0m\u001b[0;34m\u001b[0m\u001b[0;34m\u001b[0m\u001b[0m\n\u001b[1;32m     99\u001b[0m     \u001b[0;32mfor\u001b[0m \u001b[0mi\u001b[0m \u001b[0;32min\u001b[0m \u001b[0mrange\u001b[0m\u001b[0;34m(\u001b[0m\u001b[0mxt\u001b[0m\u001b[0;34m.\u001b[0m\u001b[0msize\u001b[0m\u001b[0;34m(\u001b[0m\u001b[0;36m1\u001b[0m\u001b[0;34m)\u001b[0m\u001b[0;34m)\u001b[0m\u001b[0;34m:\u001b[0m\u001b[0;34m\u001b[0m\u001b[0;34m\u001b[0m\u001b[0m\n\u001b[0;32m--> 100\u001b[0;31m       \u001b[0mout\u001b[0m\u001b[0;34m,\u001b[0m \u001b[0mstates\u001b[0m \u001b[0;34m=\u001b[0m \u001b[0mself\u001b[0m\u001b[0;34m.\u001b[0m\u001b[0mlmucell\u001b[0m\u001b[0;34m(\u001b[0m\u001b[0mxt\u001b[0m\u001b[0;34m[\u001b[0m\u001b[0;34m:\u001b[0m\u001b[0;34m,\u001b[0m\u001b[0mi\u001b[0m\u001b[0;34m,\u001b[0m\u001b[0;34m:\u001b[0m\u001b[0;34m]\u001b[0m\u001b[0;34m,\u001b[0m \u001b[0mstates\u001b[0m\u001b[0;34m)\u001b[0m\u001b[0;34m\u001b[0m\u001b[0;34m\u001b[0m\u001b[0m\n\u001b[0m\u001b[1;32m    101\u001b[0m       \u001b[0moutputs\u001b[0m \u001b[0;34m+=\u001b[0m \u001b[0;34m[\u001b[0m\u001b[0mout\u001b[0m\u001b[0;34m]\u001b[0m\u001b[0;34m\u001b[0m\u001b[0;34m\u001b[0m\u001b[0m\n\u001b[1;32m    102\u001b[0m     \u001b[0;32mreturn\u001b[0m \u001b[0mtorch\u001b[0m\u001b[0;34m.\u001b[0m\u001b[0mstack\u001b[0m\u001b[0;34m(\u001b[0m\u001b[0moutputs\u001b[0m\u001b[0;34m)\u001b[0m\u001b[0;34m.\u001b[0m\u001b[0mpermute\u001b[0m\u001b[0;34m(\u001b[0m\u001b[0;36m1\u001b[0m\u001b[0;34m,\u001b[0m\u001b[0;36m0\u001b[0m\u001b[0;34m,\u001b[0m\u001b[0;36m2\u001b[0m\u001b[0;34m)\u001b[0m\u001b[0;34m,\u001b[0m \u001b[0mstates\u001b[0m\u001b[0;34m\u001b[0m\u001b[0;34m\u001b[0m\u001b[0m\n",
            "\u001b[0;32m/usr/local/lib/python3.7/dist-packages/torch/nn/modules/module.py\u001b[0m in \u001b[0;36m_call_impl\u001b[0;34m(self, *input, **kwargs)\u001b[0m\n\u001b[1;32m    887\u001b[0m             \u001b[0mresult\u001b[0m \u001b[0;34m=\u001b[0m \u001b[0mself\u001b[0m\u001b[0;34m.\u001b[0m\u001b[0m_slow_forward\u001b[0m\u001b[0;34m(\u001b[0m\u001b[0;34m*\u001b[0m\u001b[0minput\u001b[0m\u001b[0;34m,\u001b[0m \u001b[0;34m**\u001b[0m\u001b[0mkwargs\u001b[0m\u001b[0;34m)\u001b[0m\u001b[0;34m\u001b[0m\u001b[0;34m\u001b[0m\u001b[0m\n\u001b[1;32m    888\u001b[0m         \u001b[0;32melse\u001b[0m\u001b[0;34m:\u001b[0m\u001b[0;34m\u001b[0m\u001b[0;34m\u001b[0m\u001b[0m\n\u001b[0;32m--> 889\u001b[0;31m             \u001b[0mresult\u001b[0m \u001b[0;34m=\u001b[0m \u001b[0mself\u001b[0m\u001b[0;34m.\u001b[0m\u001b[0mforward\u001b[0m\u001b[0;34m(\u001b[0m\u001b[0;34m*\u001b[0m\u001b[0minput\u001b[0m\u001b[0;34m,\u001b[0m \u001b[0;34m**\u001b[0m\u001b[0mkwargs\u001b[0m\u001b[0;34m)\u001b[0m\u001b[0;34m\u001b[0m\u001b[0;34m\u001b[0m\u001b[0m\n\u001b[0m\u001b[1;32m    890\u001b[0m         for hook in itertools.chain(\n\u001b[1;32m    891\u001b[0m                 \u001b[0m_global_forward_hooks\u001b[0m\u001b[0;34m.\u001b[0m\u001b[0mvalues\u001b[0m\u001b[0;34m(\u001b[0m\u001b[0;34m)\u001b[0m\u001b[0;34m,\u001b[0m\u001b[0;34m\u001b[0m\u001b[0;34m\u001b[0m\u001b[0m\n",
            "\u001b[0;32m<ipython-input-34-f4125ed53047>\u001b[0m in \u001b[0;36mforward\u001b[0;34m(self, xt, states)\u001b[0m\n\u001b[1;32m     73\u001b[0m     \u001b[0mht\u001b[0m\u001b[0;34m,\u001b[0m \u001b[0mmt\u001b[0m \u001b[0;34m=\u001b[0m \u001b[0mstates\u001b[0m\u001b[0;34m\u001b[0m\u001b[0;34m\u001b[0m\u001b[0m\n\u001b[1;32m     74\u001b[0m \u001b[0;34m\u001b[0m\u001b[0m\n\u001b[0;32m---> 75\u001b[0;31m     \u001b[0mut\u001b[0m \u001b[0;34m=\u001b[0m \u001b[0mF\u001b[0m\u001b[0;34m.\u001b[0m\u001b[0mlinear\u001b[0m\u001b[0;34m(\u001b[0m\u001b[0mxt\u001b[0m\u001b[0;34m,\u001b[0m \u001b[0mself\u001b[0m\u001b[0;34m.\u001b[0m\u001b[0mencoder_input\u001b[0m\u001b[0;34m)\u001b[0m\u001b[0;34m+\u001b[0m\u001b[0mF\u001b[0m\u001b[0;34m.\u001b[0m\u001b[0mlinear\u001b[0m\u001b[0;34m(\u001b[0m\u001b[0mht\u001b[0m\u001b[0;34m,\u001b[0m \u001b[0mself\u001b[0m\u001b[0;34m.\u001b[0m\u001b[0mencoder_hidden\u001b[0m\u001b[0;34m)\u001b[0m\u001b[0;34m+\u001b[0m  \u001b[0mF\u001b[0m\u001b[0;34m.\u001b[0m\u001b[0mlinear\u001b[0m\u001b[0;34m(\u001b[0m\u001b[0mmt\u001b[0m\u001b[0;34m,\u001b[0m \u001b[0mself\u001b[0m\u001b[0;34m.\u001b[0m\u001b[0mencoder_memory\u001b[0m\u001b[0;34m)\u001b[0m\u001b[0;34m\u001b[0m\u001b[0;34m\u001b[0m\u001b[0m\n\u001b[0m\u001b[1;32m     76\u001b[0m \u001b[0;34m\u001b[0m\u001b[0m\n\u001b[1;32m     77\u001b[0m \u001b[0;34m\u001b[0m\u001b[0m\n",
            "\u001b[0;32m/usr/local/lib/python3.7/dist-packages/torch/nn/functional.py\u001b[0m in \u001b[0;36mlinear\u001b[0;34m(input, weight, bias)\u001b[0m\n\u001b[1;32m   1751\u001b[0m     \u001b[0;32mif\u001b[0m \u001b[0mhas_torch_function_variadic\u001b[0m\u001b[0;34m(\u001b[0m\u001b[0minput\u001b[0m\u001b[0;34m,\u001b[0m \u001b[0mweight\u001b[0m\u001b[0;34m)\u001b[0m\u001b[0;34m:\u001b[0m\u001b[0;34m\u001b[0m\u001b[0;34m\u001b[0m\u001b[0m\n\u001b[1;32m   1752\u001b[0m         \u001b[0;32mreturn\u001b[0m \u001b[0mhandle_torch_function\u001b[0m\u001b[0;34m(\u001b[0m\u001b[0mlinear\u001b[0m\u001b[0;34m,\u001b[0m \u001b[0;34m(\u001b[0m\u001b[0minput\u001b[0m\u001b[0;34m,\u001b[0m \u001b[0mweight\u001b[0m\u001b[0;34m)\u001b[0m\u001b[0;34m,\u001b[0m \u001b[0minput\u001b[0m\u001b[0;34m,\u001b[0m \u001b[0mweight\u001b[0m\u001b[0;34m,\u001b[0m \u001b[0mbias\u001b[0m\u001b[0;34m=\u001b[0m\u001b[0mbias\u001b[0m\u001b[0;34m)\u001b[0m\u001b[0;34m\u001b[0m\u001b[0;34m\u001b[0m\u001b[0m\n\u001b[0;32m-> 1753\u001b[0;31m     \u001b[0;32mreturn\u001b[0m \u001b[0mtorch\u001b[0m\u001b[0;34m.\u001b[0m\u001b[0m_C\u001b[0m\u001b[0;34m.\u001b[0m\u001b[0m_nn\u001b[0m\u001b[0;34m.\u001b[0m\u001b[0mlinear\u001b[0m\u001b[0;34m(\u001b[0m\u001b[0minput\u001b[0m\u001b[0;34m,\u001b[0m \u001b[0mweight\u001b[0m\u001b[0;34m,\u001b[0m \u001b[0mbias\u001b[0m\u001b[0;34m)\u001b[0m\u001b[0;34m\u001b[0m\u001b[0;34m\u001b[0m\u001b[0m\n\u001b[0m\u001b[1;32m   1754\u001b[0m \u001b[0;34m\u001b[0m\u001b[0m\n\u001b[1;32m   1755\u001b[0m \u001b[0;34m\u001b[0m\u001b[0m\n",
            "\u001b[0;31mKeyboardInterrupt\u001b[0m: "
          ]
        }
      ]
    },
    {
      "cell_type": "code",
      "metadata": {
        "id": "Qaunc4vo9Orw",
        "colab": {
          "base_uri": "https://localhost:8080/",
          "height": 1000
        },
        "outputId": "82bc2c3f-3470-48b4-c140-9c6e612cc5a5"
      },
      "source": [
        "from tqdm import tqdm\n",
        "import torch.utils.data as data\n",
        "\n",
        "\n",
        "\n",
        "model = LSTMModel().cuda()\n",
        "print(\"\\nnumber of paramaters : \", sum(p.numel() for p in model.parameters() if p.requires_grad))\n",
        "print(\"\\n\\n\")\n",
        "criterion = nn.MSELoss()\n",
        "optimizer = torch.optim.Adam(model.parameters(), lr=0.001)\n",
        "model.train()\n",
        "\n",
        "dataset = torch.utils.data.TensorDataset(torch.Tensor(train_X).cuda(), torch.Tensor(train_Y).cuda())\n",
        "dataset = data.DataLoader(dataset, batch_size=16, shuffle=True)\n",
        "\n",
        "dataset_valid = torch.utils.data.TensorDataset(torch.Tensor(test_X).cuda(), torch.Tensor(test_Y).cuda())\n",
        "dataset_valid = data.DataLoader(dataset_valid, batch_size=16, shuffle=False)\n",
        "\n",
        "train(model, 100, dataset, dataset_valid)"
      ],
      "execution_count": 26,
      "outputs": [
        {
          "output_type": "stream",
          "text": [
            "Epoch 0 - Training loss: 0.012470325455069542:  25%|██▌       | 1/4 [00:00<00:00,  5.47it/s]"
          ],
          "name": "stderr"
        },
        {
          "output_type": "stream",
          "text": [
            "\n",
            "number of paramaters :  2826\n",
            "\n",
            "\n",
            "\n"
          ],
          "name": "stdout"
        },
        {
          "output_type": "stream",
          "text": [
            "Epoch 0 - Training loss: 0.04816618748009205: 100%|██████████| 4/4 [00:00<00:00,  7.27it/s]\n",
            "Epoch 0 - Validation loss: 0.04590757563710213: 100%|██████████| 4/4 [00:00<00:00, 18.52it/s]\n",
            "Epoch 1 - Training loss: 0.04513815324753523: 100%|██████████| 4/4 [00:00<00:00,  9.68it/s]\n",
            "Epoch 1 - Validation loss: 0.04424694087356329: 100%|██████████| 4/4 [00:00<00:00, 18.11it/s]\n",
            "Epoch 2 - Training loss: 0.044021015986800194: 100%|██████████| 4/4 [00:00<00:00,  8.30it/s]\n",
            "Epoch 2 - Validation loss: 0.04376828204840422: 100%|██████████| 4/4 [00:00<00:00, 14.90it/s]\n",
            "Epoch 3 - Training loss: 0.0436081662774086: 100%|██████████| 4/4 [00:00<00:00,  7.89it/s]\n",
            "Epoch 3 - Validation loss: 0.04326228145509958: 100%|██████████| 4/4 [00:00<00:00, 18.46it/s]\n",
            "Epoch 4 - Training loss: 0.04292771592736244: 100%|██████████| 4/4 [00:00<00:00,  9.81it/s]\n",
            "Epoch 4 - Validation loss: 0.042302656918764114: 100%|██████████| 4/4 [00:00<00:00, 19.22it/s]\n",
            "Epoch 5 - Training loss: 0.04188293777406216: 100%|██████████| 4/4 [00:00<00:00,  8.96it/s]\n",
            "Epoch 5 - Validation loss: 0.041190480813384056: 100%|██████████| 4/4 [00:00<00:00, 19.54it/s]\n",
            "Epoch 6 - Training loss: 0.04079908598214388: 100%|██████████| 4/4 [00:00<00:00,  9.32it/s]\n",
            "Epoch 6 - Validation loss: 0.040138861164450645: 100%|██████████| 4/4 [00:00<00:00, 16.69it/s]\n",
            "Epoch 7 - Training loss: 0.03971670474857092: 100%|██████████| 4/4 [00:00<00:00,  9.38it/s]\n",
            "Epoch 7 - Validation loss: 0.03891334589570761: 100%|██████████| 4/4 [00:00<00:00, 19.60it/s]\n",
            "Epoch 8 - Training loss: 0.03833235427737236: 100%|██████████| 4/4 [00:00<00:00,  9.01it/s]\n",
            "Epoch 8 - Validation loss: 0.037227045744657516: 100%|██████████| 4/4 [00:00<00:00, 18.92it/s]\n",
            "Epoch 9 - Training loss: 0.0364748639985919: 100%|██████████| 4/4 [00:00<00:00,  9.60it/s]\n",
            "Epoch 9 - Validation loss: 0.03507460840046406: 100%|██████████| 4/4 [00:00<00:00, 19.35it/s]\n",
            "Epoch 10 - Training loss: 0.03410259075462818: 100%|██████████| 4/4 [00:00<00:00,  9.67it/s]\n",
            "Epoch 10 - Validation loss: 0.03219646215438843: 100%|██████████| 4/4 [00:00<00:00, 19.53it/s]\n",
            "Epoch 11 - Training loss: 0.030772509053349495: 100%|██████████| 4/4 [00:00<00:00,  9.37it/s]\n",
            "Epoch 11 - Validation loss: 0.02798115322366357: 100%|██████████| 4/4 [00:00<00:00, 18.51it/s]\n",
            "Epoch 12 - Training loss: 0.025941242463886738: 100%|██████████| 4/4 [00:00<00:00,  9.84it/s]\n",
            "Epoch 12 - Validation loss: 0.021952814888209105: 100%|██████████| 4/4 [00:00<00:00, 15.89it/s]\n",
            "Epoch 13 - Training loss: 0.01917364913970232: 100%|██████████| 4/4 [00:00<00:00,  9.41it/s]\n",
            "Epoch 13 - Validation loss: 0.014312632847577333: 100%|██████████| 4/4 [00:00<00:00, 19.08it/s]\n",
            "Epoch 14 - Training loss: 0.012273649219423532: 100%|██████████| 4/4 [00:00<00:00,  9.75it/s]\n",
            "Epoch 14 - Validation loss: 0.010529619408771396: 100%|██████████| 4/4 [00:00<00:00, 19.05it/s]\n",
            "Epoch 15 - Training loss: 0.012414639815688133: 100%|██████████| 4/4 [00:00<00:00,  9.72it/s]\n",
            "Epoch 15 - Validation loss: 0.013181648682802916: 100%|██████████| 4/4 [00:00<00:00, 15.60it/s]\n",
            "Epoch 16 - Training loss: 0.01265149051323533: 100%|██████████| 4/4 [00:00<00:00,  8.26it/s]\n",
            "Epoch 16 - Validation loss: 0.011444202158600092: 100%|██████████| 4/4 [00:00<00:00, 16.48it/s]\n",
            "Epoch 17 - Training loss: 0.01031387341208756: 100%|██████████| 4/4 [00:00<00:00,  8.43it/s]\n",
            "Epoch 17 - Validation loss: 0.0098161103669554: 100%|██████████| 4/4 [00:00<00:00, 18.46it/s]\n",
            "Epoch 18 - Training loss: 0.009429044555872679: 100%|██████████| 4/4 [00:00<00:00,  9.52it/s]\n",
            "Epoch 18 - Validation loss: 0.009324232349172235: 100%|██████████| 4/4 [00:00<00:00, 15.01it/s]\n",
            "Epoch 19 - Training loss: 0.009437397820875049: 100%|██████████| 4/4 [00:00<00:00,  8.66it/s]\n",
            "Epoch 19 - Validation loss: 0.009241001680493355: 100%|██████████| 4/4 [00:00<00:00, 15.15it/s]\n",
            "Epoch 20 - Training loss: 0.009272074792534113: 100%|██████████| 4/4 [00:00<00:00,  8.08it/s]\n",
            "Epoch 20 - Validation loss: 0.009164247661828995: 100%|██████████| 4/4 [00:00<00:00, 19.12it/s]\n",
            "Epoch 21 - Training loss: 0.009004481369629502: 100%|██████████| 4/4 [00:00<00:00,  9.63it/s]\n",
            "Epoch 21 - Validation loss: 0.008665013127028942: 100%|██████████| 4/4 [00:00<00:00, 18.98it/s]\n",
            "Epoch 22 - Training loss: 0.008601427543908358: 100%|██████████| 4/4 [00:00<00:00,  9.38it/s]\n",
            "Epoch 22 - Validation loss: 0.008314208826050162: 100%|██████████| 4/4 [00:00<00:00, 16.95it/s]\n",
            "Epoch 23 - Training loss: 0.008276684209704399: 100%|██████████| 4/4 [00:00<00:00,  9.39it/s]\n",
            "Epoch 23 - Validation loss: 0.00816367007791996: 100%|██████████| 4/4 [00:00<00:00, 18.36it/s]\n",
            "Epoch 24 - Training loss: 0.008140451274812222: 100%|██████████| 4/4 [00:00<00:00,  8.55it/s]\n",
            "Epoch 24 - Validation loss: 0.008087181020528078: 100%|██████████| 4/4 [00:00<00:00, 15.21it/s]\n",
            "Epoch 25 - Training loss: 0.008064445573836565: 100%|██████████| 4/4 [00:00<00:00,  8.23it/s]\n",
            "Epoch 25 - Validation loss: 0.007988769561052322: 100%|██████████| 4/4 [00:00<00:00, 15.94it/s]\n",
            "Epoch 26 - Training loss: 0.00796223827637732: 100%|██████████| 4/4 [00:00<00:00,  8.43it/s]\n",
            "Epoch 26 - Validation loss: 0.00786855909973383: 100%|██████████| 4/4 [00:00<00:00, 18.34it/s]\n",
            "Epoch 27 - Training loss: 0.007848369423300028: 100%|██████████| 4/4 [00:00<00:00,  8.38it/s]\n",
            "Epoch 27 - Validation loss: 0.007762292283587158: 100%|██████████| 4/4 [00:00<00:00, 13.85it/s]\n",
            "Epoch 28 - Training loss: 0.0077587703708559275: 100%|██████████| 4/4 [00:00<00:00,  7.77it/s]\n",
            "Epoch 28 - Validation loss: 0.007695948821492493: 100%|██████████| 4/4 [00:00<00:00, 14.68it/s]\n",
            "Epoch 29 - Training loss: 0.007697661756537855: 100%|██████████| 4/4 [00:00<00:00,  9.45it/s]\n",
            "Epoch 29 - Validation loss: 0.007647270103916526: 100%|██████████| 4/4 [00:00<00:00, 16.86it/s]\n",
            "Epoch 30 - Training loss: 0.007645303499884903: 100%|██████████| 4/4 [00:00<00:00,  9.69it/s]\n",
            "Epoch 30 - Validation loss: 0.007594967493787408: 100%|██████████| 4/4 [00:00<00:00, 18.86it/s]\n",
            "Epoch 31 - Training loss: 0.007590636145323515: 100%|██████████| 4/4 [00:00<00:00,  9.51it/s]\n",
            "Epoch 31 - Validation loss: 0.007543676299974322: 100%|██████████| 4/4 [00:00<00:00, 19.08it/s]\n",
            "Epoch 32 - Training loss: 0.007538712932728231: 100%|██████████| 4/4 [00:00<00:00,  9.47it/s]\n",
            "Epoch 32 - Validation loss: 0.007496502948924899: 100%|██████████| 4/4 [00:00<00:00, 19.54it/s]\n",
            "  0%|          | 0/4 [00:00<?, ?it/s]\n"
          ],
          "name": "stderr"
        },
        {
          "output_type": "error",
          "ename": "KeyboardInterrupt",
          "evalue": "ignored",
          "traceback": [
            "\u001b[0;31m---------------------------------------------------------------------------\u001b[0m",
            "\u001b[0;31mKeyboardInterrupt\u001b[0m                         Traceback (most recent call last)",
            "\u001b[0;32m<ipython-input-26-9345e03a8170>\u001b[0m in \u001b[0;36m<module>\u001b[0;34m()\u001b[0m\n\u001b[1;32m     17\u001b[0m \u001b[0mdataset_valid\u001b[0m \u001b[0;34m=\u001b[0m \u001b[0mdata\u001b[0m\u001b[0;34m.\u001b[0m\u001b[0mDataLoader\u001b[0m\u001b[0;34m(\u001b[0m\u001b[0mdataset_valid\u001b[0m\u001b[0;34m,\u001b[0m \u001b[0mbatch_size\u001b[0m\u001b[0;34m=\u001b[0m\u001b[0;36m16\u001b[0m\u001b[0;34m,\u001b[0m \u001b[0mshuffle\u001b[0m\u001b[0;34m=\u001b[0m\u001b[0;32mFalse\u001b[0m\u001b[0;34m)\u001b[0m\u001b[0;34m\u001b[0m\u001b[0;34m\u001b[0m\u001b[0m\n\u001b[1;32m     18\u001b[0m \u001b[0;34m\u001b[0m\u001b[0m\n\u001b[0;32m---> 19\u001b[0;31m \u001b[0mtrain\u001b[0m\u001b[0;34m(\u001b[0m\u001b[0mmodel\u001b[0m\u001b[0;34m,\u001b[0m \u001b[0;36m100\u001b[0m\u001b[0;34m,\u001b[0m \u001b[0mdataset\u001b[0m\u001b[0;34m,\u001b[0m \u001b[0mdataset_valid\u001b[0m\u001b[0;34m)\u001b[0m\u001b[0;34m\u001b[0m\u001b[0;34m\u001b[0m\u001b[0m\n\u001b[0m",
            "\u001b[0;32m<ipython-input-23-56a3ed0afd1c>\u001b[0m in \u001b[0;36mtrain\u001b[0;34m(model, epochs, dataset, dataset_valid)\u001b[0m\n\u001b[1;32m     11\u001b[0m             \u001b[0mloss_ll\u001b[0m \u001b[0;34m=\u001b[0m \u001b[0mcriterion\u001b[0m\u001b[0;34m(\u001b[0m\u001b[0moutput\u001b[0m\u001b[0;34m,\u001b[0m \u001b[0my\u001b[0m\u001b[0;34m.\u001b[0m\u001b[0mcuda\u001b[0m\u001b[0;34m(\u001b[0m\u001b[0;34m)\u001b[0m\u001b[0;34m)\u001b[0m\u001b[0;34m\u001b[0m\u001b[0;34m\u001b[0m\u001b[0m\n\u001b[1;32m     12\u001b[0m \u001b[0;34m\u001b[0m\u001b[0m\n\u001b[0;32m---> 13\u001b[0;31m             \u001b[0mloss_ll\u001b[0m\u001b[0;34m.\u001b[0m\u001b[0mbackward\u001b[0m\u001b[0;34m(\u001b[0m\u001b[0;34m)\u001b[0m\u001b[0;34m\u001b[0m\u001b[0;34m\u001b[0m\u001b[0m\n\u001b[0m\u001b[1;32m     14\u001b[0m \u001b[0;34m\u001b[0m\u001b[0m\n\u001b[1;32m     15\u001b[0m             \u001b[0moptimizer\u001b[0m\u001b[0;34m.\u001b[0m\u001b[0mstep\u001b[0m\u001b[0;34m(\u001b[0m\u001b[0;34m)\u001b[0m\u001b[0;34m\u001b[0m\u001b[0;34m\u001b[0m\u001b[0m\n",
            "\u001b[0;32m/usr/local/lib/python3.7/dist-packages/torch/tensor.py\u001b[0m in \u001b[0;36mbackward\u001b[0;34m(self, gradient, retain_graph, create_graph, inputs)\u001b[0m\n\u001b[1;32m    243\u001b[0m                 \u001b[0mcreate_graph\u001b[0m\u001b[0;34m=\u001b[0m\u001b[0mcreate_graph\u001b[0m\u001b[0;34m,\u001b[0m\u001b[0;34m\u001b[0m\u001b[0;34m\u001b[0m\u001b[0m\n\u001b[1;32m    244\u001b[0m                 inputs=inputs)\n\u001b[0;32m--> 245\u001b[0;31m         \u001b[0mtorch\u001b[0m\u001b[0;34m.\u001b[0m\u001b[0mautograd\u001b[0m\u001b[0;34m.\u001b[0m\u001b[0mbackward\u001b[0m\u001b[0;34m(\u001b[0m\u001b[0mself\u001b[0m\u001b[0;34m,\u001b[0m \u001b[0mgradient\u001b[0m\u001b[0;34m,\u001b[0m \u001b[0mretain_graph\u001b[0m\u001b[0;34m,\u001b[0m \u001b[0mcreate_graph\u001b[0m\u001b[0;34m,\u001b[0m \u001b[0minputs\u001b[0m\u001b[0;34m=\u001b[0m\u001b[0minputs\u001b[0m\u001b[0;34m)\u001b[0m\u001b[0;34m\u001b[0m\u001b[0;34m\u001b[0m\u001b[0m\n\u001b[0m\u001b[1;32m    246\u001b[0m \u001b[0;34m\u001b[0m\u001b[0m\n\u001b[1;32m    247\u001b[0m     \u001b[0;32mdef\u001b[0m \u001b[0mregister_hook\u001b[0m\u001b[0;34m(\u001b[0m\u001b[0mself\u001b[0m\u001b[0;34m,\u001b[0m \u001b[0mhook\u001b[0m\u001b[0;34m)\u001b[0m\u001b[0;34m:\u001b[0m\u001b[0;34m\u001b[0m\u001b[0;34m\u001b[0m\u001b[0m\n",
            "\u001b[0;32m/usr/local/lib/python3.7/dist-packages/torch/autograd/__init__.py\u001b[0m in \u001b[0;36mbackward\u001b[0;34m(tensors, grad_tensors, retain_graph, create_graph, grad_variables, inputs)\u001b[0m\n\u001b[1;32m    145\u001b[0m     Variable._execution_engine.run_backward(\n\u001b[1;32m    146\u001b[0m         \u001b[0mtensors\u001b[0m\u001b[0;34m,\u001b[0m \u001b[0mgrad_tensors_\u001b[0m\u001b[0;34m,\u001b[0m \u001b[0mretain_graph\u001b[0m\u001b[0;34m,\u001b[0m \u001b[0mcreate_graph\u001b[0m\u001b[0;34m,\u001b[0m \u001b[0minputs\u001b[0m\u001b[0;34m,\u001b[0m\u001b[0;34m\u001b[0m\u001b[0;34m\u001b[0m\u001b[0m\n\u001b[0;32m--> 147\u001b[0;31m         allow_unreachable=True, accumulate_grad=True)  # allow_unreachable flag\n\u001b[0m\u001b[1;32m    148\u001b[0m \u001b[0;34m\u001b[0m\u001b[0m\n\u001b[1;32m    149\u001b[0m \u001b[0;34m\u001b[0m\u001b[0m\n",
            "\u001b[0;31mKeyboardInterrupt\u001b[0m: "
          ]
        }
      ]
    }
  ]
}