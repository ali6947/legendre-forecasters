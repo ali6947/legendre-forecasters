{
  "nbformat": 4,
  "nbformat_minor": 0,
  "metadata": {
    "kernelspec": {
      "language": "python",
      "display_name": "Python 3",
      "name": "python3"
    },
    "language_info": {
      "name": "python",
      "version": "3.7.9",
      "mimetype": "text/x-python",
      "codemirror_mode": {
        "name": "ipython",
        "version": 3
      },
      "pygments_lexer": "ipython3",
      "nbconvert_exporter": "python",
      "file_extension": ".py"
    },
    "colab": {
      "name": "lmu-psmnist.ipynb",
      "provenance": []
    },
    "accelerator": "GPU"
  },
  "cells": [
    {
      "cell_type": "code",
      "metadata": {
        "id": "qYahiHxsgZil",
        "trusted": true,
        "colab": {
          "base_uri": "https://localhost:8080/"
        },
        "outputId": "431ca1ce-d42e-4a44-fc69-38483badbeec"
      },
      "source": [
        "!pip install nengolib"
      ],
      "execution_count": 1,
      "outputs": [
        {
          "output_type": "stream",
          "text": [
            "Collecting nengolib\n",
            "\u001b[?25l  Downloading https://files.pythonhosted.org/packages/da/00/62bbce813d135da3799f4afc26957d942d4ae27085fb0df1bfb57dcf692b/nengolib-0.5.2-py2.py3-none-any.whl (117kB)\n",
            "\r\u001b[K     |██▉                             | 10kB 22.3MB/s eta 0:00:01\r\u001b[K     |█████▋                          | 20kB 29.7MB/s eta 0:00:01\r\u001b[K     |████████▍                       | 30kB 26.4MB/s eta 0:00:01\r\u001b[K     |███████████▏                    | 40kB 29.7MB/s eta 0:00:01\r\u001b[K     |██████████████                  | 51kB 29.9MB/s eta 0:00:01\r\u001b[K     |████████████████▊               | 61kB 29.3MB/s eta 0:00:01\r\u001b[K     |███████████████████▌            | 71kB 30.5MB/s eta 0:00:01\r\u001b[K     |██████████████████████▎         | 81kB 26.6MB/s eta 0:00:01\r\u001b[K     |█████████████████████████       | 92kB 27.9MB/s eta 0:00:01\r\u001b[K     |███████████████████████████▉    | 102kB 25.8MB/s eta 0:00:01\r\u001b[K     |██████████████████████████████▋ | 112kB 25.8MB/s eta 0:00:01\r\u001b[K     |████████████████████████████████| 122kB 25.8MB/s \n",
            "\u001b[?25hCollecting nengo<3.0,>=2.2.0\n",
            "\u001b[?25l  Downloading https://files.pythonhosted.org/packages/f7/ce/e314e1176bfbbe6c3b6cf4e8fa0620cafad8f8bad04203c55881e9cb2fb0/nengo-2.8.0-py2.py3-none-any.whl (375kB)\n",
            "\r\u001b[K     |▉                               | 10kB 28.8MB/s eta 0:00:01\r\u001b[K     |█▊                              | 20kB 36.3MB/s eta 0:00:01\r\u001b[K     |██▋                             | 30kB 40.6MB/s eta 0:00:01\r\u001b[K     |███▌                            | 40kB 41.5MB/s eta 0:00:01\r\u001b[K     |████▍                           | 51kB 41.9MB/s eta 0:00:01\r\u001b[K     |█████▎                          | 61kB 42.9MB/s eta 0:00:01\r\u001b[K     |██████                          | 71kB 42.6MB/s eta 0:00:01\r\u001b[K     |███████                         | 81kB 42.4MB/s eta 0:00:01\r\u001b[K     |███████▉                        | 92kB 43.3MB/s eta 0:00:01\r\u001b[K     |████████▊                       | 102kB 44.5MB/s eta 0:00:01\r\u001b[K     |█████████▋                      | 112kB 44.5MB/s eta 0:00:01\r\u001b[K     |██████████▌                     | 122kB 44.5MB/s eta 0:00:01\r\u001b[K     |███████████▍                    | 133kB 44.5MB/s eta 0:00:01\r\u001b[K     |████████████▏                   | 143kB 44.5MB/s eta 0:00:01\r\u001b[K     |█████████████                   | 153kB 44.5MB/s eta 0:00:01\r\u001b[K     |██████████████                  | 163kB 44.5MB/s eta 0:00:01\r\u001b[K     |██████████████▉                 | 174kB 44.5MB/s eta 0:00:01\r\u001b[K     |███████████████▊                | 184kB 44.5MB/s eta 0:00:01\r\u001b[K     |████████████████▋               | 194kB 44.5MB/s eta 0:00:01\r\u001b[K     |█████████████████▍              | 204kB 44.5MB/s eta 0:00:01\r\u001b[K     |██████████████████▎             | 215kB 44.5MB/s eta 0:00:01\r\u001b[K     |███████████████████▏            | 225kB 44.5MB/s eta 0:00:01\r\u001b[K     |████████████████████            | 235kB 44.5MB/s eta 0:00:01\r\u001b[K     |█████████████████████           | 245kB 44.5MB/s eta 0:00:01\r\u001b[K     |█████████████████████▉          | 256kB 44.5MB/s eta 0:00:01\r\u001b[K     |██████████████████████▊         | 266kB 44.5MB/s eta 0:00:01\r\u001b[K     |███████████████████████▌        | 276kB 44.5MB/s eta 0:00:01\r\u001b[K     |████████████████████████▍       | 286kB 44.5MB/s eta 0:00:01\r\u001b[K     |█████████████████████████▎      | 296kB 44.5MB/s eta 0:00:01\r\u001b[K     |██████████████████████████▏     | 307kB 44.5MB/s eta 0:00:01\r\u001b[K     |███████████████████████████     | 317kB 44.5MB/s eta 0:00:01\r\u001b[K     |████████████████████████████    | 327kB 44.5MB/s eta 0:00:01\r\u001b[K     |████████████████████████████▊   | 337kB 44.5MB/s eta 0:00:01\r\u001b[K     |█████████████████████████████▋  | 348kB 44.5MB/s eta 0:00:01\r\u001b[K     |██████████████████████████████▌ | 358kB 44.5MB/s eta 0:00:01\r\u001b[K     |███████████████████████████████▍| 368kB 44.5MB/s eta 0:00:01\r\u001b[K     |████████████████████████████████| 378kB 44.5MB/s \n",
            "\u001b[?25hRequirement already satisfied: scipy>=0.19.0 in /usr/local/lib/python3.7/dist-packages (from nengolib) (1.4.1)\n",
            "Requirement already satisfied: numpy>=1.13 in /usr/local/lib/python3.7/dist-packages (from nengolib) (1.19.5)\n",
            "Installing collected packages: nengo, nengolib\n",
            "Successfully installed nengo-2.8.0 nengolib-0.5.2\n"
          ],
          "name": "stdout"
        }
      ]
    },
    {
      "cell_type": "code",
      "metadata": {
        "id": "mAiRtAIA3kM4",
        "trusted": true
      },
      "source": [
        "import torch\n",
        "import torch.nn as nn\n",
        "from sympy.matrices import Matrix, eye, zeros, ones, diag, GramSchmidt\n",
        "import numpy as np\n",
        "from functools import partial\n",
        "import torch.nn.functional as F\n",
        "import math\n",
        "\n",
        "from nengolib.signal import Identity, cont2discrete\n",
        "from nengolib.synapses import LegendreDelay\n",
        "from functools import partial\n",
        "\n",
        "def lecun_uniform(tensor):\n",
        "    fan_in = nn.init._calculate_correct_fan(tensor, 'fan_in')\n",
        "    nn.init.uniform_(tensor, -math.sqrt(3 / fan_in), math.sqrt(3 / fan_in))\n",
        "    \n",
        "class LegendreMemoryUnitCell(nn.Module):\n",
        "  def __init__(self, input_dim, units , order, theta,\n",
        "                 input_encoders_initializer=lecun_uniform,\n",
        "                 hidden_encoders_initializer=lecun_uniform,\n",
        "                 memory_encoders_initializer=partial(torch.nn.init.constant_, val=0),\n",
        "                 input_kernel_initializer=torch.nn.init.xavier_normal_,\n",
        "                 hidden_kernel_initializer=torch.nn.init.xavier_normal_,\n",
        "                #  hidden_kernel_initializer=torch.nn.init.uniform_,\n",
        "                 include_bias=False, #added by ali acc to branch\n",
        "                 memory_kernel_initializer=torch.nn.init.xavier_normal_):\n",
        "    super(LegendreMemoryUnitCell, self).__init__()\n",
        "\n",
        "    self.order = order\n",
        "    self.theta = theta\n",
        "    self.units = units\n",
        "    self.include_bias=include_bias\n",
        "\n",
        "    realizer = Identity()\n",
        "    self._realizer_result = realizer(LegendreDelay(theta=theta, order=self.order))\n",
        "\n",
        "    self._ss = cont2discrete(self._realizer_result.realization, dt=1., method='zoh')\n",
        "\n",
        "    self._A = self._ss.A - np.eye(order)\n",
        "    self._B = self._ss.B\n",
        "    self._C = self._ss.C\n",
        "\n",
        "    self.AT = nn.Parameter(torch.Tensor(self._A), requires_grad=False)\n",
        "    self.BT = nn.Parameter(torch.Tensor(self._B), requires_grad=False)\n",
        "\n",
        "    if self.include_bias:\n",
        "      self.bias = nn.Parameter(torch.Tensor(1, self.units),requires_grad=True) #added by ali for the fix given in github issue\n",
        "\n",
        "    self.encoder_input = nn.Parameter(torch.Tensor(1,input_dim), requires_grad=True)\n",
        "    self.encoder_hidden = nn.Parameter(torch.Tensor(1,self.units), requires_grad=True)\n",
        "    self.encoder_memory = nn.Parameter(torch.Tensor(1,self.order ), requires_grad=True)\n",
        "    self.kernel_input = nn.Parameter(torch.Tensor(self.units, input_dim), requires_grad=True)\n",
        "    self.kernel_hidden = nn.Parameter(torch.Tensor(self.units, self.units), requires_grad=True)\n",
        "    self.kernel_memory = nn.Parameter(torch.Tensor(self.units, self.order), requires_grad=True)\n",
        "    \n",
        "    if self.include_bias:\n",
        "      torch.nn.init.constant_(self.bias, 0)\n",
        "\n",
        "    input_encoders_initializer(self.encoder_input)\n",
        "    hidden_encoders_initializer(self.encoder_hidden)\n",
        "    memory_encoders_initializer(self.encoder_memory)\n",
        "    input_kernel_initializer(self.kernel_input)\n",
        "    hidden_kernel_initializer(self.kernel_hidden)\n",
        "    memory_kernel_initializer(self.kernel_memory)\n",
        "\n",
        "  def EulerOdeSolver(self):\n",
        "    A_hat = (self.step_delta_t/self.theta)*self.AT + torch.eye(self.order,self.d_order_ode)\n",
        "    B_hat = (self.step_delta_t/self.theta)*self.BT\n",
        "\n",
        "    return A_hat, B_hat\n",
        "\n",
        "  def forward(self, xt, states):\n",
        "    ht, mt = states\n",
        "\n",
        "    ut = F.linear(xt, self.encoder_input)+F.linear(ht, self.encoder_hidden)+  F.linear(mt, self.encoder_memory)\n",
        "\n",
        "\n",
        "    mt = mt + F.linear(mt, self.AT) + F.linear(ut, self.BT)\n",
        "\n",
        "    ht = nn.Tanh()(F.linear(xt, self.kernel_input) + F.linear(ht, self.kernel_hidden) + F.linear(mt, self.kernel_memory)+(self.bias if self.include_bias else 0))\n",
        "    \n",
        "    return ht, (ht, mt)\n",
        "\n",
        "class LegendreMemoryUnit(nn.Module):\n",
        "  def __init__(self, input_dim, units , order, theta):\n",
        "    super(LegendreMemoryUnit, self).__init__()\n",
        "\n",
        "    self.units = units\n",
        "    self.order = order\n",
        "\n",
        "    self.lmucell = LegendreMemoryUnitCell(input_dim, units , order, theta,include_bias=False)\n",
        "\n",
        "  def forward(self, xt):\n",
        "    outputs = []\n",
        "    \n",
        "    h0 = torch.zeros(xt.size(0),self.units).cuda()\n",
        "    m0 = torch.zeros(xt.size(0),self.order).cuda()\n",
        "    states = (h0,m0)\n",
        "    for i in range(xt.size(1)):\n",
        "      out, states = self.lmucell(xt[:,i,:], states)\n",
        "      outputs += [out]\n",
        "    return torch.stack(outputs).permute(1,0,2), states\n",
        "    # return torch.stack(outputs).permute(1,0,2), states\n"
      ],
      "execution_count": 2,
      "outputs": []
    },
    {
      "cell_type": "markdown",
      "metadata": {
        "id": "tRC62TebNYWJ"
      },
      "source": [
        "# Test LMU output"
      ]
    },
    {
      "cell_type": "code",
      "metadata": {
        "id": "JfTlZrsfbSXH",
        "trusted": true,
        "colab": {
          "base_uri": "https://localhost:8080/"
        },
        "outputId": "e58c2c8a-7453-421a-f470-546672df3582"
      },
      "source": [
        "x = torch.rand(64,5000,1).to(torch.device(\"cuda:0\"))\n",
        "h0 = torch.rand(64,49).to(torch.device(\"cuda:0\"))\n",
        "m0 = torch.rand(64,4).to(torch.device(\"cuda:0\"))\n",
        "model = LegendreMemoryUnit(1,49,4,4).to(torch.device(\"cuda:0\"))\n",
        "res, _ = model(x)\n",
        "print(res.shape)"
      ],
      "execution_count": 3,
      "outputs": [
        {
          "output_type": "stream",
          "text": [
            "torch.Size([64, 5000, 49])\n"
          ],
          "name": "stdout"
        }
      ]
    },
    {
      "cell_type": "markdown",
      "metadata": {
        "id": "mRuoDB59NvMX"
      },
      "source": [
        "# Models LSTM - LMU"
      ]
    },
    {
      "cell_type": "code",
      "metadata": {
        "id": "51nVz6TsX9Fc",
        "trusted": true,
        "colab": {
          "base_uri": "https://localhost:8080/"
        },
        "outputId": "0da95d57-2655-4b42-a04f-f44f6c34f94c"
      },
      "source": [
        "class LMUModel(nn.Module):\n",
        "  def __init__(self):\n",
        "    super(LMUModel, self).__init__()\n",
        "    self.LMU = LegendreMemoryUnit(1,212,256,784)\n",
        "    self.dense = nn.Linear(212,10)\n",
        "\n",
        "  def forward(self,x):\n",
        "    x, _ = self.LMU(x)\n",
        "    x = self.dense(x[:,-1,:])\n",
        "\n",
        "    return x\n",
        "\n",
        "model_lstm = LMUModel()\n",
        "\n",
        "print(\"number of parameters : \", sum(p.numel() for p in model_lstm.parameters() if p.requires_grad))\n",
        "print()\n"
      ],
      "execution_count": 4,
      "outputs": [
        {
          "output_type": "stream",
          "text": [
            "number of parameters :  102027\n",
            "\n"
          ],
          "name": "stdout"
        }
      ]
    },
    {
      "cell_type": "code",
      "metadata": {
        "id": "DrNF6LetOGun",
        "trusted": true,
        "colab": {
          "base_uri": "https://localhost:8080/"
        },
        "outputId": "c30a5e8d-b5d9-48d2-ec33-28bee52782e5"
      },
      "source": [
        "class LSTMModel(nn.Module):\n",
        "  def __init__(self):\n",
        "    super(LSTMModel, self).__init__()\n",
        "    self.LSTM = nn.LSTM(1,25,1,batch_first=True)\n",
        "    self.dense = nn.Linear(25,10)\n",
        "\n",
        "  def forward(self,x):\n",
        "    x, _ = self.LSTM(x)\n",
        "    x = self.dense(x[:,-1,:])\n",
        "\n",
        "    return x\n",
        "    \n",
        "model_lstm = LSTMModel()\n",
        "\n",
        "print(\"number of parameters : \", sum(p.numel() for p in model_lstm.parameters() if p.requires_grad))\n",
        "print()\n"
      ],
      "execution_count": 5,
      "outputs": [
        {
          "output_type": "stream",
          "text": [
            "number of parameters :  3060\n",
            "\n"
          ],
          "name": "stdout"
        }
      ]
    },
    {
      "cell_type": "markdown",
      "metadata": {
        "id": "3xncoH8HPLsg"
      },
      "source": [
        "# Utils"
      ]
    },
    {
      "cell_type": "code",
      "metadata": {
        "id": "yaCT4Pi_PakY",
        "trusted": true
      },
      "source": [
        "import numpy as np\n",
        "def train(model, epochs, dataset, dataset_valid = None):\n",
        "  for e in range(epochs):\n",
        "      model.train()\n",
        "      running_loss = 0\n",
        "      sum_acc = 0      \n",
        "      with tqdm(total=len(dataset)) as bar:\n",
        "        for i, (X, y) in enumerate(dataset):\n",
        "            optimizer.zero_grad()\n",
        "            \n",
        "            output = model(X.cuda())\n",
        "            # print(output.shape)\n",
        "            # print(y.shape)\n",
        "            loss_ll = criterion(output, y.cuda())\n",
        "            \n",
        "            loss_ll.backward()\n",
        "            \n",
        "            optimizer.step()\n",
        "            y_num=y.cpu().detach().numpy() \n",
        "            output_num=output.cpu().detach().numpy() \n",
        "            pred=np.argmax(output_num,axis=1)\n",
        "            acc=np.sum(pred==y_num)\n",
        "#             print(acc)\n",
        "            sum_acc+=(acc/len(pred))\n",
        "#             print(len(dataset))\n",
        "#             print(len(pred))\n",
        "            running_loss += loss_ll.item()\n",
        "\n",
        "            bar.update(1)\n",
        "            bar.set_description(\"Epoch {} - Training loss: {}, Accuracy={}\".format(e, running_loss/len(dataset),sum_acc/len(dataset)))\n",
        "\n",
        "      model.eval()\n",
        "      running_loss = 0\n",
        "      sum_acc = 0         \n",
        "      outs = []\n",
        "      with tqdm(total=len(dataset_valid)) as bar:\n",
        "        for i, (X, y) in enumerate(dataset_valid):\n",
        "            optimizer.zero_grad()\n",
        "            \n",
        "            output = model(X.cuda())\n",
        "            # t1=output.detach().cpu().numpy()[0][-100:]\n",
        "            # t2=y.detach().cpu().numpy()[0][-100:]\n",
        "            loss_ll = criterion(output, y.cuda())\n",
        "            y_num=y.cpu().detach().numpy() \n",
        "            output_num=output.cpu().detach().numpy() \n",
        "            pred=np.argmax(output_num,axis=1)\n",
        "            acc=np.sum(pred==y_num)\n",
        "#             print(acc)\n",
        "            sum_acc+=(acc/len(pred))\n",
        "#             print(pred)\n",
        "#             print(y_num)\n",
        "#             print(sum_acc,acc)\n",
        "            running_loss += loss_ll.item()\n",
        "            \n",
        "            # outs.append(output)\n",
        "            bar.update(1)\n",
        "            bar.set_description(\"Epoch {} - Validation loss: {}, Accuracy={}\".format(e, running_loss/len(dataset_valid),sum_acc/len(dataset_valid)))\n",
        "      # plt.plot(t1)\n",
        "      # plt.plot(t2)\n",
        "      # plt.show()\n"
      ],
      "execution_count": 6,
      "outputs": []
    },
    {
      "cell_type": "markdown",
      "metadata": {
        "id": "rUlSXcORWqtn"
      },
      "source": [
        ""
      ]
    },
    {
      "cell_type": "markdown",
      "metadata": {
        "id": "wQ9gHUDPDAZ6"
      },
      "source": [
        "# psMNIST dataset loading"
      ]
    },
    {
      "cell_type": "code",
      "metadata": {
        "id": "OsRAIkKZDB9O",
        "trusted": true
      },
      "source": [
        "import numpy as np\n",
        "import matplotlib.pyplot as plt\n",
        "from IPython.display import Image, display\n",
        "import tensorflow as tf"
      ],
      "execution_count": 7,
      "outputs": []
    },
    {
      "cell_type": "code",
      "metadata": {
        "id": "fFENTI3tDSLz",
        "trusted": true
      },
      "source": [
        "seed = 0\n",
        "tf.random.set_seed(seed)\n",
        "np.random.seed(seed)\n",
        "rng = np.random.RandomState(seed)"
      ],
      "execution_count": 8,
      "outputs": []
    },
    {
      "cell_type": "code",
      "metadata": {
        "id": "3a7YuTYmDWCK",
        "trusted": true,
        "colab": {
          "base_uri": "https://localhost:8080/"
        },
        "outputId": "46c40b85-8a5b-4576-e0b5-3ee1d77973cf"
      },
      "source": [
        "(train_images, train_labels), (\n",
        "    test_images,\n",
        "    test_labels,\n",
        ") = tf.keras.datasets.mnist.load_data()"
      ],
      "execution_count": 9,
      "outputs": [
        {
          "output_type": "stream",
          "text": [
            "Downloading data from https://storage.googleapis.com/tensorflow/tf-keras-datasets/mnist.npz\n",
            "11493376/11490434 [==============================] - 0s 0us/step\n"
          ],
          "name": "stdout"
        }
      ]
    },
    {
      "cell_type": "code",
      "metadata": {
        "id": "C7MmEQLTDfHN",
        "trusted": true,
        "colab": {
          "base_uri": "https://localhost:8080/"
        },
        "outputId": "d190d8be-684b-4c25-8a65-f6a9079351e0"
      },
      "source": [
        "print(len(test_images))"
      ],
      "execution_count": 10,
      "outputs": [
        {
          "output_type": "stream",
          "text": [
            "10000\n"
          ],
          "name": "stdout"
        }
      ]
    },
    {
      "cell_type": "code",
      "metadata": {
        "id": "Dc8RUOdCDnk0",
        "trusted": true,
        "colab": {
          "base_uri": "https://localhost:8080/",
          "height": 264
        },
        "outputId": "d6c5ff5b-aece-45e6-d90c-aa1e0c0071c9"
      },
      "source": [
        "train_images = train_images / 255\n",
        "test_images = test_images / 255\n",
        "\n",
        "plt.figure()\n",
        "plt.imshow(np.reshape(train_images[0], (28, 28)), cmap=\"gray\")\n",
        "plt.axis(\"off\")\n",
        "plt.title(f\"Sample image of the digit '{train_labels[0]}'\")\n",
        "plt.show()"
      ],
      "execution_count": 11,
      "outputs": [
        {
          "output_type": "display_data",
          "data": {
            "image/png": "[encoded data removed]",
            "text/plain": [
              "<Figure size 432x288 with 1 Axes>"
            ]
          },
          "metadata": {
            "tags": [],
            "needs_background": "light"
          }
        }
      ]
    },
    {
      "cell_type": "code",
      "metadata": {
        "id": "L9PyFbuUEXSQ",
        "trusted": true,
        "colab": {
          "base_uri": "https://localhost:8080/",
          "height": 74
        },
        "outputId": "c0394001-2946-4513-bb90-1769ec507c75"
      },
      "source": [
        "train_images = train_images.reshape((train_images.shape[0], -1, 1))\n",
        "test_images = test_images.reshape((test_images.shape[0], -1, 1))\n",
        "\n",
        "# we'll display the sequence in 8 rows just so that it fits better on the screen\n",
        "plt.figure()\n",
        "plt.imshow(train_images[0].reshape(8, -1), cmap=\"gray\")\n",
        "plt.axis(\"off\")\n",
        "plt.title(f\"Sample sequence of the digit '{train_labels[0]}' (reshaped to 98 x 8)\")\n",
        "plt.show()"
      ],
      "execution_count": 12,
      "outputs": [
        {
          "output_type": "display_data",
          "data": {
            "image/png": "[encoded data removed]",
            "text/plain": [
              "<Figure size 432x288 with 1 Axes>"
            ]
          },
          "metadata": {
            "tags": [],
            "needs_background": "light"
          }
        }
      ]
    },
    {
      "cell_type": "code",
      "metadata": {
        "id": "I3e_Ct2XEq9d",
        "trusted": true,
        "colab": {
          "base_uri": "https://localhost:8080/",
          "height": 74
        },
        "outputId": "1b4fe4b6-9d2d-46f0-a6e8-15901edd9a7f"
      },
      "source": [
        "perm = rng.permutation(train_images.shape[1])\n",
        "train_images = train_images[:, perm]\n",
        "test_images = test_images[:, perm]\n",
        "\n",
        "plt.figure()\n",
        "plt.imshow(train_images[0].reshape(8, -1), cmap=\"gray\")\n",
        "plt.axis(\"off\")\n",
        "plt.title(f\"Permuted sequence of the digit '{train_labels[0]}' (reshaped to 98 x 8)\")\n",
        "plt.show()"
      ],
      "execution_count": 13,
      "outputs": [
        {
          "output_type": "display_data",
          "data": {
            "image/png": "[encoded data removed]",
            "text/plain": [
              "<Figure size 432x288 with 1 Axes>"
            ]
          },
          "metadata": {
            "tags": [],
            "needs_background": "light"
          }
        }
      ]
    },
    {
      "cell_type": "code",
      "metadata": {
        "id": "kzy5TDrDEvqM",
        "trusted": true,
        "colab": {
          "base_uri": "https://localhost:8080/"
        },
        "outputId": "7536d62e-f461-4437-aca8-bcc97654b20c"
      },
      "source": [
        "X_train = train_images[0:50000]\n",
        "X_valid = train_images[50000:]\n",
        "X_test = test_images\n",
        "\n",
        "Y_train = train_labels[0:50000]\n",
        "Y_valid = train_labels[50000:]\n",
        "Y_test = test_labels\n",
        "\n",
        "print(\n",
        "    f\"Training inputs shape: {X_train.shape}, \"\n",
        "    f\"Training targets shape: {Y_train.shape}\"\n",
        ")\n",
        "print(\n",
        "    f\"Validation inputs shape: {X_valid.shape}, \"\n",
        "    f\"Validation targets shape: {Y_valid.shape}\"\n",
        ")\n",
        "print(f\"Testing inputs shape: {X_test.shape}, Testing targets shape: {Y_test.shape}\")"
      ],
      "execution_count": 14,
      "outputs": [
        {
          "output_type": "stream",
          "text": [
            "Training inputs shape: (50000, 784, 1), Training targets shape: (50000,)\n",
            "Validation inputs shape: (10000, 784, 1), Validation targets shape: (10000,)\n",
            "Testing inputs shape: (10000, 784, 1), Testing targets shape: (10000,)\n"
          ],
          "name": "stdout"
        }
      ]
    },
    {
      "cell_type": "code",
      "metadata": {
        "id": "XkA_q8H9H00i",
        "trusted": true,
        "colab": {
          "base_uri": "https://localhost:8080/"
        },
        "outputId": "b8a9fd0a-eda9-47a3-e93e-ef28bd7c33ae"
      },
      "source": [
        "(train_X, train_Y_temp)= (X_train,Y_train.reshape(-1,1)) \n",
        "(test_X, test_Y_temp) = (X_test,Y_test.reshape(-1,1))\n",
        "print(train_Y_temp.shape[0])\n",
        "train_Y=np.zeros((train_Y_temp.shape[0],10),dtype='int')\n",
        "print(test_Y_temp.shape[0])\n",
        "test_Y=np.zeros((test_Y_temp.shape[0],10),dtype='int')\n",
        "train_Y[np.arange(Y_train.size),Y_train] = 1\n",
        "test_Y[np.arange(Y_test.size),Y_test] = 1\n",
        "print(Y_train[:5])\n",
        "print(train_Y[:5])\n",
        "print(Y_test[:5])\n",
        "print(test_Y[:5])\n",
        "train_Y=Y_train\n",
        "test_Y=Y_test\n",
        "print(train_X.shape, test_X.shape,train_Y.shape,test_Y.shape)\n",
        "print(train_X[:5000].shape)"
      ],
      "execution_count": 15,
      "outputs": [
        {
          "output_type": "stream",
          "text": [
            "50000\n",
            "10000\n",
            "[5 0 4 1 9]\n",
            "[[0 0 0 0 0 1 0 0 0 0]\n",
            " [1 0 0 0 0 0 0 0 0 0]\n",
            " [0 0 0 0 1 0 0 0 0 0]\n",
            " [0 1 0 0 0 0 0 0 0 0]\n",
            " [0 0 0 0 0 0 0 0 0 1]]\n",
            "[7 2 1 0 4]\n",
            "[[0 0 0 0 0 0 0 1 0 0]\n",
            " [0 0 1 0 0 0 0 0 0 0]\n",
            " [0 1 0 0 0 0 0 0 0 0]\n",
            " [1 0 0 0 0 0 0 0 0 0]\n",
            " [0 0 0 0 1 0 0 0 0 0]]\n",
            "(50000, 784, 1) (10000, 784, 1) (50000,) (10000,)\n",
            "(5000, 784, 1)\n"
          ],
          "name": "stdout"
        }
      ]
    },
    {
      "cell_type": "markdown",
      "metadata": {
        "id": "YWK0XYS9tHuM"
      },
      "source": [
        "# LMU on psMNIST"
      ]
    },
    {
      "cell_type": "code",
      "metadata": {
        "trusted": true,
        "colab": {
          "base_uri": "https://localhost:8080/",
          "height": 752
        },
        "id": "YadtXTve0JFK",
        "outputId": "9c074504-e656-4ee7-ae3e-6eb22ffba685"
      },
      "source": [
        "# LMU\n",
        "from tqdm import tqdm\n",
        "import torch.utils.data as data\n",
        "\n",
        "# training on only 5000 and testing on 1000\n",
        "\n",
        "model = LMUModel().cuda()\n",
        "print(\"\\n\\number of paramaters : \", sum(p.numel() for p in model.parameters() if p.requires_grad))\n",
        "print(\"\\n\\n\")\n",
        "criterion = nn.CrossEntropyLoss()\n",
        "optimizer = torch.optim.Adam(model.parameters(), lr=0.001)\n",
        "model.train()\n",
        "print(model)\n",
        "dataset = torch.utils.data.TensorDataset(torch.Tensor(train_X[:50000]).cuda(), torch.Tensor(train_Y[:50000]).long().cuda())\n",
        "dataset = data.DataLoader(dataset, batch_size=32, shuffle=True)\n",
        "\n",
        "dataset_valid = torch.utils.data.TensorDataset(torch.Tensor(test_X[:10000]).cuda(), torch.Tensor(test_Y[:10000]).long().cuda())\n",
        "dataset_valid = data.DataLoader(dataset_valid, batch_size=16, shuffle=False)\n",
        "\n",
        "train(model, 40, dataset, dataset_valid)"
      ],
      "execution_count": 16,
      "outputs": [
        {
          "output_type": "stream",
          "text": [
            "\n",
            "\n",
            "umber of paramaters :  102027\n",
            "\n",
            "\n",
            "\n",
            "LMUModel(\n",
            "  (LMU): LegendreMemoryUnit(\n",
            "    (lmucell): LegendreMemoryUnitCell()\n",
            "  )\n",
            "  (dense): Linear(in_features=212, out_features=10, bias=True)\n",
            ")\n"
          ],
          "name": "stdout"
        },
        {
          "output_type": "stream",
          "text": [
            "Epoch 0 - Training loss: 1.003732548913396, Accuracy=0.6738443698016635: 100%|██████████| 1563/1563 [13:07<00:00,  1.99it/s]\n",
            "Epoch 0 - Validation loss: 0.40636345404982566, Accuracy=0.8774: 100%|██████████| 625/625 [02:39<00:00,  3.91it/s]\n",
            "Epoch 1 - Training loss: 0.35475977742597603, Accuracy=0.8906349968010236: 100%|██████████| 1563/1563 [13:03<00:00,  2.00it/s]\n",
            "Epoch 1 - Validation loss: 0.2563475876182318, Accuracy=0.927: 100%|██████████| 625/625 [02:37<00:00,  3.98it/s]\n",
            "Epoch 2 - Training loss: 0.24904356234166497, Accuracy=0.9242042546385156: 100%|██████████| 1563/1563 [13:04<00:00,  1.99it/s]\n",
            "Epoch 2 - Validation loss: 0.22391950305625796, Accuracy=0.9332: 100%|██████████| 625/625 [02:35<00:00,  4.02it/s]\n",
            "Epoch 3 - Training loss: nan, Accuracy=0.49850047984644913: 100%|██████████| 1563/1563 [13:01<00:00,  2.00it/s]\n",
            "Epoch 3 - Validation loss: nan, Accuracy=0.098: 100%|██████████| 625/625 [02:35<00:00,  4.03it/s]\n",
            "Epoch 4 - Training loss: nan, Accuracy=0.09862843889955214: 100%|██████████| 1563/1563 [12:52<00:00,  2.02it/s]\n",
            "Epoch 4 - Validation loss: nan, Accuracy=0.098: 100%|██████████| 625/625 [02:36<00:00,  4.00it/s]\n",
            "Epoch 5 - Training loss: nan, Accuracy=0.08809181062060141:  89%|████████▉ | 1389/1563 [11:26<01:26,  2.02it/s]\n"
          ],
          "name": "stderr"
        },
        {
          "output_type": "error",
          "ename": "KeyboardInterrupt",
          "evalue": "ignored",
          "traceback": [
            "\u001b[0;31m---------------------------------------------------------------------------\u001b[0m",
            "\u001b[0;31mKeyboardInterrupt\u001b[0m                         Traceback (most recent call last)",
            "\u001b[0;32m<ipython-input-16-c245382e7790>\u001b[0m in \u001b[0;36m<module>\u001b[0;34m()\u001b[0m\n\u001b[1;32m     18\u001b[0m \u001b[0mdataset_valid\u001b[0m \u001b[0;34m=\u001b[0m \u001b[0mdata\u001b[0m\u001b[0;34m.\u001b[0m\u001b[0mDataLoader\u001b[0m\u001b[0;34m(\u001b[0m\u001b[0mdataset_valid\u001b[0m\u001b[0;34m,\u001b[0m \u001b[0mbatch_size\u001b[0m\u001b[0;34m=\u001b[0m\u001b[0;36m16\u001b[0m\u001b[0;34m,\u001b[0m \u001b[0mshuffle\u001b[0m\u001b[0;34m=\u001b[0m\u001b[0;32mFalse\u001b[0m\u001b[0;34m)\u001b[0m\u001b[0;34m\u001b[0m\u001b[0;34m\u001b[0m\u001b[0m\n\u001b[1;32m     19\u001b[0m \u001b[0;34m\u001b[0m\u001b[0m\n\u001b[0;32m---> 20\u001b[0;31m \u001b[0mtrain\u001b[0m\u001b[0;34m(\u001b[0m\u001b[0mmodel\u001b[0m\u001b[0;34m,\u001b[0m \u001b[0;36m40\u001b[0m\u001b[0;34m,\u001b[0m \u001b[0mdataset\u001b[0m\u001b[0;34m,\u001b[0m \u001b[0mdataset_valid\u001b[0m\u001b[0;34m)\u001b[0m\u001b[0;34m\u001b[0m\u001b[0;34m\u001b[0m\u001b[0m\n\u001b[0m",
            "\u001b[0;32m<ipython-input-6-92ec8bb9dc7f>\u001b[0m in \u001b[0;36mtrain\u001b[0;34m(model, epochs, dataset, dataset_valid)\u001b[0m\n\u001b[1;32m      9\u001b[0m             \u001b[0moptimizer\u001b[0m\u001b[0;34m.\u001b[0m\u001b[0mzero_grad\u001b[0m\u001b[0;34m(\u001b[0m\u001b[0;34m)\u001b[0m\u001b[0;34m\u001b[0m\u001b[0;34m\u001b[0m\u001b[0m\n\u001b[1;32m     10\u001b[0m \u001b[0;34m\u001b[0m\u001b[0m\n\u001b[0;32m---> 11\u001b[0;31m             \u001b[0moutput\u001b[0m \u001b[0;34m=\u001b[0m \u001b[0mmodel\u001b[0m\u001b[0;34m(\u001b[0m\u001b[0mX\u001b[0m\u001b[0;34m.\u001b[0m\u001b[0mcuda\u001b[0m\u001b[0;34m(\u001b[0m\u001b[0;34m)\u001b[0m\u001b[0;34m)\u001b[0m\u001b[0;34m\u001b[0m\u001b[0;34m\u001b[0m\u001b[0m\n\u001b[0m\u001b[1;32m     12\u001b[0m             \u001b[0;31m# print(output.shape)\u001b[0m\u001b[0;34m\u001b[0m\u001b[0;34m\u001b[0m\u001b[0;34m\u001b[0m\u001b[0m\n\u001b[1;32m     13\u001b[0m             \u001b[0;31m# print(y.shape)\u001b[0m\u001b[0;34m\u001b[0m\u001b[0;34m\u001b[0m\u001b[0;34m\u001b[0m\u001b[0m\n",
            "\u001b[0;32m/usr/local/lib/python3.7/dist-packages/torch/nn/modules/module.py\u001b[0m in \u001b[0;36m_call_impl\u001b[0;34m(self, *input, **kwargs)\u001b[0m\n\u001b[1;32m    887\u001b[0m             \u001b[0mresult\u001b[0m \u001b[0;34m=\u001b[0m \u001b[0mself\u001b[0m\u001b[0;34m.\u001b[0m\u001b[0m_slow_forward\u001b[0m\u001b[0;34m(\u001b[0m\u001b[0;34m*\u001b[0m\u001b[0minput\u001b[0m\u001b[0;34m,\u001b[0m \u001b[0;34m**\u001b[0m\u001b[0mkwargs\u001b[0m\u001b[0;34m)\u001b[0m\u001b[0;34m\u001b[0m\u001b[0;34m\u001b[0m\u001b[0m\n\u001b[1;32m    888\u001b[0m         \u001b[0;32melse\u001b[0m\u001b[0;34m:\u001b[0m\u001b[0;34m\u001b[0m\u001b[0;34m\u001b[0m\u001b[0m\n\u001b[0;32m--> 889\u001b[0;31m             \u001b[0mresult\u001b[0m \u001b[0;34m=\u001b[0m \u001b[0mself\u001b[0m\u001b[0;34m.\u001b[0m\u001b[0mforward\u001b[0m\u001b[0;34m(\u001b[0m\u001b[0;34m*\u001b[0m\u001b[0minput\u001b[0m\u001b[0;34m,\u001b[0m \u001b[0;34m**\u001b[0m\u001b[0mkwargs\u001b[0m\u001b[0;34m)\u001b[0m\u001b[0;34m\u001b[0m\u001b[0;34m\u001b[0m\u001b[0m\n\u001b[0m\u001b[1;32m    890\u001b[0m         for hook in itertools.chain(\n\u001b[1;32m    891\u001b[0m                 \u001b[0m_global_forward_hooks\u001b[0m\u001b[0;34m.\u001b[0m\u001b[0mvalues\u001b[0m\u001b[0;34m(\u001b[0m\u001b[0;34m)\u001b[0m\u001b[0;34m,\u001b[0m\u001b[0;34m\u001b[0m\u001b[0;34m\u001b[0m\u001b[0m\n",
            "\u001b[0;32m<ipython-input-4-36c7808850c4>\u001b[0m in \u001b[0;36mforward\u001b[0;34m(self, x)\u001b[0m\n\u001b[1;32m      6\u001b[0m \u001b[0;34m\u001b[0m\u001b[0m\n\u001b[1;32m      7\u001b[0m   \u001b[0;32mdef\u001b[0m \u001b[0mforward\u001b[0m\u001b[0;34m(\u001b[0m\u001b[0mself\u001b[0m\u001b[0;34m,\u001b[0m\u001b[0mx\u001b[0m\u001b[0;34m)\u001b[0m\u001b[0;34m:\u001b[0m\u001b[0;34m\u001b[0m\u001b[0;34m\u001b[0m\u001b[0m\n\u001b[0;32m----> 8\u001b[0;31m     \u001b[0mx\u001b[0m\u001b[0;34m,\u001b[0m \u001b[0m_\u001b[0m \u001b[0;34m=\u001b[0m \u001b[0mself\u001b[0m\u001b[0;34m.\u001b[0m\u001b[0mLMU\u001b[0m\u001b[0;34m(\u001b[0m\u001b[0mx\u001b[0m\u001b[0;34m)\u001b[0m\u001b[0;34m\u001b[0m\u001b[0;34m\u001b[0m\u001b[0m\n\u001b[0m\u001b[1;32m      9\u001b[0m     \u001b[0mx\u001b[0m \u001b[0;34m=\u001b[0m \u001b[0mself\u001b[0m\u001b[0;34m.\u001b[0m\u001b[0mdense\u001b[0m\u001b[0;34m(\u001b[0m\u001b[0mx\u001b[0m\u001b[0;34m[\u001b[0m\u001b[0;34m:\u001b[0m\u001b[0;34m,\u001b[0m\u001b[0;34m-\u001b[0m\u001b[0;36m1\u001b[0m\u001b[0;34m,\u001b[0m\u001b[0;34m:\u001b[0m\u001b[0;34m]\u001b[0m\u001b[0;34m)\u001b[0m\u001b[0;34m\u001b[0m\u001b[0;34m\u001b[0m\u001b[0m\n\u001b[1;32m     10\u001b[0m \u001b[0;34m\u001b[0m\u001b[0m\n",
            "\u001b[0;32m/usr/local/lib/python3.7/dist-packages/torch/nn/modules/module.py\u001b[0m in \u001b[0;36m_call_impl\u001b[0;34m(self, *input, **kwargs)\u001b[0m\n\u001b[1;32m    887\u001b[0m             \u001b[0mresult\u001b[0m \u001b[0;34m=\u001b[0m \u001b[0mself\u001b[0m\u001b[0;34m.\u001b[0m\u001b[0m_slow_forward\u001b[0m\u001b[0;34m(\u001b[0m\u001b[0;34m*\u001b[0m\u001b[0minput\u001b[0m\u001b[0;34m,\u001b[0m \u001b[0;34m**\u001b[0m\u001b[0mkwargs\u001b[0m\u001b[0;34m)\u001b[0m\u001b[0;34m\u001b[0m\u001b[0;34m\u001b[0m\u001b[0m\n\u001b[1;32m    888\u001b[0m         \u001b[0;32melse\u001b[0m\u001b[0;34m:\u001b[0m\u001b[0;34m\u001b[0m\u001b[0;34m\u001b[0m\u001b[0m\n\u001b[0;32m--> 889\u001b[0;31m             \u001b[0mresult\u001b[0m \u001b[0;34m=\u001b[0m \u001b[0mself\u001b[0m\u001b[0;34m.\u001b[0m\u001b[0mforward\u001b[0m\u001b[0;34m(\u001b[0m\u001b[0;34m*\u001b[0m\u001b[0minput\u001b[0m\u001b[0;34m,\u001b[0m \u001b[0;34m**\u001b[0m\u001b[0mkwargs\u001b[0m\u001b[0;34m)\u001b[0m\u001b[0;34m\u001b[0m\u001b[0;34m\u001b[0m\u001b[0m\n\u001b[0m\u001b[1;32m    890\u001b[0m         for hook in itertools.chain(\n\u001b[1;32m    891\u001b[0m                 \u001b[0m_global_forward_hooks\u001b[0m\u001b[0;34m.\u001b[0m\u001b[0mvalues\u001b[0m\u001b[0;34m(\u001b[0m\u001b[0;34m)\u001b[0m\u001b[0;34m,\u001b[0m\u001b[0;34m\u001b[0m\u001b[0;34m\u001b[0m\u001b[0m\n",
            "\u001b[0;32m<ipython-input-2-f4125ed53047>\u001b[0m in \u001b[0;36mforward\u001b[0;34m(self, xt)\u001b[0m\n\u001b[1;32m     98\u001b[0m     \u001b[0mstates\u001b[0m \u001b[0;34m=\u001b[0m \u001b[0;34m(\u001b[0m\u001b[0mh0\u001b[0m\u001b[0;34m,\u001b[0m\u001b[0mm0\u001b[0m\u001b[0;34m)\u001b[0m\u001b[0;34m\u001b[0m\u001b[0;34m\u001b[0m\u001b[0m\n\u001b[1;32m     99\u001b[0m     \u001b[0;32mfor\u001b[0m \u001b[0mi\u001b[0m \u001b[0;32min\u001b[0m \u001b[0mrange\u001b[0m\u001b[0;34m(\u001b[0m\u001b[0mxt\u001b[0m\u001b[0;34m.\u001b[0m\u001b[0msize\u001b[0m\u001b[0;34m(\u001b[0m\u001b[0;36m1\u001b[0m\u001b[0;34m)\u001b[0m\u001b[0;34m)\u001b[0m\u001b[0;34m:\u001b[0m\u001b[0;34m\u001b[0m\u001b[0;34m\u001b[0m\u001b[0m\n\u001b[0;32m--> 100\u001b[0;31m       \u001b[0mout\u001b[0m\u001b[0;34m,\u001b[0m \u001b[0mstates\u001b[0m \u001b[0;34m=\u001b[0m \u001b[0mself\u001b[0m\u001b[0;34m.\u001b[0m\u001b[0mlmucell\u001b[0m\u001b[0;34m(\u001b[0m\u001b[0mxt\u001b[0m\u001b[0;34m[\u001b[0m\u001b[0;34m:\u001b[0m\u001b[0;34m,\u001b[0m\u001b[0mi\u001b[0m\u001b[0;34m,\u001b[0m\u001b[0;34m:\u001b[0m\u001b[0;34m]\u001b[0m\u001b[0;34m,\u001b[0m \u001b[0mstates\u001b[0m\u001b[0;34m)\u001b[0m\u001b[0;34m\u001b[0m\u001b[0;34m\u001b[0m\u001b[0m\n\u001b[0m\u001b[1;32m    101\u001b[0m       \u001b[0moutputs\u001b[0m \u001b[0;34m+=\u001b[0m \u001b[0;34m[\u001b[0m\u001b[0mout\u001b[0m\u001b[0;34m]\u001b[0m\u001b[0;34m\u001b[0m\u001b[0;34m\u001b[0m\u001b[0m\n\u001b[1;32m    102\u001b[0m     \u001b[0;32mreturn\u001b[0m \u001b[0mtorch\u001b[0m\u001b[0;34m.\u001b[0m\u001b[0mstack\u001b[0m\u001b[0;34m(\u001b[0m\u001b[0moutputs\u001b[0m\u001b[0;34m)\u001b[0m\u001b[0;34m.\u001b[0m\u001b[0mpermute\u001b[0m\u001b[0;34m(\u001b[0m\u001b[0;36m1\u001b[0m\u001b[0;34m,\u001b[0m\u001b[0;36m0\u001b[0m\u001b[0;34m,\u001b[0m\u001b[0;36m2\u001b[0m\u001b[0;34m)\u001b[0m\u001b[0;34m,\u001b[0m \u001b[0mstates\u001b[0m\u001b[0;34m\u001b[0m\u001b[0;34m\u001b[0m\u001b[0m\n",
            "\u001b[0;32m/usr/local/lib/python3.7/dist-packages/torch/nn/modules/module.py\u001b[0m in \u001b[0;36m_call_impl\u001b[0;34m(self, *input, **kwargs)\u001b[0m\n\u001b[1;32m    887\u001b[0m             \u001b[0mresult\u001b[0m \u001b[0;34m=\u001b[0m \u001b[0mself\u001b[0m\u001b[0;34m.\u001b[0m\u001b[0m_slow_forward\u001b[0m\u001b[0;34m(\u001b[0m\u001b[0;34m*\u001b[0m\u001b[0minput\u001b[0m\u001b[0;34m,\u001b[0m \u001b[0;34m**\u001b[0m\u001b[0mkwargs\u001b[0m\u001b[0;34m)\u001b[0m\u001b[0;34m\u001b[0m\u001b[0;34m\u001b[0m\u001b[0m\n\u001b[1;32m    888\u001b[0m         \u001b[0;32melse\u001b[0m\u001b[0;34m:\u001b[0m\u001b[0;34m\u001b[0m\u001b[0;34m\u001b[0m\u001b[0m\n\u001b[0;32m--> 889\u001b[0;31m             \u001b[0mresult\u001b[0m \u001b[0;34m=\u001b[0m \u001b[0mself\u001b[0m\u001b[0;34m.\u001b[0m\u001b[0mforward\u001b[0m\u001b[0;34m(\u001b[0m\u001b[0;34m*\u001b[0m\u001b[0minput\u001b[0m\u001b[0;34m,\u001b[0m \u001b[0;34m**\u001b[0m\u001b[0mkwargs\u001b[0m\u001b[0;34m)\u001b[0m\u001b[0;34m\u001b[0m\u001b[0;34m\u001b[0m\u001b[0m\n\u001b[0m\u001b[1;32m    890\u001b[0m         for hook in itertools.chain(\n\u001b[1;32m    891\u001b[0m                 \u001b[0m_global_forward_hooks\u001b[0m\u001b[0;34m.\u001b[0m\u001b[0mvalues\u001b[0m\u001b[0;34m(\u001b[0m\u001b[0;34m)\u001b[0m\u001b[0;34m,\u001b[0m\u001b[0;34m\u001b[0m\u001b[0;34m\u001b[0m\u001b[0m\n",
            "\u001b[0;31mKeyboardInterrupt\u001b[0m: "
          ]
        }
      ]
    },
    {
      "cell_type": "markdown",
      "metadata": {
        "id": "jNhiHpgMtMTo"
      },
      "source": [
        "#LSTM on psMNIST"
      ]
    },
    {
      "cell_type": "code",
      "metadata": {
        "trusted": true,
        "colab": {
          "base_uri": "https://localhost:8080/"
        },
        "id": "yzgsXqJO0JFL",
        "outputId": "f8f0362f-2597-4e4f-f6d0-2154512a6066"
      },
      "source": [
        "# LSTM\n",
        "\n",
        "from tqdm import tqdm\n",
        "import torch.utils.data as data\n",
        "\n",
        "\n",
        "\n",
        "model = LSTMModel().cuda()\n",
        "print(\"\\nnumber of paramaters : \", sum(p.numel() for p in model.parameters() if p.requires_grad))\n",
        "print(\"\\n\\n\")\n",
        "criterion = nn.CrossEntropyLoss()\n",
        "optimizer = torch.optim.Adam(model.parameters(), lr=0.001)\n",
        "model.train()\n",
        "print(model)\n",
        "dataset = torch.utils.data.TensorDataset(torch.Tensor(train_X[:50000]).cuda(), torch.Tensor(train_Y[:50000]).long().cuda())\n",
        "dataset = data.DataLoader(dataset, batch_size=16, shuffle=True)\n",
        "\n",
        "dataset_valid = torch.utils.data.TensorDataset(torch.Tensor(test_X[:10000]).cuda(), torch.Tensor(test_Y[:10000]).long().cuda())\n",
        "dataset_valid = data.DataLoader(dataset_valid, batch_size=16, shuffle=False)\n",
        "\n",
        "train(model, 40, dataset, dataset_valid)"
      ],
      "execution_count": 17,
      "outputs": [
        {
          "output_type": "stream",
          "text": [
            "\r  0%|          | 0/3125 [00:00<?, ?it/s]"
          ],
          "name": "stderr"
        },
        {
          "output_type": "stream",
          "text": [
            "\n",
            "number of paramaters :  3060\n",
            "\n",
            "\n",
            "\n",
            "LSTMModel(\n",
            "  (LSTM): LSTM(1, 25, batch_first=True)\n",
            "  (dense): Linear(in_features=25, out_features=10, bias=True)\n",
            ")\n"
          ],
          "name": "stdout"
        },
        {
          "output_type": "stream",
          "text": [
            "Epoch 0 - Training loss: 1.9523055380630494, Accuracy=0.27672: 100%|██████████| 3125/3125 [01:06<00:00, 47.21it/s]\n",
            "Epoch 0 - Validation loss: 1.7446451532363891, Accuracy=0.3426: 100%|██████████| 625/625 [00:07<00:00, 85.06it/s]\n",
            "Epoch 1 - Training loss: 1.7132188535499573, Accuracy=0.37412: 100%|██████████| 3125/3125 [01:06<00:00, 47.31it/s]\n",
            "Epoch 1 - Validation loss: 1.6087102910041808, Accuracy=0.4116: 100%|██████████| 625/625 [00:07<00:00, 85.55it/s]\n",
            "Epoch 2 - Training loss: 1.6295713483047485, Accuracy=0.41122: 100%|██████████| 3125/3125 [01:06<00:00, 47.09it/s]\n",
            "Epoch 2 - Validation loss: 1.534537648010254, Accuracy=0.4488: 100%|██████████| 625/625 [00:07<00:00, 85.43it/s]\n",
            "Epoch 3 - Training loss: 1.5435222569847107, Accuracy=0.45262: 100%|██████████| 3125/3125 [01:06<00:00, 47.11it/s]\n",
            "Epoch 3 - Validation loss: 1.587575729084015, Accuracy=0.4394: 100%|██████████| 625/625 [00:07<00:00, 85.00it/s]\n",
            "Epoch 4 - Training loss: 1.480142437133789, Accuracy=0.48096: 100%|██████████| 3125/3125 [01:06<00:00, 46.97it/s]\n",
            "Epoch 4 - Validation loss: 1.3985553030014037, Accuracy=0.502: 100%|██████████| 625/625 [00:07<00:00, 85.12it/s]\n",
            "Epoch 5 - Training loss: 1.4354119479179381, Accuracy=0.5: 100%|██████████| 3125/3125 [01:06<00:00, 47.23it/s]\n",
            "Epoch 5 - Validation loss: 1.3585696071624755, Accuracy=0.5199: 100%|██████████| 625/625 [00:07<00:00, 85.36it/s]\n",
            "Epoch 6 - Training loss: 1.3785214530944825, Accuracy=0.51818: 100%|██████████| 3125/3125 [01:06<00:00, 47.07it/s]\n",
            "Epoch 6 - Validation loss: 1.316185219669342, Accuracy=0.5445: 100%|██████████| 625/625 [00:07<00:00, 86.24it/s]\n",
            "Epoch 7 - Training loss: 1.399661831626892, Accuracy=0.51514: 100%|██████████| 3125/3125 [01:06<00:00, 47.12it/s]\n",
            "Epoch 7 - Validation loss: 1.3342636192321777, Accuracy=0.5366: 100%|██████████| 625/625 [00:07<00:00, 84.92it/s]\n",
            "Epoch 8 - Training loss: 1.353121154346466, Accuracy=0.5332: 100%|██████████| 3125/3125 [01:06<00:00, 47.25it/s]\n",
            "Epoch 8 - Validation loss: 1.2618064737319947, Accuracy=0.5643: 100%|██████████| 625/625 [00:07<00:00, 84.18it/s]\n",
            "Epoch 9 - Training loss: 1.3007831544685364, Accuracy=0.54978: 100%|██████████| 3125/3125 [01:06<00:00, 46.98it/s]\n",
            "Epoch 9 - Validation loss: 1.225262301826477, Accuracy=0.5704: 100%|██████████| 625/625 [00:07<00:00, 84.55it/s]\n",
            "Epoch 10 - Training loss: 1.2503441811561584, Accuracy=0.56584: 100%|██████████| 3125/3125 [01:06<00:00, 46.96it/s]\n",
            "Epoch 10 - Validation loss: 1.2039261649608612, Accuracy=0.58: 100%|██████████| 625/625 [00:07<00:00, 83.72it/s]\n",
            "Epoch 11 - Training loss: 1.2504044997024537, Accuracy=0.56684: 100%|██████████| 3125/3125 [01:06<00:00, 46.85it/s]\n",
            "Epoch 11 - Validation loss: 1.329633674621582, Accuracy=0.5391: 100%|██████████| 625/625 [00:07<00:00, 83.57it/s]\n",
            "Epoch 12 - Training loss: 1.2356694946670532, Accuracy=0.57338: 100%|██████████| 3125/3125 [01:06<00:00, 46.94it/s]\n",
            "Epoch 12 - Validation loss: 1.1915731004714967, Accuracy=0.5803: 100%|██████████| 625/625 [00:07<00:00, 82.73it/s]\n",
            "Epoch 13 - Training loss: 1.413668933506012, Accuracy=0.51074: 100%|██████████| 3125/3125 [01:06<00:00, 46.89it/s]\n",
            "Epoch 13 - Validation loss: 1.253435057258606, Accuracy=0.5597: 100%|██████████| 625/625 [00:07<00:00, 84.33it/s]\n",
            "Epoch 14 - Training loss: 1.3096220202064515, Accuracy=0.54426: 100%|██████████| 3125/3125 [01:07<00:00, 46.50it/s]\n",
            "Epoch 14 - Validation loss: 1.1259245371818543, Accuracy=0.6119: 100%|██████████| 625/625 [00:07<00:00, 83.79it/s]\n",
            "Epoch 15 - Training loss: 1.1782695846176148, Accuracy=0.59434: 100%|██████████| 3125/3125 [01:06<00:00, 46.70it/s]\n",
            "Epoch 15 - Validation loss: 1.097896198129654, Accuracy=0.6188: 100%|██████████| 625/625 [00:07<00:00, 85.08it/s]\n",
            "Epoch 16 - Training loss: 1.1181579052829742, Accuracy=0.61152: 100%|██████████| 3125/3125 [01:07<00:00, 46.41it/s]\n",
            "Epoch 16 - Validation loss: 1.0718025485038758, Accuracy=0.6314: 100%|██████████| 625/625 [00:07<00:00, 82.06it/s]\n",
            "Epoch 17 - Training loss: 1.0933924849033356, Accuracy=0.62628: 100%|██████████| 3125/3125 [01:07<00:00, 46.46it/s]\n",
            "Epoch 17 - Validation loss: 1.0116849419116973, Accuracy=0.6563: 100%|██████████| 625/625 [00:07<00:00, 83.82it/s]\n",
            "Epoch 18 - Training loss: 1.4292367324352264, Accuracy=0.54874: 100%|██████████| 3125/3125 [01:07<00:00, 46.56it/s]\n",
            "Epoch 18 - Validation loss: 2.7550071907043456, Accuracy=0.1394: 100%|██████████| 625/625 [00:07<00:00, 84.00it/s]\n",
            "Epoch 19 - Training loss: 2.131212350959778, Accuracy=0.22336: 100%|██████████| 3125/3125 [01:07<00:00, 46.61it/s]\n",
            "Epoch 19 - Validation loss: 1.9135961217880249, Accuracy=0.3052: 100%|██████████| 625/625 [00:07<00:00, 84.00it/s]\n",
            "Epoch 20 - Training loss: 1.8742109746551514, Accuracy=0.31362: 100%|██████████| 3125/3125 [01:07<00:00, 46.56it/s]\n",
            "Epoch 20 - Validation loss: 1.80021849193573, Accuracy=0.338: 100%|██████████| 625/625 [00:07<00:00, 81.01it/s]\n",
            "Epoch 21 - Training loss: 1.691289424571991, Accuracy=0.36544: 100%|██████████| 3125/3125 [01:07<00:00, 46.47it/s]\n",
            "Epoch 21 - Validation loss: 1.570418298435211, Accuracy=0.424: 100%|██████████| 625/625 [00:07<00:00, 83.21it/s]\n",
            "Epoch 22 - Training loss: 1.454302905960083, Accuracy=0.47714: 100%|██████████| 3125/3125 [01:07<00:00, 46.38it/s]\n",
            "Epoch 22 - Validation loss: 1.2588697485923768, Accuracy=0.5665: 100%|██████████| 625/625 [00:07<00:00, 83.69it/s]\n",
            "Epoch 23 - Training loss: 1.1497879675388336, Accuracy=0.60634: 100%|██████████| 3125/3125 [01:07<00:00, 46.58it/s]\n",
            "Epoch 23 - Validation loss: 1.0399271837234496, Accuracy=0.6527: 100%|██████████| 625/625 [00:07<00:00, 82.33it/s]\n",
            "Epoch 24 - Training loss: 1.0470738602161407, Accuracy=0.64462: 100%|██████████| 3125/3125 [01:07<00:00, 46.35it/s]\n",
            "Epoch 24 - Validation loss: 0.9842683304786682, Accuracy=0.6682: 100%|██████████| 625/625 [00:07<00:00, 82.26it/s]\n",
            "Epoch 25 - Training loss: 0.9930027287197113, Accuracy=0.66222: 100%|██████████| 3125/3125 [01:08<00:00, 45.82it/s]\n",
            "Epoch 25 - Validation loss: 0.9751567371368408, Accuracy=0.6743: 100%|██████████| 625/625 [00:07<00:00, 82.08it/s]\n",
            "Epoch 26 - Training loss: 0.9592301805305481, Accuracy=0.67448: 100%|██████████| 3125/3125 [01:07<00:00, 46.07it/s]\n",
            "Epoch 26 - Validation loss: 0.9292224388122559, Accuracy=0.6842: 100%|██████████| 625/625 [00:07<00:00, 83.19it/s]\n",
            "Epoch 27 - Training loss: 0.9283539884233475, Accuracy=0.68548: 100%|██████████| 3125/3125 [01:07<00:00, 46.18it/s]\n",
            "Epoch 27 - Validation loss: 0.9226892475128173, Accuracy=0.6889: 100%|██████████| 625/625 [00:07<00:00, 81.66it/s]\n",
            "Epoch 28 - Training loss: 0.9101126831388473, Accuracy=0.69166: 100%|██████████| 3125/3125 [01:08<00:00, 45.90it/s]\n",
            "Epoch 28 - Validation loss: 0.8907472275018692, Accuracy=0.7049: 100%|██████████| 625/625 [00:07<00:00, 81.74it/s]\n",
            "Epoch 29 - Training loss: 0.8904292936992645, Accuracy=0.6993: 100%|██████████| 3125/3125 [01:07<00:00, 46.05it/s]\n",
            "Epoch 29 - Validation loss: 0.8562068881034851, Accuracy=0.712: 100%|██████████| 625/625 [00:07<00:00, 80.90it/s]\n",
            "Epoch 30 - Training loss: 0.8742815920734406, Accuracy=0.70536: 100%|██████████| 3125/3125 [01:08<00:00, 45.93it/s]\n",
            "Epoch 30 - Validation loss: 0.8456101422071457, Accuracy=0.7188: 100%|██████████| 625/625 [00:07<00:00, 82.24it/s]\n",
            "Epoch 31 - Training loss: 0.8569698144865036, Accuracy=0.71246: 100%|██████████| 3125/3125 [01:07<00:00, 46.06it/s]\n",
            "Epoch 31 - Validation loss: 0.8240585252285003, Accuracy=0.7306: 100%|██████████| 625/625 [00:07<00:00, 81.16it/s]\n",
            "Epoch 32 - Training loss: 0.839550195941925, Accuracy=0.71796: 100%|██████████| 3125/3125 [01:08<00:00, 45.78it/s]\n",
            "Epoch 32 - Validation loss: 0.8246016327381134, Accuracy=0.7294: 100%|██████████| 625/625 [00:07<00:00, 81.95it/s]\n",
            "Epoch 33 - Training loss: 0.825785990114212, Accuracy=0.723: 100%|██████████| 3125/3125 [01:08<00:00, 45.81it/s]\n",
            "Epoch 33 - Validation loss: 0.8132649875044823, Accuracy=0.7276: 100%|██████████| 625/625 [00:07<00:00, 81.60it/s]\n",
            "Epoch 34 - Training loss: 0.8128950962877274, Accuracy=0.72666: 100%|██████████| 3125/3125 [01:08<00:00, 45.94it/s]\n",
            "Epoch 34 - Validation loss: 0.7928573950529099, Accuracy=0.7358: 100%|██████████| 625/625 [00:07<00:00, 79.48it/s]\n",
            "Epoch 35 - Training loss: 0.8021615208601952, Accuracy=0.73148: 100%|██████████| 3125/3125 [01:08<00:00, 45.64it/s]\n",
            "Epoch 35 - Validation loss: 0.7938126763343811, Accuracy=0.734: 100%|██████████| 625/625 [00:07<00:00, 81.99it/s]\n",
            "Epoch 36 - Training loss: 0.7977507302999497, Accuracy=0.73186: 100%|██████████| 3125/3125 [01:08<00:00, 45.51it/s]\n",
            "Epoch 36 - Validation loss: 0.7781794527411461, Accuracy=0.7371: 100%|██████████| 625/625 [00:07<00:00, 81.66it/s]\n",
            "Epoch 37 - Training loss: 0.783786400103569, Accuracy=0.73704: 100%|██████████| 3125/3125 [01:08<00:00, 45.66it/s]\n",
            "Epoch 37 - Validation loss: 0.7728942855596542, Accuracy=0.7503: 100%|██████████| 625/625 [00:07<00:00, 79.86it/s]\n",
            "Epoch 38 - Training loss: 0.7749484930467606, Accuracy=0.74154: 100%|██████████| 3125/3125 [01:09<00:00, 45.22it/s]\n",
            "Epoch 38 - Validation loss: 0.7762588341474533, Accuracy=0.7456: 100%|██████████| 625/625 [00:07<00:00, 80.85it/s]\n",
            "Epoch 39 - Training loss: 0.768416091530323, Accuracy=0.74324: 100%|██████████| 3125/3125 [01:08<00:00, 45.68it/s]\n",
            "Epoch 39 - Validation loss: 0.7488651820302009, Accuracy=0.7495: 100%|██████████| 625/625 [00:07<00:00, 80.66it/s]\n"
          ],
          "name": "stderr"
        }
      ]
    },
    {
      "cell_type": "code",
      "metadata": {
        "id": "GW9FuiMGIJ3q",
        "trusted": true
      },
      "source": [
        "PATH=\"lstm_trained_till50\"\n",
        "torch.save(model, PATH)"
      ],
      "execution_count": 19,
      "outputs": []
    },
    {
      "cell_type": "code",
      "metadata": {
        "id": "lX1bhA4PpiSb",
        "colab": {
          "base_uri": "https://localhost:8080/"
        },
        "outputId": "b59b77d3-01d6-4601-ede8-8014e9076870"
      },
      "source": [
        "model=torch.load(PATH)\n",
        "model.train()\n",
        "criterion = nn.CrossEntropyLoss()\n",
        "optimizer = torch.optim.Adam(model.parameters(), lr=0.001)\n",
        "# model2.eval()\n",
        "train(model, 40, dataset, dataset_valid)"
      ],
      "execution_count": 23,
      "outputs": [
        {
          "output_type": "stream",
          "text": [
            "Epoch 0 - Training loss: 0.7596889839744568, Accuracy=0.74712: 100%|██████████| 3125/3125 [01:06<00:00, 47.09it/s]\n",
            "Epoch 0 - Validation loss: 0.7418259455919266, Accuracy=0.7522: 100%|██████████| 625/625 [00:07<00:00, 85.88it/s]\n",
            "Epoch 1 - Training loss: 0.7542470056915284, Accuracy=0.7499: 100%|██████████| 3125/3125 [01:06<00:00, 46.96it/s]\n",
            "Epoch 1 - Validation loss: 0.7344899915456772, Accuracy=0.7562: 100%|██████████| 625/625 [00:07<00:00, 85.04it/s]\n",
            "Epoch 2 - Training loss: 0.7440022995567321, Accuracy=0.75258: 100%|██████████| 3125/3125 [01:06<00:00, 47.01it/s]\n",
            "Epoch 2 - Validation loss: 0.7474327266097068, Accuracy=0.7539: 100%|██████████| 625/625 [00:07<00:00, 84.56it/s]\n",
            "Epoch 3 - Training loss: 0.7385526981067657, Accuracy=0.7555: 100%|██████████| 3125/3125 [01:06<00:00, 46.92it/s]\n",
            "Epoch 3 - Validation loss: 0.7258789403557777, Accuracy=0.7603: 100%|██████████| 625/625 [00:07<00:00, 84.49it/s]\n",
            "Epoch 4 - Training loss: 0.7328782888221741, Accuracy=0.75666: 100%|██████████| 3125/3125 [01:06<00:00, 47.07it/s]\n",
            "Epoch 4 - Validation loss: 0.7087153952360153, Accuracy=0.7683: 100%|██████████| 625/625 [00:07<00:00, 85.19it/s]\n",
            "Epoch 5 - Training loss: 0.7265238167333603, Accuracy=0.75996: 100%|██████████| 3125/3125 [01:06<00:00, 46.98it/s]\n",
            "Epoch 5 - Validation loss: 0.7136981351137162, Accuracy=0.7659: 100%|██████████| 625/625 [00:07<00:00, 83.57it/s]\n",
            "Epoch 6 - Training loss: 0.7209495568847656, Accuracy=0.76272: 100%|██████████| 3125/3125 [01:06<00:00, 46.85it/s]\n",
            "Epoch 6 - Validation loss: 0.7636520570516586, Accuracy=0.7476: 100%|██████████| 625/625 [00:07<00:00, 85.16it/s]\n",
            "Epoch 7 - Training loss: 0.7156607500886917, Accuracy=0.76332: 100%|██████████| 3125/3125 [01:06<00:00, 46.87it/s]\n",
            "Epoch 7 - Validation loss: 0.7223104016184807, Accuracy=0.7613: 100%|██████████| 625/625 [00:07<00:00, 84.91it/s]\n",
            "Epoch 8 - Training loss: 0.7095705739402771, Accuracy=0.7648: 100%|██████████| 3125/3125 [01:06<00:00, 46.81it/s]\n",
            "Epoch 8 - Validation loss: 0.7010379191994667, Accuracy=0.7721: 100%|██████████| 625/625 [00:07<00:00, 84.36it/s]\n",
            "Epoch 9 - Training loss: 0.7051479939723014, Accuracy=0.76832: 100%|██████████| 3125/3125 [01:06<00:00, 46.90it/s]\n",
            "Epoch 9 - Validation loss: 0.6997448213338852, Accuracy=0.7711: 100%|██████████| 625/625 [00:07<00:00, 83.68it/s]\n",
            "Epoch 10 - Training loss: 0.7014021722483635, Accuracy=0.7686: 100%|██████████| 3125/3125 [01:07<00:00, 46.40it/s]\n",
            "Epoch 10 - Validation loss: 0.7017044071435928, Accuracy=0.7721: 100%|██████████| 625/625 [00:07<00:00, 84.35it/s]\n",
            "Epoch 11 - Training loss: 0.6950578046798706, Accuracy=0.77108: 100%|██████████| 3125/3125 [01:07<00:00, 46.51it/s]\n",
            "Epoch 11 - Validation loss: 0.7023504607200622, Accuracy=0.7674: 100%|██████████| 625/625 [00:07<00:00, 84.37it/s]\n",
            "Epoch 12 - Training loss: 0.6906125117325783, Accuracy=0.77316: 100%|██████████| 3125/3125 [01:07<00:00, 46.55it/s]\n",
            "Epoch 12 - Validation loss: 0.6941627337694168, Accuracy=0.7698: 100%|██████████| 625/625 [00:07<00:00, 83.24it/s]\n",
            "Epoch 13 - Training loss: 0.6853352505207062, Accuracy=0.77326: 100%|██████████| 3125/3125 [01:07<00:00, 46.46it/s]\n",
            "Epoch 13 - Validation loss: 0.6938473085522652, Accuracy=0.7705: 100%|██████████| 625/625 [00:07<00:00, 83.49it/s]\n",
            "Epoch 14 - Training loss: 0.6808773625087738, Accuracy=0.77516: 100%|██████████| 3125/3125 [01:07<00:00, 46.27it/s]\n",
            "Epoch 14 - Validation loss: 0.6758155992031097, Accuracy=0.7774: 100%|██████████| 625/625 [00:07<00:00, 83.21it/s]\n",
            "Epoch 15 - Training loss: 0.6772395654201507, Accuracy=0.77752: 100%|██████████| 3125/3125 [01:07<00:00, 46.37it/s]\n",
            "Epoch 15 - Validation loss: 0.6827424998998642, Accuracy=0.7751: 100%|██████████| 625/625 [00:07<00:00, 84.04it/s]\n",
            "Epoch 16 - Training loss: 0.6711997234296798, Accuracy=0.77906: 100%|██████████| 3125/3125 [01:07<00:00, 46.49it/s]\n",
            "Epoch 16 - Validation loss: 0.6810663357317448, Accuracy=0.7768: 100%|██████████| 625/625 [00:07<00:00, 84.51it/s]\n",
            "Epoch 17 - Training loss: 0.6695153839349747, Accuracy=0.77826: 100%|██████████| 3125/3125 [01:07<00:00, 46.45it/s]\n",
            "Epoch 17 - Validation loss: 0.6879099038898945, Accuracy=0.774: 100%|██████████| 625/625 [00:07<00:00, 83.50it/s]\n",
            "Epoch 18 - Training loss: 0.6655896148204804, Accuracy=0.78098: 100%|██████████| 3125/3125 [01:08<00:00, 45.91it/s]\n",
            "Epoch 18 - Validation loss: 0.6814989476799965, Accuracy=0.7752: 100%|██████████| 625/625 [00:07<00:00, 83.34it/s]\n",
            "Epoch 19 - Training loss: 0.6619371353125573, Accuracy=0.78306: 100%|██████████| 3125/3125 [01:07<00:00, 46.15it/s]\n",
            "Epoch 19 - Validation loss: 0.6599926283657551, Accuracy=0.7852: 100%|██████████| 625/625 [00:07<00:00, 83.69it/s]\n",
            "Epoch 20 - Training loss: 0.6567395469045639, Accuracy=0.78472: 100%|██████████| 3125/3125 [01:07<00:00, 46.18it/s]\n",
            "Epoch 20 - Validation loss: 0.6580437712311745, Accuracy=0.7863: 100%|██████████| 625/625 [00:07<00:00, 82.83it/s]\n",
            "Epoch 21 - Training loss: 0.6549209450936317, Accuracy=0.785: 100%|██████████| 3125/3125 [01:07<00:00, 46.28it/s]\n",
            "Epoch 21 - Validation loss: 0.6721641103506089, Accuracy=0.7787: 100%|██████████| 625/625 [00:07<00:00, 83.18it/s]\n",
            "Epoch 22 - Training loss: 0.6509035829496383, Accuracy=0.78602: 100%|██████████| 3125/3125 [01:08<00:00, 45.91it/s]\n",
            "Epoch 22 - Validation loss: 0.6694217051625252, Accuracy=0.7814: 100%|██████████| 625/625 [00:07<00:00, 82.54it/s]\n",
            "Epoch 23 - Training loss: 0.6486630186390877, Accuracy=0.78716: 100%|██████████| 3125/3125 [01:07<00:00, 46.25it/s]\n",
            "Epoch 23 - Validation loss: 0.6495187781572342, Accuracy=0.7901: 100%|██████████| 625/625 [00:07<00:00, 83.03it/s]\n",
            "Epoch 24 - Training loss: 0.6447489607667923, Accuracy=0.78802: 100%|██████████| 3125/3125 [01:07<00:00, 46.07it/s]\n",
            "Epoch 24 - Validation loss: 0.6511643961548805, Accuracy=0.7865: 100%|██████████| 625/625 [00:07<00:00, 82.85it/s]\n",
            "Epoch 25 - Training loss: 0.6438996342468262, Accuracy=0.79016: 100%|██████████| 3125/3125 [01:08<00:00, 45.83it/s]\n",
            "Epoch 25 - Validation loss: 0.6626608514487743, Accuracy=0.7843: 100%|██████████| 625/625 [00:07<00:00, 81.25it/s]\n",
            "Epoch 26 - Training loss: 0.6404667777848244, Accuracy=0.79036: 100%|██████████| 3125/3125 [01:08<00:00, 45.74it/s]\n",
            "Epoch 26 - Validation loss: 0.692067765623331, Accuracy=0.7734: 100%|██████████| 625/625 [00:07<00:00, 81.48it/s]\n",
            "Epoch 27 - Training loss: 0.6361896338963509, Accuracy=0.79062: 100%|██████████| 3125/3125 [01:08<00:00, 45.81it/s]\n",
            "Epoch 27 - Validation loss: 0.6359053196907043, Accuracy=0.7914: 100%|██████████| 625/625 [00:07<00:00, 81.20it/s]\n",
            "Epoch 28 - Training loss: 0.6319664606094361, Accuracy=0.79344: 100%|██████████| 3125/3125 [01:08<00:00, 45.86it/s]\n",
            "Epoch 28 - Validation loss: 0.6500829800784588, Accuracy=0.7868: 100%|██████████| 625/625 [00:07<00:00, 80.78it/s]\n",
            "Epoch 29 - Training loss: 0.6317334715390205, Accuracy=0.79434: 100%|██████████| 3125/3125 [01:08<00:00, 45.71it/s]\n",
            "Epoch 29 - Validation loss: 0.6443343738794327, Accuracy=0.7895: 100%|██████████| 625/625 [00:07<00:00, 81.22it/s]\n",
            "Epoch 30 - Training loss: 0.6292749836349487, Accuracy=0.79274: 100%|██████████| 3125/3125 [01:08<00:00, 45.64it/s]\n",
            "Epoch 30 - Validation loss: 0.635983823364973, Accuracy=0.7894: 100%|██████████| 625/625 [00:07<00:00, 81.21it/s]\n",
            "Epoch 31 - Training loss: 0.6238407368445397, Accuracy=0.79496: 100%|██████████| 3125/3125 [01:08<00:00, 45.68it/s]\n",
            "Epoch 31 - Validation loss: 0.6356908359706401, Accuracy=0.7961: 100%|██████████| 625/625 [00:07<00:00, 82.23it/s]\n",
            "Epoch 32 - Training loss: 0.6219939456963539, Accuracy=0.79642: 100%|██████████| 3125/3125 [01:08<00:00, 45.69it/s]\n",
            "Epoch 32 - Validation loss: 0.6417124105632305, Accuracy=0.7909: 100%|██████████| 625/625 [00:07<00:00, 81.16it/s]\n",
            "Epoch 33 - Training loss: 0.620495487613678, Accuracy=0.7962: 100%|██████████| 3125/3125 [01:08<00:00, 45.66it/s]\n",
            "Epoch 33 - Validation loss: 0.6455454093933105, Accuracy=0.7926: 100%|██████████| 625/625 [00:07<00:00, 81.69it/s]\n",
            "Epoch 34 - Training loss: 0.6159547969698906, Accuracy=0.797: 100%|██████████| 3125/3125 [01:08<00:00, 45.44it/s]\n",
            "Epoch 34 - Validation loss: 0.6262542536318302, Accuracy=0.7944: 100%|██████████| 625/625 [00:07<00:00, 81.13it/s]\n",
            "Epoch 35 - Training loss: 0.6149008105015755, Accuracy=0.799: 100%|██████████| 3125/3125 [01:08<00:00, 45.40it/s]\n",
            "Epoch 35 - Validation loss: 0.6315538349270821, Accuracy=0.7917: 100%|██████████| 625/625 [00:07<00:00, 81.52it/s]\n",
            "Epoch 36 - Training loss: 0.6130572981190682, Accuracy=0.79828: 100%|██████████| 3125/3125 [01:09<00:00, 44.81it/s]\n",
            "Epoch 36 - Validation loss: 0.6288577989816666, Accuracy=0.7936: 100%|██████████| 625/625 [00:07<00:00, 81.74it/s]\n",
            "Epoch 37 - Training loss: 0.6110616680312156, Accuracy=0.7993: 100%|██████████| 3125/3125 [01:09<00:00, 45.16it/s]\n",
            "Epoch 37 - Validation loss: 0.6216039869189263, Accuracy=0.7995: 100%|██████████| 625/625 [00:07<00:00, 80.94it/s]\n",
            "Epoch 38 - Training loss: 0.6065154752969741, Accuracy=0.80214: 100%|██████████| 3125/3125 [01:09<00:00, 44.81it/s]\n",
            "Epoch 38 - Validation loss: 0.6258920800685882, Accuracy=0.7975: 100%|██████████| 625/625 [00:07<00:00, 79.68it/s]\n",
            "Epoch 39 - Training loss: 0.60537433172822, Accuracy=0.8007: 100%|██████████| 3125/3125 [01:09<00:00, 44.85it/s]\n",
            "Epoch 39 - Validation loss: 0.6275403615176678, Accuracy=0.7956: 100%|██████████| 625/625 [00:07<00:00, 79.65it/s]\n"
          ],
          "name": "stderr"
        }
      ]
    },
    {
      "cell_type": "code",
      "metadata": {
        "id": "Tw4gNlQdh0Ty"
      },
      "source": [
        "PATH=\"lstm_trained_till80\"\n",
        "torch.save(model, PATH)"
      ],
      "execution_count": 24,
      "outputs": []
    },
    {
      "cell_type": "code",
      "metadata": {
        "colab": {
          "base_uri": "https://localhost:8080/"
        },
        "id": "49FecGKVrlr8",
        "outputId": "1e24c245-ac19-441c-8d89-be079b79bf45"
      },
      "source": [
        "train(model, 40, dataset, dataset_valid)"
      ],
      "execution_count": null,
      "outputs": [
        {
          "output_type": "stream",
          "text": [
            "Epoch 0 - Training loss: 0.6035108323180676, Accuracy=0.80316: 100%|██████████| 3125/3125 [01:06<00:00, 46.70it/s]\n",
            "Epoch 0 - Validation loss: 0.6395940256655216, Accuracy=0.7916: 100%|██████████| 625/625 [00:07<00:00, 84.86it/s]\n",
            "Epoch 1 - Training loss: 0.6002311852431297, Accuracy=0.804: 100%|██████████| 3125/3125 [01:06<00:00, 46.94it/s]\n",
            "Epoch 1 - Validation loss: 0.6153289589941502, Accuracy=0.8026: 100%|██████████| 625/625 [00:07<00:00, 84.79it/s]\n",
            "Epoch 2 - Training loss: 0.5992442809426785, Accuracy=0.80478: 100%|██████████| 3125/3125 [01:07<00:00, 46.55it/s]\n",
            "Epoch 2 - Validation loss: 0.6178494347453117, Accuracy=0.7997: 100%|██████████| 625/625 [00:07<00:00, 81.21it/s]\n",
            "Epoch 3 - Training loss: 0.596710424478054, Accuracy=0.80534: 100%|██████████| 3125/3125 [01:09<00:00, 44.74it/s]\n",
            "Epoch 3 - Validation loss: 0.6016052096962928, Accuracy=0.808: 100%|██████████| 625/625 [00:07<00:00, 82.50it/s]\n",
            "Epoch 4 - Training loss: 0.5967782666683197, Accuracy=0.80414: 100%|██████████| 3125/3125 [01:08<00:00, 45.88it/s]\n",
            "Epoch 4 - Validation loss: 0.6127376252174378, Accuracy=0.8012: 100%|██████████| 625/625 [00:07<00:00, 83.42it/s]\n",
            "Epoch 5 - Training loss: 0.5937782767415046, Accuracy=0.80468: 100%|██████████| 3125/3125 [01:07<00:00, 46.27it/s]\n",
            "Epoch 5 - Validation loss: 0.6256774854838848, Accuracy=0.7993: 100%|██████████| 625/625 [00:07<00:00, 84.28it/s]\n",
            "Epoch 6 - Training loss: 0.5917909102249146, Accuracy=0.80508: 100%|██████████| 3125/3125 [01:07<00:00, 46.34it/s]\n",
            "Epoch 6 - Validation loss: 0.6036019557416439, Accuracy=0.8063: 100%|██████████| 625/625 [00:07<00:00, 84.23it/s]\n",
            "Epoch 7 - Training loss: 0.20010569883584975, Accuracy=0.28106:  35%|███▍      | 1081/3125 [00:23<00:43, 47.22it/s]"
          ],
          "name": "stderr"
        }
      ]
    },
    {
      "cell_type": "code",
      "metadata": {
        "id": "CcuktdfosAIp"
      },
      "source": [
        "PATH=\"lstm_trained_till120\"\n",
        "torch.save(model, PATH)"
      ],
      "execution_count": null,
      "outputs": []
    },
    {
      "cell_type": "code",
      "metadata": {
        "id": "C5A1p8H8sB4G"
      },
      "source": [
        "train(model, 100, dataset, dataset_valid)\n",
        "PATH=\"lstm_trained_till220\"\n",
        "torch.save(model, PATH)"
      ],
      "execution_count": null,
      "outputs": []
    }
  ]
}